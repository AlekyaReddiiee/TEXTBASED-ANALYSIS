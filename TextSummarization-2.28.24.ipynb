{
 "cells": [
  {
   "cell_type": "markdown",
   "id": "c6648a7d-da45-4d68-8a9f-b5899319059b",
   "metadata": {},
   "source": [
    "<font size=\"5\"><b><center>TEXT SUMMARIZATION</center></b></font>\n",
    "<font size=\"2\"><b><center>CLASSWORK-6</center></b></font>"
   ]
  },
  {
   "cell_type": "markdown",
   "id": "b25ac0ef-7d51-45f5-a27a-8938ced95463",
   "metadata": {},
   "source": [
    "<font size=\"3\"><b><CENTER>TEXT1 SUMMARIZATION</CENTER></b></font>"
   ]
  },
  {
   "cell_type": "markdown",
   "id": "dfa239ac-ad0c-4c26-bb2a-7aa81e6ca09e",
   "metadata": {},
   "source": [
    "<font size=\"3\"><b>IMPORTING NEEDED MODELS</b></font>"
   ]
  },
  {
   "cell_type": "code",
   "execution_count": 90,
   "id": "1dbb7f01-1140-4956-9ac0-ecb8fb9a7da0",
   "metadata": {},
   "outputs": [
    {
     "name": "stdout",
     "output_type": "stream",
     "text": [
      "Requirement already satisfied: networkx in c:\\users\\aleky\\appdata\\local\\programs\\python\\python312\\lib\\site-packages (3.2.1)\n"
     ]
    }
   ],
   "source": [
    "!pip install networkx\n",
    "\n",
    "from nltk.corpus import stopwords #you can remove stop words for speed\n",
    "from nltk.cluster.util import cosine_distance\n",
    "import numpy as np\n",
    "import networkx as nx"
   ]
  },
  {
   "cell_type": "markdown",
   "id": "16849e8b-7cbe-41a6-a904-73a84503e469",
   "metadata": {},
   "source": [
    "<font size=\"3\"><b>LOADING DATA SET </b></font>"
   ]
  },
  {
   "cell_type": "code",
   "execution_count": 91,
   "id": "18a53eb4-aa98-4b5f-b285-b4c297d5a2df",
   "metadata": {},
   "outputs": [
    {
     "name": "stdout",
     "output_type": "stream",
     "text": [
      "It was the best of times. It was the worst of times. It was the age of wisdom. It was the age of foolishness. What is the importance of age. This is the best example.\n"
     ]
    }
   ],
   "source": [
    "with open('Text1.txt', 'r') as file:\n",
    "    # Read the entire contents of the file\n",
    "    contents = file.read()\n",
    "\n",
    "# Print the contents of the file\n",
    "print(contents)"
   ]
  },
  {
   "cell_type": "markdown",
   "id": "98d4f03f-6242-4401-843d-3c1eef1e9788",
   "metadata": {},
   "source": [
    "<font size=\"3\"><b>OPEN FILE AND SPLIT INTO SENTENCES</b></font>"
   ]
  },
  {
   "cell_type": "code",
   "execution_count": 92,
   "id": "1e90fd83-3d75-40e4-adcb-b39feb0e7895",
   "metadata": {},
   "outputs": [
    {
     "name": "stdout",
     "output_type": "stream",
     "text": [
      "It was the best of times\n",
      "It was the worst of times\n",
      "It was the age of wisdom\n",
      "It was the age of foolishness\n",
      "What is the importance of age\n",
      "This is the best example.\n"
     ]
    }
   ],
   "source": [
    "# Open the file \"Text1.txt\" in read mode\n",
    "file = open(\"Text1.txt\", \"r\")\n",
    "\n",
    "# Read all lines of the file into a list\n",
    "filedata = file.readlines()\n",
    "\n",
    "# Split the first paragraph into sentences based on the period followed by a space\n",
    "article = filedata[0].split(\". \")  # Assuming each sentence ends with \". \".\n",
    "\n",
    "# Initialize an empty list to store individual sentences\n",
    "sentences = []\n",
    "\n",
    "# Iterate through each sentence in the article\n",
    "for sentence in article:\n",
    "    # Print each sentence\n",
    "    print(sentence)\n",
    "    # Replace non-alphabetic characters with spaces and split the sentence into words\n",
    "    sentences.append(sentence.replace(\"[^a-zA-Z]\", \" \").split(\" \"))"
   ]
  },
  {
   "cell_type": "markdown",
   "id": "10810b83-a081-490f-8e1e-2c9868dcd1cc",
   "metadata": {},
   "source": [
    "<font size=\"3\"><b>OUR DATA: A LIST OF SENTENCES</b></font>"
   ]
  },
  {
   "cell_type": "code",
   "execution_count": 93,
   "id": "43387370-8aaa-4ddf-ab2b-4956b3d70083",
   "metadata": {},
   "outputs": [
    {
     "name": "stdout",
     "output_type": "stream",
     "text": [
      "Sentences are  [['It', 'was', 'the', 'best', 'of', 'times'], ['It', 'was', 'the', 'worst', 'of', 'times'], ['It', 'was', 'the', 'age', 'of', 'wisdom'], ['It', 'was', 'the', 'age', 'of', 'foolishness'], ['What', 'is', 'the', 'importance', 'of', 'age'], ['This', 'is', 'the', 'best', 'example.']]\n"
     ]
    }
   ],
   "source": [
    "print(\"Sentences are \", sentences)\n"
   ]
  },
  {
   "cell_type": "markdown",
   "id": "617790d0-1517-40da-b2f3-a9dadb04ca31",
   "metadata": {},
   "source": [
    "<font size=\"3\"><b>FUNCTION TO CALCULATE SIMILARITY</b></font>"
   ]
  },
  {
   "cell_type": "code",
   "execution_count": 94,
   "id": "439bea5d-7fed-4e0c-82b7-0142cf361605",
   "metadata": {},
   "outputs": [],
   "source": [
    "def sentence_similarity(sent1, sent2):\n",
    "    # Convert all words to lowercase\n",
    "    sent1 = [w.lower() for w in sent1]\n",
    "    sent2 = [w.lower() for w in sent2]\n",
    "\n",
    "    # Get all unique words from both sentences\n",
    "    all_words = list(set(sent1 + sent2))\n",
    "\n",
    "    # Initialize vectors for both sentences with zeros\n",
    "    vector1 = [0] * len(all_words)\n",
    "    vector2 = [0] * len(all_words)\n",
    "\n",
    "    # Build the vector for the first sentence\n",
    "    for w in sent1:\n",
    "        # Increment the count of the word in the vector\n",
    "        vector1[all_words.index(w)] += 1\n",
    "\n",
    "    # Build the vector for the second sentence\n",
    "    for w in sent2:\n",
    "        # Increment the count of the word in the vector\n",
    "        vector2[all_words.index(w)] += 1\n",
    "        return 1 - cosine_distance(vector1, vector2)\n"
   ]
  },
  {
   "cell_type": "markdown",
   "id": "095d8873-21f3-46f4-a68f-ae1dff83adad",
   "metadata": {},
   "source": [
    "<font size=\"3\"><b>CREATING THE SIMILARITY MATRIX</b></font>"
   ]
  },
  {
   "cell_type": "code",
   "execution_count": 95,
   "id": "64285255-2a43-42a6-9b18-50c780dfee9a",
   "metadata": {},
   "outputs": [
    {
     "name": "stdout",
     "output_type": "stream",
     "text": [
      "Smilarity matrix \n",
      " [[0.         0.40824829 0.40824829 0.40824829 0.         0.        ]\n",
      " [0.40824829 0.         0.40824829 0.40824829 0.         0.        ]\n",
      " [0.40824829 0.40824829 0.         0.40824829 0.         0.        ]\n",
      " [0.40824829 0.40824829 0.40824829 0.         0.         0.        ]\n",
      " [0.         0.         0.         0.         0.         0.        ]\n",
      " [0.         0.         0.         0.         0.         0.        ]]\n"
     ]
    }
   ],
   "source": [
    "similarity_matrix = np.zeros((len(sentences), len(sentences)))\n",
    " \n",
    "for idx1 in range(len(sentences)):\n",
    "        for idx2 in range(len(sentences)):\n",
    "             if idx1 == idx2: #ignore if both are same sentences\n",
    "                continue \n",
    "             similarity_matrix[idx1][idx2] = sentence_similarity(sentences[idx1], sentences[idx2])\n",
    "\n",
    "print(\"Smilarity matrix \\n\", similarity_matrix)\n"
   ]
  },
  {
   "cell_type": "markdown",
   "id": "a0908928-73d8-4300-ace1-bcc7c8f93cff",
   "metadata": {},
   "source": [
    "<font size=\"3\"><b>GET THE PAGERANK SCORES</b></font>"
   ]
  },
  {
   "cell_type": "code",
   "execution_count": 96,
   "id": "418b4816-5da0-495e-888e-acf023442ef0",
   "metadata": {},
   "outputs": [
    {
     "name": "stdout",
     "output_type": "stream",
     "text": [
      "PageRank scores: {0: 0.2325579198470909, 1: 0.2325579198470909, 2: 0.2325579198470909, 3: 0.2325579198470909, 4: 0.03488416030581799, 5: 0.03488416030581799}\n"
     ]
    }
   ],
   "source": [
    "import networkx as nx\n",
    "\n",
    "# Create a graph from the similarity matrix using NetworkX\n",
    "sentence_similarity_graph = nx.from_numpy_array(similarity_matrix)\n",
    "\n",
    "# Calculate the PageRank scores for each node (sentence) in the graph\n",
    "scores = nx.pagerank(sentence_similarity_graph)\n",
    "\n",
    "# Print the PageRank scores\n",
    "print(\"PageRank scores:\", scores)"
   ]
  },
  {
   "cell_type": "markdown",
   "id": "40f5f62b-d209-4b0c-bbf1-b3a416cbc11a",
   "metadata": {},
   "source": [
    "<font size=\"3\"><b>SORT SENTENCES BY PAGERANK</b></font></b></font>"
   ]
  },
  {
   "cell_type": "code",
   "execution_count": 97,
   "id": "3acf08e6-2ef7-41a4-9a59-89a70656ddb5",
   "metadata": {},
   "outputs": [
    {
     "name": "stdout",
     "output_type": "stream",
     "text": [
      "Indexes of top ranked sentences in descending order:\n",
      " [(0.2325579198470909, ['It', 'was', 'the', 'worst', 'of', 'times']), (0.2325579198470909, ['It', 'was', 'the', 'best', 'of', 'times']), (0.2325579198470909, ['It', 'was', 'the', 'age', 'of', 'wisdom']), (0.2325579198470909, ['It', 'was', 'the', 'age', 'of', 'foolishness']), (0.03488416030581799, ['What', 'is', 'the', 'importance', 'of', 'age']), (0.03488416030581799, ['This', 'is', 'the', 'best', 'example.'])]\n"
     ]
    }
   ],
   "source": [
    "# Sort the sentences based on their PageRank scores in descending order\n",
    "ranked_sentence = sorted(((scores[i], s) for i, s in enumerate(sentences)), reverse=True)\n",
    "\n",
    "# Print the indexes of top-ranked sentences in the order of their importance\n",
    "print(\"Indexes of top ranked sentences in descending order:\\n\", ranked_sentence)"
   ]
  },
  {
   "cell_type": "markdown",
   "id": "8abf0b83-8309-4c55-975d-f02ff2f5fdc2",
   "metadata": {},
   "source": [
    "<font size=\"3\"><b>PICK THE TOP \"N\" SENTENCES </b></font>"
   ]
  },
  {
   "cell_type": "code",
   "execution_count": 98,
   "id": "25a33e83-fc2f-4599-9844-e1bc2b4cd428",
   "metadata": {},
   "outputs": [
    {
     "name": "stdin",
     "output_type": "stream",
     "text": [
      "How many sentences do you want in the summary?  2\n"
     ]
    }
   ],
   "source": [
    "# Step 5 - How many sentences to pick\n",
    "\n",
    "# Prompt the user to input the number of sentences they want in the summary\n",
    "n = int(input(\"How many sentences do you want in the summary? \"))\n",
    "\n",
    "# Initialize an empty list to store the summarized sentences\n",
    "summarize_text = []\n",
    "\n",
    "# Iterate through the top n ranked sentences and join them into a single string\n",
    "for i in range(n):\n",
    "    # Append the joined sentence to the summarize_text list\n",
    "    summarize_text.append(\" \".join(ranked_sentence[i][1]))"
   ]
  },
  {
   "cell_type": "markdown",
   "id": "9410fbb1-1c0d-46c9-96ad-fc120b353529",
   "metadata": {},
   "source": [
    "<font size=\"3\"><b>PRINTING THE SUMMARY</b></font>"
   ]
  },
  {
   "cell_type": "code",
   "execution_count": 99,
   "id": "ff2197fb-ca99-4bcb-b1db-7ae26327ac41",
   "metadata": {},
   "outputs": [
    {
     "name": "stdout",
     "output_type": "stream",
     "text": [
      "Summarized Text:\n",
      " It was the worst of times. It was the best of times\n"
     ]
    }
   ],
   "source": [
    "# Step 6 - Output the summarized text\n",
    "\n",
    "# Print the summarized text by joining the sentences with a period and a space\n",
    "print(\"Summarized Text:\\n\", \". \".join(summarize_text))"
   ]
  },
  {
   "cell_type": "markdown",
   "id": "5f1523fa-ed23-4615-93f4-5ab3ba5ac4c6",
   "metadata": {},
   "source": [
    "<font size=\"3\"><b><CENTER>TEXT2 SUMMARIZATION</CENTER></b></font>"
   ]
  },
  {
   "cell_type": "markdown",
   "id": "84d3e25a-542b-4dad-95a4-fe080d630ed8",
   "metadata": {},
   "source": [
    "<font size=\"3\"><b>LOADING DATA SET </b></font>"
   ]
  },
  {
   "cell_type": "code",
   "execution_count": 100,
   "id": "1921f3b2-2a33-4d58-bffa-c15a81a1919f",
   "metadata": {},
   "outputs": [
    {
     "name": "stdout",
     "output_type": "stream",
     "text": [
      "I AM SAM. I AM SAM. SAM I AM. THAT SAM-I-AM! THAT SAM-I-AM!. I DO NOT LIKE THAT SAM-I-AM!. DO WOULD YOU LIKE GREEN EGGS AND HAM?. I DO NOT LIKE THEM, SAM-I-AM. I DO NOT LIKE GREEN EGGS AND HAM. WOULD YOU LIKE THEM HERE OR THERE?. I WOULD NOT LIKE THEM HERE OR THERE. I WOULD NOT LIKE THEM ANYWHERE. I DO NOT LIKE GREEN EGGS AND HAM. I DO NOT LIKE THEM, SAM-I-AM. WOULD YOU LIKE THEM IN A HOUSE?. WOULD YOU LIKE THEN WITH A MOUSE?. I DO NOT LIKE THEM IN A HOUSE. I DO NOT LIKE THEM WITH A MOUSE. I DO NOT LIKE THEM HERE OR THERE. I DO NOT LIKE THEM ANYWHERE. I DO NOT LIKE GREEN EGGS AND HAM. I DO NOT LIKE THEM, SAM-I-AM.\n",
      "  \n"
     ]
    }
   ],
   "source": [
    "with open('Text2.txt', 'r') as file:\n",
    "    # Read the entire contents of the file\n",
    "    contents = file.read()\n",
    "\n",
    "# Print the contents of the file\n",
    "print(contents)"
   ]
  },
  {
   "cell_type": "markdown",
   "id": "89d32c5b-f8b9-4607-a3af-96d36a1f30a6",
   "metadata": {},
   "source": [
    "<font size=\"3\"><b>OPEN FILE AND SPLIT INTO SENTENCES</b></font>"
   ]
  },
  {
   "cell_type": "code",
   "execution_count": 101,
   "id": "15accd17-bf3f-4bdd-8fe4-0aec39978cbe",
   "metadata": {},
   "outputs": [
    {
     "name": "stdout",
     "output_type": "stream",
     "text": [
      "I AM SAM\n",
      "I AM SAM\n",
      "SAM I AM\n",
      "THAT SAM-I-AM! THAT SAM-I-AM!\n",
      "I DO NOT LIKE THAT SAM-I-AM!\n",
      "DO WOULD YOU LIKE GREEN EGGS AND HAM?\n",
      "I DO NOT LIKE THEM, SAM-I-AM\n",
      "I DO NOT LIKE GREEN EGGS AND HAM\n",
      "WOULD YOU LIKE THEM HERE OR THERE?\n",
      "I WOULD NOT LIKE THEM HERE OR THERE\n",
      "I WOULD NOT LIKE THEM ANYWHERE\n",
      "I DO NOT LIKE GREEN EGGS AND HAM\n",
      "I DO NOT LIKE THEM, SAM-I-AM\n",
      "WOULD YOU LIKE THEM IN A HOUSE?\n",
      "WOULD YOU LIKE THEN WITH A MOUSE?\n",
      "I DO NOT LIKE THEM IN A HOUSE\n",
      "I DO NOT LIKE THEM WITH A MOUSE\n",
      "I DO NOT LIKE THEM HERE OR THERE\n",
      "I DO NOT LIKE THEM ANYWHERE\n",
      "I DO NOT LIKE GREEN EGGS AND HAM\n",
      "I DO NOT LIKE THEM, SAM-I-AM.\n",
      "\n"
     ]
    }
   ],
   "source": [
    "# Open the file \"Text1.txt\" in read mode\n",
    "file = open(\"Text2.txt\", \"r\")\n",
    "\n",
    "# Read all lines of the file into a list\n",
    "filedata = file.readlines()\n",
    "\n",
    "# Split the first paragraph into sentences based on the period followed by a space\n",
    "article = filedata[0].split(\". \")  # Assuming each sentence ends with \". \".\n",
    "\n",
    "# Initialize an empty list to store individual sentences\n",
    "sentences = []\n",
    "\n",
    "# Iterate through each sentence in the article\n",
    "for sentence in article:\n",
    "    # Print each sentence\n",
    "    print(sentence)\n",
    "    # Replace non-alphabetic characters with spaces and split the sentence into words\n",
    "    sentences.append(sentence.replace(\"[^a-zA-Z]\", \" \").split(\" \"))"
   ]
  },
  {
   "cell_type": "markdown",
   "id": "2c76255d-d562-4a44-9e6a-7e99b8a87861",
   "metadata": {},
   "source": [
    "<font size=\"3\"><b>OUR DATA: A LIST OF SENTENCES</b></font>"
   ]
  },
  {
   "cell_type": "code",
   "execution_count": 102,
   "id": "260e3aff-2da3-4fd6-a06b-ccf4fc295539",
   "metadata": {},
   "outputs": [
    {
     "name": "stdout",
     "output_type": "stream",
     "text": [
      "Sentences are  [['I', 'AM', 'SAM'], ['I', 'AM', 'SAM'], ['SAM', 'I', 'AM'], ['THAT', 'SAM-I-AM!', 'THAT', 'SAM-I-AM!'], ['I', 'DO', 'NOT', 'LIKE', 'THAT', 'SAM-I-AM!'], ['DO', 'WOULD', 'YOU', 'LIKE', 'GREEN', 'EGGS', 'AND', 'HAM?'], ['I', 'DO', 'NOT', 'LIKE', 'THEM,', 'SAM-I-AM'], ['I', 'DO', 'NOT', 'LIKE', 'GREEN', 'EGGS', 'AND', 'HAM'], ['WOULD', 'YOU', 'LIKE', 'THEM', 'HERE', 'OR', 'THERE?'], ['I', 'WOULD', 'NOT', 'LIKE', 'THEM', 'HERE', 'OR', 'THERE'], ['I', 'WOULD', 'NOT', 'LIKE', 'THEM', 'ANYWHERE'], ['I', 'DO', 'NOT', 'LIKE', 'GREEN', 'EGGS', 'AND', 'HAM'], ['I', 'DO', 'NOT', 'LIKE', 'THEM,', 'SAM-I-AM'], ['WOULD', 'YOU', 'LIKE', 'THEM', 'IN', 'A', 'HOUSE?'], ['WOULD', 'YOU', 'LIKE', 'THEN', 'WITH', 'A', 'MOUSE?'], ['I', 'DO', 'NOT', 'LIKE', 'THEM', 'IN', 'A', 'HOUSE'], ['I', 'DO', 'NOT', 'LIKE', 'THEM', 'WITH', 'A', 'MOUSE'], ['I', 'DO', 'NOT', 'LIKE', 'THEM', 'HERE', 'OR', 'THERE'], ['I', 'DO', 'NOT', 'LIKE', 'THEM', 'ANYWHERE'], ['I', 'DO', 'NOT', 'LIKE', 'GREEN', 'EGGS', 'AND', 'HAM'], ['I', 'DO', 'NOT', 'LIKE', 'THEM,', 'SAM-I-AM.\\n']]\n"
     ]
    }
   ],
   "source": [
    "print(\"Sentences are \", sentences)"
   ]
  },
  {
   "cell_type": "markdown",
   "id": "0c26534b-bfe6-4978-8fb0-32592ad58c61",
   "metadata": {},
   "source": [
    "<font size=\"3\"><b>FUNCTION TO CALCULATE SIMILARITY</b></font>"
   ]
  },
  {
   "cell_type": "code",
   "execution_count": 103,
   "id": "9d1e4dd4-518f-410f-b6e4-dd8a33b5388f",
   "metadata": {},
   "outputs": [],
   "source": [
    "def sentence_similarity(sent1, sent2):\n",
    "    # Convert all words to lowercase\n",
    "    sent1 = [w.lower() for w in sent1]\n",
    "    sent2 = [w.lower() for w in sent2]\n",
    "\n",
    "    # Get all unique words from both sentences\n",
    "    all_words = list(set(sent1 + sent2))\n",
    "\n",
    "    # Initialize vectors for both sentences with zeros\n",
    "    vector1 = [0] * len(all_words)\n",
    "    vector2 = [0] * len(all_words)\n",
    "\n",
    "    # Build the vector for the first sentence\n",
    "    for w in sent1:\n",
    "        # Increment the count of the word in the vector\n",
    "        vector1[all_words.index(w)] += 1\n",
    "\n",
    "    # Build the vector for the second sentence\n",
    "    for w in sent2:\n",
    "        # Increment the count of the word in the vector\n",
    "        vector2[all_words.index(w)] += 1\n",
    "        return 1 - cosine_distance(vector1, vector2)"
   ]
  },
  {
   "cell_type": "markdown",
   "id": "723f45b1-1e41-4af0-a3ec-27239a1e3375",
   "metadata": {},
   "source": [
    "<font size=\"3\"><b>CREATING THE SIMILARITY MATRIX</b></font>"
   ]
  },
  {
   "cell_type": "code",
   "execution_count": 104,
   "id": "e8510def-fe75-40b9-b7b3-828842b5a422",
   "metadata": {},
   "outputs": [
    {
     "name": "stdout",
     "output_type": "stream",
     "text": [
      "Smilarity matrix \n",
      " [[0.         0.57735027 0.57735027 0.         0.57735027 0.\n",
      "  0.57735027 0.57735027 0.         0.57735027 0.57735027 0.57735027\n",
      "  0.57735027 0.         0.         0.57735027 0.57735027 0.57735027\n",
      "  0.57735027 0.57735027 0.57735027]\n",
      " [0.57735027 0.         0.57735027 0.         0.57735027 0.\n",
      "  0.57735027 0.57735027 0.         0.57735027 0.57735027 0.57735027\n",
      "  0.57735027 0.         0.         0.57735027 0.57735027 0.57735027\n",
      "  0.57735027 0.57735027 0.57735027]\n",
      " [0.57735027 0.57735027 0.         0.         0.57735027 0.\n",
      "  0.57735027 0.57735027 0.         0.57735027 0.57735027 0.57735027\n",
      "  0.57735027 0.         0.         0.57735027 0.57735027 0.57735027\n",
      "  0.57735027 0.57735027 0.57735027]\n",
      " [0.         0.         0.         0.         0.         0.\n",
      "  0.         0.         0.         0.         0.         0.\n",
      "  0.         0.         0.         0.         0.         0.\n",
      "  0.         0.         0.        ]\n",
      " [0.40824829 0.40824829 0.         0.40824829 0.         0.40824829\n",
      "  0.40824829 0.40824829 0.         0.40824829 0.40824829 0.40824829\n",
      "  0.40824829 0.         0.         0.40824829 0.40824829 0.40824829\n",
      "  0.40824829 0.40824829 0.40824829]\n",
      " [0.         0.         0.         0.         0.         0.\n",
      "  0.         0.         0.35355339 0.         0.         0.\n",
      "  0.         0.35355339 0.35355339 0.         0.         0.\n",
      "  0.         0.         0.        ]\n",
      " [0.40824829 0.40824829 0.         0.         0.40824829 0.40824829\n",
      "  0.         0.40824829 0.         0.40824829 0.40824829 0.40824829\n",
      "  0.40824829 0.         0.         0.40824829 0.40824829 0.40824829\n",
      "  0.40824829 0.40824829 0.40824829]\n",
      " [0.35355339 0.35355339 0.         0.         0.35355339 0.35355339\n",
      "  0.35355339 0.         0.         0.35355339 0.35355339 0.35355339\n",
      "  0.35355339 0.         0.         0.35355339 0.35355339 0.35355339\n",
      "  0.35355339 0.35355339 0.35355339]\n",
      " [0.         0.         0.         0.         0.         0.\n",
      "  0.         0.         0.         0.         0.         0.\n",
      "  0.         0.37796447 0.37796447 0.         0.         0.\n",
      "  0.         0.         0.        ]\n",
      " [0.35355339 0.35355339 0.         0.         0.35355339 0.\n",
      "  0.35355339 0.35355339 0.35355339 0.         0.35355339 0.35355339\n",
      "  0.35355339 0.35355339 0.35355339 0.35355339 0.35355339 0.35355339\n",
      "  0.35355339 0.35355339 0.35355339]\n",
      " [0.40824829 0.40824829 0.         0.         0.40824829 0.\n",
      "  0.40824829 0.40824829 0.40824829 0.40824829 0.         0.40824829\n",
      "  0.40824829 0.40824829 0.40824829 0.40824829 0.40824829 0.40824829\n",
      "  0.40824829 0.40824829 0.40824829]\n",
      " [0.35355339 0.35355339 0.         0.         0.35355339 0.35355339\n",
      "  0.35355339 0.35355339 0.         0.35355339 0.35355339 0.\n",
      "  0.35355339 0.         0.         0.35355339 0.35355339 0.35355339\n",
      "  0.35355339 0.35355339 0.35355339]\n",
      " [0.40824829 0.40824829 0.         0.         0.40824829 0.40824829\n",
      "  0.40824829 0.40824829 0.         0.40824829 0.40824829 0.40824829\n",
      "  0.         0.         0.         0.40824829 0.40824829 0.40824829\n",
      "  0.40824829 0.40824829 0.40824829]\n",
      " [0.         0.         0.         0.         0.         0.\n",
      "  0.         0.         0.37796447 0.         0.         0.\n",
      "  0.         0.         0.37796447 0.         0.         0.\n",
      "  0.         0.         0.        ]\n",
      " [0.         0.         0.         0.         0.         0.\n",
      "  0.         0.         0.37796447 0.         0.         0.\n",
      "  0.         0.37796447 0.         0.         0.         0.\n",
      "  0.         0.         0.        ]\n",
      " [0.35355339 0.35355339 0.         0.         0.35355339 0.35355339\n",
      "  0.35355339 0.35355339 0.         0.35355339 0.35355339 0.35355339\n",
      "  0.35355339 0.         0.         0.         0.35355339 0.35355339\n",
      "  0.35355339 0.35355339 0.35355339]\n",
      " [0.35355339 0.35355339 0.         0.         0.35355339 0.35355339\n",
      "  0.35355339 0.35355339 0.         0.35355339 0.35355339 0.35355339\n",
      "  0.35355339 0.         0.         0.35355339 0.         0.35355339\n",
      "  0.35355339 0.35355339 0.35355339]\n",
      " [0.35355339 0.35355339 0.         0.         0.35355339 0.35355339\n",
      "  0.35355339 0.35355339 0.         0.35355339 0.35355339 0.35355339\n",
      "  0.35355339 0.         0.         0.35355339 0.35355339 0.\n",
      "  0.35355339 0.35355339 0.35355339]\n",
      " [0.40824829 0.40824829 0.         0.         0.40824829 0.40824829\n",
      "  0.40824829 0.40824829 0.         0.40824829 0.40824829 0.40824829\n",
      "  0.40824829 0.         0.         0.40824829 0.40824829 0.40824829\n",
      "  0.         0.40824829 0.40824829]\n",
      " [0.35355339 0.35355339 0.         0.         0.35355339 0.35355339\n",
      "  0.35355339 0.35355339 0.         0.35355339 0.35355339 0.35355339\n",
      "  0.35355339 0.         0.         0.35355339 0.35355339 0.35355339\n",
      "  0.35355339 0.         0.35355339]\n",
      " [0.40824829 0.40824829 0.         0.         0.40824829 0.40824829\n",
      "  0.40824829 0.40824829 0.         0.40824829 0.40824829 0.40824829\n",
      "  0.40824829 0.         0.         0.40824829 0.40824829 0.40824829\n",
      "  0.40824829 0.40824829 0.        ]]\n"
     ]
    }
   ],
   "source": [
    "similarity_matrix = np.zeros((len(sentences), len(sentences)))\n",
    " \n",
    "for idx1 in range(len(sentences)):\n",
    "        for idx2 in range(len(sentences)):\n",
    "             if idx1 == idx2: #ignore if both are same sentences\n",
    "                continue \n",
    "             similarity_matrix[idx1][idx2] = sentence_similarity(sentences[idx1], sentences[idx2])\n",
    "\n",
    "print(\"Smilarity matrix \\n\", similarity_matrix)"
   ]
  },
  {
   "cell_type": "markdown",
   "id": "1a8750f5-9eb8-46ad-801a-055347357e72",
   "metadata": {},
   "source": [
    "<font size=\"3\"><b>GET THE PAGERANK SCORES</b></font>"
   ]
  },
  {
   "cell_type": "code",
   "execution_count": 105,
   "id": "3f922ae9-b3d1-4e0f-bfaa-1fc4b4e6fb08",
   "metadata": {},
   "outputs": [
    {
     "name": "stdout",
     "output_type": "stream",
     "text": [
      "PageRank scores: {0: 0.050440994143809606, 1: 0.050440994143809606, 2: 0.06909064382333219, 3: 0.01028623847637567, 4: 0.06093175450791308, 5: 0.04822947675170616, 6: 0.05245116326559067, 7: 0.05082011624447269, 8: 0.023697268637585867, 9: 0.05934643312840842, 10: 0.06308246678787559, 11: 0.0504128558924508, 12: 0.053640837351319796, 13: 0.023697268637585867, 14: 0.023697268637585867, 15: 0.05002473620131211, 16: 0.05002473620131211, 17: 0.05002473620131211, 18: 0.05481518192707897, 19: 0.04963777807541776, 20: 0.05520705096374459}\n"
     ]
    }
   ],
   "source": [
    "import networkx as nx\n",
    "\n",
    "# Create a graph from the similarity matrix using NetworkX\n",
    "sentence_similarity_graph = nx.from_numpy_array(similarity_matrix)\n",
    "\n",
    "# Calculate the PageRank scores for each node (sentence) in the graph\n",
    "scores = nx.pagerank(sentence_similarity_graph)\n",
    "\n",
    "# Print the PageRank scores\n",
    "print(\"PageRank scores:\", scores)"
   ]
  },
  {
   "cell_type": "markdown",
   "id": "bc762d53-46b5-4599-b908-9b10e0f210ed",
   "metadata": {},
   "source": [
    "<font size=\"3\"><b>SORT SENTENCES BY PAGERANK</b></font>"
   ]
  },
  {
   "cell_type": "code",
   "execution_count": 106,
   "id": "8d964353-12f8-493f-af49-abe39c82297d",
   "metadata": {},
   "outputs": [
    {
     "name": "stdout",
     "output_type": "stream",
     "text": [
      "Indexes of top ranked sentences in descending order:\n",
      " [(0.06909064382333219, ['SAM', 'I', 'AM']), (0.06308246678787559, ['I', 'WOULD', 'NOT', 'LIKE', 'THEM', 'ANYWHERE']), (0.06093175450791308, ['I', 'DO', 'NOT', 'LIKE', 'THAT', 'SAM-I-AM!']), (0.05934643312840842, ['I', 'WOULD', 'NOT', 'LIKE', 'THEM', 'HERE', 'OR', 'THERE']), (0.05520705096374459, ['I', 'DO', 'NOT', 'LIKE', 'THEM,', 'SAM-I-AM.\\n']), (0.05481518192707897, ['I', 'DO', 'NOT', 'LIKE', 'THEM', 'ANYWHERE']), (0.053640837351319796, ['I', 'DO', 'NOT', 'LIKE', 'THEM,', 'SAM-I-AM']), (0.05245116326559067, ['I', 'DO', 'NOT', 'LIKE', 'THEM,', 'SAM-I-AM']), (0.05082011624447269, ['I', 'DO', 'NOT', 'LIKE', 'GREEN', 'EGGS', 'AND', 'HAM']), (0.050440994143809606, ['I', 'AM', 'SAM']), (0.050440994143809606, ['I', 'AM', 'SAM']), (0.0504128558924508, ['I', 'DO', 'NOT', 'LIKE', 'GREEN', 'EGGS', 'AND', 'HAM']), (0.05002473620131211, ['I', 'DO', 'NOT', 'LIKE', 'THEM', 'WITH', 'A', 'MOUSE']), (0.05002473620131211, ['I', 'DO', 'NOT', 'LIKE', 'THEM', 'IN', 'A', 'HOUSE']), (0.05002473620131211, ['I', 'DO', 'NOT', 'LIKE', 'THEM', 'HERE', 'OR', 'THERE']), (0.04963777807541776, ['I', 'DO', 'NOT', 'LIKE', 'GREEN', 'EGGS', 'AND', 'HAM']), (0.04822947675170616, ['DO', 'WOULD', 'YOU', 'LIKE', 'GREEN', 'EGGS', 'AND', 'HAM?']), (0.023697268637585867, ['WOULD', 'YOU', 'LIKE', 'THEN', 'WITH', 'A', 'MOUSE?']), (0.023697268637585867, ['WOULD', 'YOU', 'LIKE', 'THEM', 'IN', 'A', 'HOUSE?']), (0.023697268637585867, ['WOULD', 'YOU', 'LIKE', 'THEM', 'HERE', 'OR', 'THERE?']), (0.01028623847637567, ['THAT', 'SAM-I-AM!', 'THAT', 'SAM-I-AM!'])]\n"
     ]
    }
   ],
   "source": [
    "# Sort the sentences based on their PageRank scores in descending order\n",
    "ranked_sentence = sorted(((scores[i], s) for i, s in enumerate(sentences)), reverse=True)\n",
    "\n",
    "# Print the indexes of top-ranked sentences in the order of their importance\n",
    "print(\"Indexes of top ranked sentences in descending order:\\n\", ranked_sentence)"
   ]
  },
  {
   "cell_type": "markdown",
   "id": "eb73ce8f-2bfe-4687-a4a9-558737cbedc4",
   "metadata": {},
   "source": [
    "<font size=\"3\"><b>PICK THE TOP \"N\" SENTENCES </b></font>"
   ]
  },
  {
   "cell_type": "code",
   "execution_count": 107,
   "id": "89100e3b-312f-4228-b667-04da61676a9c",
   "metadata": {},
   "outputs": [
    {
     "name": "stdin",
     "output_type": "stream",
     "text": [
      "How many sentences do you want in the summary?  3\n"
     ]
    }
   ],
   "source": [
    "# Step 5 - How many sentences to pick\n",
    "\n",
    "# Prompt the user to input the number of sentences they want in the summary\n",
    "n = int(input(\"How many sentences do you want in the summary? \"))\n",
    "\n",
    "# Initialize an empty list to store the summarized sentences\n",
    "summarize_text = []\n",
    "\n",
    "# Iterate through the top n ranked sentences and join them into a single string\n",
    "for i in range(n):\n",
    "    # Append the joined sentence to the summarize_text list\n",
    "    summarize_text.append(\" \".join(ranked_sentence[i][1]))"
   ]
  },
  {
   "cell_type": "markdown",
   "id": "75e4eb6d-14a8-4167-9aa1-9fb1edb86f9a",
   "metadata": {},
   "source": [
    "<font size=\"3\"><b>PRINTING THE SUMMARY</b></font>"
   ]
  },
  {
   "cell_type": "code",
   "execution_count": 108,
   "id": "b0562b50-d44a-44ea-b959-22292fde6b78",
   "metadata": {},
   "outputs": [
    {
     "name": "stdout",
     "output_type": "stream",
     "text": [
      "Summarized Text:\n",
      " SAM I AM. I WOULD NOT LIKE THEM ANYWHERE. I DO NOT LIKE THAT SAM-I-AM!\n"
     ]
    }
   ],
   "source": [
    "# Step 6 - Output the summarized text\n",
    "\n",
    "# Print the summarized text by joining the sentences with a period and a space\n",
    "print(\"Summarized Text:\\n\", \". \".join(summarize_text))"
   ]
  },
  {
   "cell_type": "markdown",
   "id": "10892eb2-3a24-4a5f-acd8-eb941e5ff0e0",
   "metadata": {},
   "source": [
    "<font size=\"3\"><b><CENTER>TEXT3 SUMMARIZATION</CENTER></b></font>"
   ]
  },
  {
   "cell_type": "markdown",
   "id": "457a5658-eaaa-46a3-9b94-b95f10231494",
   "metadata": {},
   "source": [
    "<font size=\"3\"><b>LOADING DATA SET </b></font>"
   ]
  },
  {
   "cell_type": "code",
   "execution_count": 109,
   "id": "7a49ee4d-5262-4e20-bcc2-417b2f2dfcb2",
   "metadata": {},
   "outputs": [
    {
     "name": "stdout",
     "output_type": "stream",
     "text": [
      "As an institution of higher learning, Sacred Heart University places special emphasis on academic integrity, which is a commitment to the fundamental values of honesty, trust, fairness, respect, and responsibility. Only when these values are widely respected and practiced by all members of the University students, faculty, administrators, and staff can the University maintain a culture that promotes free exploration of knowledge, constructive debate, genuine learning, effective research, fair assessment of student progress, and development of members characters. These aims of the University require that its members exercise mutual responsibilities. At its core, academic integrity is secured by a principled commitment to carry out these responsibilities, not by rules and penalties. Students and faculty should strive to create an academic environment that is honest, fair, and respectful of all. They do this by evaluating others work fairly, by responding to others ideas critically yet courteously, by respecting others intellectual and physical property, and by nurturing the values of academic integrity in all contexts of University life. Appropriate disciplinary action will be taken for violations of academic integrity, including plagiarism, cheating, any use of materials for an assignment or exam that is not permitted by the instructor, and theft or mutilation of intellectual materials or other University equipment. Faculty will assign failing grades for violations of the University policy on academic integrity and students may immediately receive an F for a course in which they commit a violation. Violations of academic integrity are kept on file second violations will bring additional sanctions, up to dismissal from the University. For any disciplinary action, the University affords the student the right of due process in an appeals procedure. All matriculated students will be provided with a full description of the University standards for academic integrity, consequences for violations, and the appeals procedure.\n"
     ]
    }
   ],
   "source": [
    "with open('Text3.txt', 'r') as file:\n",
    "    # Read the entire contents of the file\n",
    "    contents = file.read()\n",
    "\n",
    "# Print the contents of the file\n",
    "print(contents)"
   ]
  },
  {
   "cell_type": "markdown",
   "id": "98189daf-9f76-4a6b-ac8b-33681ab156dc",
   "metadata": {},
   "source": [
    "<font size=\"3\"><b>OPEN FILE AND SPLIT INTO SENTENCES</b></font>"
   ]
  },
  {
   "cell_type": "code",
   "execution_count": 110,
   "id": "20b48160-51b7-4bf0-b7f5-5d7b92361522",
   "metadata": {},
   "outputs": [
    {
     "name": "stdout",
     "output_type": "stream",
     "text": [
      "As an institution of higher learning, Sacred Heart University places special emphasis on academic integrity, which is a commitment to the fundamental values of honesty, trust, fairness, respect, and responsibility\n",
      "Only when these values are widely respected and practiced by all members of the University students, faculty, administrators, and staff can the University maintain a culture that promotes free exploration of knowledge, constructive debate, genuine learning, effective research, fair assessment of student progress, and development of members characters\n",
      "These aims of the University require that its members exercise mutual responsibilities\n",
      "At its core, academic integrity is secured by a principled commitment to carry out these responsibilities, not by rules and penalties\n",
      "Students and faculty should strive to create an academic environment that is honest, fair, and respectful of all\n",
      "They do this by evaluating others work fairly, by responding to others ideas critically yet courteously, by respecting others intellectual and physical property, and by nurturing the values of academic integrity in all contexts of University life\n",
      "Appropriate disciplinary action will be taken for violations of academic integrity, including plagiarism, cheating, any use of materials for an assignment or exam that is not permitted by the instructor, and theft or mutilation of intellectual materials or other University equipment\n",
      "Faculty will assign failing grades for violations of the University policy on academic integrity and students may immediately receive an F for a course in which they commit a violation\n",
      "Violations of academic integrity are kept on file second violations will bring additional sanctions, up to dismissal from the University\n",
      "For any disciplinary action, the University affords the student the right of due process in an appeals procedure\n",
      "All matriculated students will be provided with a full description of the University standards for academic integrity, consequences for violations, and the appeals procedure.\n"
     ]
    }
   ],
   "source": [
    "# Open the file \"Text1.txt\" in read mode\n",
    "file = open(\"Text3.txt\", \"r\")\n",
    "\n",
    "# Read all lines of the file into a list\n",
    "filedata = file.readlines()\n",
    "\n",
    "# Split the first paragraph into sentences based on the period followed by a space\n",
    "article = filedata[0].split(\". \")  # Assuming each sentence ends with \". \".\n",
    "\n",
    "# Initialize an empty list to store individual sentences\n",
    "sentences = []\n",
    "\n",
    "# Iterate through each sentence in the article\n",
    "for sentence in article:\n",
    "    # Print each sentence\n",
    "    print(sentence)\n",
    "    # Replace non-alphabetic characters with spaces and split the sentence into words\n",
    "    sentences.append(sentence.replace(\"[^a-zA-Z]\", \" \").split(\" \"))"
   ]
  },
  {
   "cell_type": "markdown",
   "id": "f2775a6d-e525-4117-b617-d1135b4d43b0",
   "metadata": {},
   "source": [
    "<font size=\"3\"><b>OUR DATA: A LIST OF SENTENCES</b></font>"
   ]
  },
  {
   "cell_type": "code",
   "execution_count": 111,
   "id": "d85c2f0a-5ebf-433a-a233-884e2613568b",
   "metadata": {},
   "outputs": [
    {
     "name": "stdout",
     "output_type": "stream",
     "text": [
      "Sentences are  [['As', 'an', 'institution', 'of', 'higher', 'learning,', 'Sacred', 'Heart', 'University', 'places', 'special', 'emphasis', 'on', 'academic', 'integrity,', 'which', 'is', 'a', 'commitment', 'to', 'the', 'fundamental', 'values', 'of', 'honesty,', 'trust,', 'fairness,', 'respect,', 'and', 'responsibility'], ['Only', 'when', 'these', 'values', 'are', 'widely', 'respected', 'and', 'practiced', 'by', 'all', 'members', 'of', 'the', 'University', 'students,', 'faculty,', 'administrators,', 'and', 'staff', 'can', 'the', 'University', 'maintain', 'a', 'culture', 'that', 'promotes', 'free', 'exploration', 'of', 'knowledge,', 'constructive', 'debate,', 'genuine', 'learning,', 'effective', 'research,', 'fair', 'assessment', 'of', 'student', 'progress,', 'and', 'development', 'of', 'members', 'characters'], ['These', 'aims', 'of', 'the', 'University', 'require', 'that', 'its', 'members', 'exercise', 'mutual', 'responsibilities'], ['At', 'its', 'core,', 'academic', 'integrity', 'is', 'secured', 'by', 'a', 'principled', 'commitment', 'to', 'carry', 'out', 'these', 'responsibilities,', 'not', 'by', 'rules', 'and', 'penalties'], ['Students', 'and', 'faculty', 'should', 'strive', 'to', 'create', 'an', 'academic', 'environment', 'that', 'is', 'honest,', 'fair,', 'and', 'respectful', 'of', 'all'], ['They', 'do', 'this', 'by', 'evaluating', 'others', 'work', 'fairly,', 'by', 'responding', 'to', 'others', 'ideas', 'critically', 'yet', 'courteously,', 'by', 'respecting', 'others', 'intellectual', 'and', 'physical', 'property,', 'and', 'by', 'nurturing', 'the', 'values', 'of', 'academic', 'integrity', 'in', 'all', 'contexts', 'of', 'University', 'life'], ['Appropriate', 'disciplinary', 'action', 'will', 'be', 'taken', 'for', 'violations', 'of', 'academic', 'integrity,', 'including', 'plagiarism,', 'cheating,', 'any', 'use', 'of', 'materials', 'for', 'an', 'assignment', 'or', 'exam', 'that', 'is', 'not', 'permitted', 'by', 'the', 'instructor,', 'and', 'theft', 'or', 'mutilation', 'of', 'intellectual', 'materials', 'or', 'other', 'University', 'equipment'], ['Faculty', 'will', 'assign', 'failing', 'grades', 'for', 'violations', 'of', 'the', 'University', 'policy', 'on', 'academic', 'integrity', 'and', 'students', 'may', 'immediately', 'receive', 'an', 'F', 'for', 'a', 'course', 'in', 'which', 'they', 'commit', 'a', 'violation'], ['Violations', 'of', 'academic', 'integrity', 'are', 'kept', 'on', 'file', 'second', 'violations', 'will', 'bring', 'additional', 'sanctions,', 'up', 'to', 'dismissal', 'from', 'the', 'University'], ['For', 'any', 'disciplinary', 'action,', 'the', 'University', 'affords', 'the', 'student', 'the', 'right', 'of', 'due', 'process', 'in', 'an', 'appeals', 'procedure'], ['All', 'matriculated', 'students', 'will', 'be', 'provided', 'with', 'a', 'full', 'description', 'of', 'the', 'University', 'standards', 'for', 'academic', 'integrity,', 'consequences', 'for', 'violations,', 'and', 'the', 'appeals', 'procedure.']]\n"
     ]
    }
   ],
   "source": [
    "print(\"Sentences are \", sentences)"
   ]
  },
  {
   "cell_type": "markdown",
   "id": "41106d6d-1e10-4349-b3ed-dd99c80e4aa5",
   "metadata": {},
   "source": [
    "<font size=\"3\"><b>FUNCTION TO CALCULATE SIMILARITY</b></font>"
   ]
  },
  {
   "cell_type": "code",
   "execution_count": 112,
   "id": "889c8794-d19b-4ae4-964f-1c1254be18b4",
   "metadata": {},
   "outputs": [],
   "source": [
    "def sentence_similarity(sent1, sent2):\n",
    "    # Convert all words to lowercase\n",
    "    sent1 = [w.lower() for w in sent1]\n",
    "    sent2 = [w.lower() for w in sent2]\n",
    "\n",
    "    # Get all unique words from both sentences\n",
    "    all_words = list(set(sent1 + sent2))\n",
    "\n",
    "    # Initialize vectors for both sentences with zeros\n",
    "    vector1 = [0] * len(all_words)\n",
    "    vector2 = [0] * len(all_words)\n",
    "\n",
    "    # Build the vector for the first sentence\n",
    "    for w in sent1:\n",
    "        # Increment the count of the word in the vector\n",
    "        vector1[all_words.index(w)] += 1\n",
    "\n",
    "    # Build the vector for the second sentence\n",
    "    for w in sent2:\n",
    "        # Increment the count of the word in the vector\n",
    "        vector2[all_words.index(w)] += 1\n",
    "        return 1 - cosine_distance(vector1, vector2)"
   ]
  },
  {
   "cell_type": "markdown",
   "id": "ee8f6f68-53b9-445f-a491-91b4c7d81210",
   "metadata": {},
   "source": [
    "<font size=\"3\"><b>CREATING THE SIMILARITY MATRIX</b></font>"
   ]
  },
  {
   "cell_type": "code",
   "execution_count": 113,
   "id": "37ae830a-4ada-430e-a38c-234f90083bc3",
   "metadata": {},
   "outputs": [
    {
     "name": "stdout",
     "output_type": "stream",
     "text": [
      "Smilarity matrix \n",
      " [[0.         0.         0.         0.         0.         0.\n",
      "  0.         0.         0.         0.         0.        ]\n",
      " [0.         0.         0.11785113 0.         0.         0.\n",
      "  0.         0.         0.         0.         0.11785113]\n",
      " [0.         0.         0.         0.         0.         0.\n",
      "  0.         0.         0.         0.         0.        ]\n",
      " [0.         0.         0.20851441 0.         0.         0.\n",
      "  0.         0.         0.         0.         0.        ]\n",
      " [0.         0.         0.         0.         0.         0.\n",
      "  0.         0.2236068  0.         0.         0.2236068 ]\n",
      " [0.         0.         0.         0.         0.         0.\n",
      "  0.         0.         0.         0.         0.13018891]\n",
      " [0.         0.         0.         0.         0.         0.\n",
      "  0.         0.         0.13245324 0.26490647 0.        ]\n",
      " [0.         0.         0.         0.         0.17149859 0.17149859\n",
      "  0.         0.         0.17149859 0.34299717 0.        ]\n",
      " [0.         0.         0.         0.         0.         0.\n",
      "  0.         0.         0.         0.         0.        ]\n",
      " [0.         0.         0.         0.         0.         0.\n",
      "  0.         0.         0.         0.         0.        ]\n",
      " [0.         0.         0.         0.         0.18898224 0.\n",
      "  0.         0.         0.         0.37796447 0.        ]]\n"
     ]
    }
   ],
   "source": [
    "similarity_matrix = np.zeros((len(sentences), len(sentences)))\n",
    " \n",
    "for idx1 in range(len(sentences)):\n",
    "        for idx2 in range(len(sentences)):\n",
    "             if idx1 == idx2: #ignore if both are same sentences\n",
    "                continue \n",
    "             similarity_matrix[idx1][idx2] = sentence_similarity(sentences[idx1], sentences[idx2])\n",
    "\n",
    "print(\"Smilarity matrix \\n\", similarity_matrix)"
   ]
  },
  {
   "cell_type": "markdown",
   "id": "8d3328f2-cc40-49e4-8674-80cfde45e04c",
   "metadata": {},
   "source": [
    "<font size=\"3\"><b>GET THE PAGERANK SCORES</b></font>"
   ]
  },
  {
   "cell_type": "code",
   "execution_count": 114,
   "id": "d3ddeea9-1c39-403a-9073-e1a05c6cd6d0",
   "metadata": {},
   "outputs": [
    {
     "name": "stdout",
     "output_type": "stream",
     "text": [
      "PageRank scores: {0: 0.014778325123152712, 1: 0.06473966189631138, 2: 0.10188410966652334, 3: 0.07010825321233556, 4: 0.07087929329870699, 5: 0.061555672119093185, 6: 0.0769737262601799, 7: 0.1537134854231534, 8: 0.06271938611808403, 9: 0.17059918223805037, 10: 0.1520489046444091}\n"
     ]
    }
   ],
   "source": [
    "import networkx as nx\n",
    "\n",
    "# Create a graph from the similarity matrix using NetworkX\n",
    "sentence_similarity_graph = nx.from_numpy_array(similarity_matrix)\n",
    "\n",
    "# Calculate the PageRank scores for each node (sentence) in the graph\n",
    "scores = nx.pagerank(sentence_similarity_graph)\n",
    "\n",
    "# Print the PageRank scores\n",
    "print(\"PageRank scores:\", scores)"
   ]
  },
  {
   "cell_type": "markdown",
   "id": "c04b6036-218b-4958-a75d-fd09472df94a",
   "metadata": {},
   "source": [
    "<font size=\"3\"><b>SORT SENTENCES BY PAGERANK</b></font>"
   ]
  },
  {
   "cell_type": "code",
   "execution_count": 115,
   "id": "137655de-0e9f-4299-aa18-19f9b2ef72ba",
   "metadata": {},
   "outputs": [
    {
     "name": "stdout",
     "output_type": "stream",
     "text": [
      "Indexes of top ranked sentences in descending order:\n",
      " [(0.17059918223805037, ['For', 'any', 'disciplinary', 'action,', 'the', 'University', 'affords', 'the', 'student', 'the', 'right', 'of', 'due', 'process', 'in', 'an', 'appeals', 'procedure']), (0.1537134854231534, ['Faculty', 'will', 'assign', 'failing', 'grades', 'for', 'violations', 'of', 'the', 'University', 'policy', 'on', 'academic', 'integrity', 'and', 'students', 'may', 'immediately', 'receive', 'an', 'F', 'for', 'a', 'course', 'in', 'which', 'they', 'commit', 'a', 'violation']), (0.1520489046444091, ['All', 'matriculated', 'students', 'will', 'be', 'provided', 'with', 'a', 'full', 'description', 'of', 'the', 'University', 'standards', 'for', 'academic', 'integrity,', 'consequences', 'for', 'violations,', 'and', 'the', 'appeals', 'procedure.']), (0.10188410966652334, ['These', 'aims', 'of', 'the', 'University', 'require', 'that', 'its', 'members', 'exercise', 'mutual', 'responsibilities']), (0.0769737262601799, ['Appropriate', 'disciplinary', 'action', 'will', 'be', 'taken', 'for', 'violations', 'of', 'academic', 'integrity,', 'including', 'plagiarism,', 'cheating,', 'any', 'use', 'of', 'materials', 'for', 'an', 'assignment', 'or', 'exam', 'that', 'is', 'not', 'permitted', 'by', 'the', 'instructor,', 'and', 'theft', 'or', 'mutilation', 'of', 'intellectual', 'materials', 'or', 'other', 'University', 'equipment']), (0.07087929329870699, ['Students', 'and', 'faculty', 'should', 'strive', 'to', 'create', 'an', 'academic', 'environment', 'that', 'is', 'honest,', 'fair,', 'and', 'respectful', 'of', 'all']), (0.07010825321233556, ['At', 'its', 'core,', 'academic', 'integrity', 'is', 'secured', 'by', 'a', 'principled', 'commitment', 'to', 'carry', 'out', 'these', 'responsibilities,', 'not', 'by', 'rules', 'and', 'penalties']), (0.06473966189631138, ['Only', 'when', 'these', 'values', 'are', 'widely', 'respected', 'and', 'practiced', 'by', 'all', 'members', 'of', 'the', 'University', 'students,', 'faculty,', 'administrators,', 'and', 'staff', 'can', 'the', 'University', 'maintain', 'a', 'culture', 'that', 'promotes', 'free', 'exploration', 'of', 'knowledge,', 'constructive', 'debate,', 'genuine', 'learning,', 'effective', 'research,', 'fair', 'assessment', 'of', 'student', 'progress,', 'and', 'development', 'of', 'members', 'characters']), (0.06271938611808403, ['Violations', 'of', 'academic', 'integrity', 'are', 'kept', 'on', 'file', 'second', 'violations', 'will', 'bring', 'additional', 'sanctions,', 'up', 'to', 'dismissal', 'from', 'the', 'University']), (0.061555672119093185, ['They', 'do', 'this', 'by', 'evaluating', 'others', 'work', 'fairly,', 'by', 'responding', 'to', 'others', 'ideas', 'critically', 'yet', 'courteously,', 'by', 'respecting', 'others', 'intellectual', 'and', 'physical', 'property,', 'and', 'by', 'nurturing', 'the', 'values', 'of', 'academic', 'integrity', 'in', 'all', 'contexts', 'of', 'University', 'life']), (0.014778325123152712, ['As', 'an', 'institution', 'of', 'higher', 'learning,', 'Sacred', 'Heart', 'University', 'places', 'special', 'emphasis', 'on', 'academic', 'integrity,', 'which', 'is', 'a', 'commitment', 'to', 'the', 'fundamental', 'values', 'of', 'honesty,', 'trust,', 'fairness,', 'respect,', 'and', 'responsibility'])]\n"
     ]
    }
   ],
   "source": [
    "# Sort the sentences based on their PageRank scores in descending order\n",
    "ranked_sentence = sorted(((scores[i], s) for i, s in enumerate(sentences)), reverse=True)\n",
    "\n",
    "# Print the indexes of top-ranked sentences in the order of their importance\n",
    "print(\"Indexes of top ranked sentences in descending order:\\n\", ranked_sentence)"
   ]
  },
  {
   "cell_type": "markdown",
   "id": "4111d602-ad43-426a-bbf8-81778da0bde0",
   "metadata": {},
   "source": [
    "<font size=\"3\"><b>PICK THE TOP \"N\" SENTENCES </b></font>"
   ]
  },
  {
   "cell_type": "code",
   "execution_count": 116,
   "id": "5d823e94-eee9-4aa1-8b17-49748321d55e",
   "metadata": {},
   "outputs": [
    {
     "name": "stdin",
     "output_type": "stream",
     "text": [
      "How many sentences do you want in the summary?  3\n"
     ]
    }
   ],
   "source": [
    "# Step 5 - How many sentences to pick\n",
    "\n",
    "# Prompt the user to input the number of sentences they want in the summary\n",
    "n = int(input(\"How many sentences do you want in the summary? \"))\n",
    "\n",
    "# Initialize an empty list to store the summarized sentences\n",
    "summarize_text = []\n",
    "\n",
    "# Iterate through the top n ranked sentences and join them into a single string\n",
    "for i in range(n):\n",
    "    # Append the joined sentence to the summarize_text list\n",
    "    summarize_text.append(\" \".join(ranked_sentence[i][1]))"
   ]
  },
  {
   "cell_type": "markdown",
   "id": "c90b12d8-bfe7-40f6-b97e-ccd768419805",
   "metadata": {},
   "source": [
    "<font size=\"3\"><b>PRINTING THE SUMMARY</b></font>"
   ]
  },
  {
   "cell_type": "code",
   "execution_count": 117,
   "id": "d81a6d70-aebb-4ceb-a4fc-d849ec801de5",
   "metadata": {},
   "outputs": [
    {
     "name": "stdout",
     "output_type": "stream",
     "text": [
      "Summarized Text:\n",
      " For any disciplinary action, the University affords the student the right of due process in an appeals procedure. Faculty will assign failing grades for violations of the University policy on academic integrity and students may immediately receive an F for a course in which they commit a violation. All matriculated students will be provided with a full description of the University standards for academic integrity, consequences for violations, and the appeals procedure.\n"
     ]
    }
   ],
   "source": [
    "# Step 6 - Output the summarized text\n",
    "\n",
    "# Print the summarized text by joining the sentences with a period and a space\n",
    "print(\"Summarized Text:\\n\", \". \".join(summarize_text))"
   ]
  },
  {
   "cell_type": "markdown",
   "id": "2fab7ed4-2d41-4259-a14e-93cd4b3b4423",
   "metadata": {},
   "source": [
    "<font size=\"3\"><b><CENTER>TEXT4 SUMMARIZATION</CENTER></b></font>"
   ]
  },
  {
   "cell_type": "markdown",
   "id": "3cc5a9a7-1d22-4340-84db-b26c7d6df836",
   "metadata": {},
   "source": [
    "<font size=\"3\"><b>LOADING DATA SET </b></font>"
   ]
  },
  {
   "cell_type": "code",
   "execution_count": 118,
   "id": "d4d0f2ce-e0e5-4d71-9c13-5b6ae824558a",
   "metadata": {},
   "outputs": [
    {
     "name": "stdout",
     "output_type": "stream",
     "text": [
      "Imagine there's no heaven. It's easy if you try. No hell below us. Above us, only sky. Imagine all the people livin' for today. Imagine there's no countries. It isn't hard to do. Nothing to kill or die for and no religion, too. Imagine all the people livin' life in peace. You may say I'm a dreamer but I'm not the only one. I hope someday you'll join us and the world will be as one. Imagine no possessions. I wonder if you can. No need for greed or hunger. A brotherhood of man. Imagine all the people sharing all the world. \n",
      " \n"
     ]
    }
   ],
   "source": [
    "with open('Text4.txt', 'r') as file:\n",
    "    # Read the entire contents of the file\n",
    "    contents = file.read()\n",
    "\n",
    "# Print the contents of the file\n",
    "print(contents)"
   ]
  },
  {
   "cell_type": "markdown",
   "id": "b0308331-2ccf-4130-8b11-657cc15438c0",
   "metadata": {},
   "source": [
    "<font size=\"3\"><b>OPEN FILE AND SPLIT INTO SENTENCES</b></font>"
   ]
  },
  {
   "cell_type": "code",
   "execution_count": 119,
   "id": "ade8ffa1-46d7-460b-b8de-f4be722ba8dd",
   "metadata": {},
   "outputs": [
    {
     "name": "stdout",
     "output_type": "stream",
     "text": [
      "Imagine there's no heaven\n",
      "It's easy if you try\n",
      "No hell below us\n",
      "Above us, only sky\n",
      "Imagine all the people livin' for today\n",
      "Imagine there's no countries\n",
      "It isn't hard to do\n",
      "Nothing to kill or die for and no religion, too\n",
      "Imagine all the people livin' life in peace\n",
      "You may say I'm a dreamer but I'm not the only one\n",
      "I hope someday you'll join us and the world will be as one\n",
      "Imagine no possessions\n",
      "I wonder if you can\n",
      "No need for greed or hunger\n",
      "A brotherhood of man\n",
      "Imagine all the people sharing all the world\n",
      "\n",
      "\n"
     ]
    }
   ],
   "source": [
    "# Open the file \"Text1.txt\" in read mode\n",
    "file = open(\"Text4.txt\", \"r\")\n",
    "\n",
    "# Read all lines of the file into a list\n",
    "filedata = file.readlines()\n",
    "\n",
    "# Split the first paragraph into sentences based on the period followed by a space\n",
    "article = filedata[0].split(\". \")  # Assuming each sentence ends with \". \".\n",
    "\n",
    "# Initialize an empty list to store individual sentences\n",
    "sentences = []\n",
    "\n",
    "# Iterate through each sentence in the article\n",
    "for sentence in article:\n",
    "    # Print each sentence\n",
    "    print(sentence)\n",
    "    # Replace non-alphabetic characters with spaces and split the sentence into words\n",
    "    sentences.append(sentence.replace(\"[^a-zA-Z]\", \" \").split(\" \"))"
   ]
  },
  {
   "cell_type": "markdown",
   "id": "19879fff-f716-4f88-898f-e3f6a5f133c4",
   "metadata": {},
   "source": [
    "<font size=\"3\"><b>OUR DATA: A LIST OF SENTENCES</b></font>"
   ]
  },
  {
   "cell_type": "code",
   "execution_count": 120,
   "id": "4512bd3c-257b-4115-b8c9-153fe43e652c",
   "metadata": {},
   "outputs": [
    {
     "name": "stdout",
     "output_type": "stream",
     "text": [
      "Sentences are  [['Imagine', \"there's\", 'no', 'heaven'], [\"It's\", 'easy', 'if', 'you', 'try'], ['No', 'hell', 'below', 'us'], ['Above', 'us,', 'only', 'sky'], ['Imagine', 'all', 'the', 'people', \"livin'\", 'for', 'today'], ['Imagine', \"there's\", 'no', 'countries'], ['It', \"isn't\", 'hard', 'to', 'do'], ['Nothing', 'to', 'kill', 'or', 'die', 'for', 'and', 'no', 'religion,', 'too'], ['Imagine', 'all', 'the', 'people', \"livin'\", 'life', 'in', 'peace'], ['You', 'may', 'say', \"I'm\", 'a', 'dreamer', 'but', \"I'm\", 'not', 'the', 'only', 'one'], ['I', 'hope', 'someday', \"you'll\", 'join', 'us', 'and', 'the', 'world', 'will', 'be', 'as', 'one'], ['Imagine', 'no', 'possessions'], ['I', 'wonder', 'if', 'you', 'can'], ['No', 'need', 'for', 'greed', 'or', 'hunger'], ['A', 'brotherhood', 'of', 'man'], ['Imagine', 'all', 'the', 'people', 'sharing', 'all', 'the', 'world'], ['\\n']]\n"
     ]
    }
   ],
   "source": [
    "print(\"Sentences are \", sentences)"
   ]
  },
  {
   "cell_type": "markdown",
   "id": "09e0e586-a4a1-43ef-aac4-74bf4ea8d703",
   "metadata": {},
   "source": [
    "<font size=\"3\"><b>FUNCTION TO CALCULATE SIMILARITY</b></font>"
   ]
  },
  {
   "cell_type": "code",
   "execution_count": 121,
   "id": "ded1f050-7a6b-4643-bb57-0a4a46aeb722",
   "metadata": {},
   "outputs": [],
   "source": [
    "def sentence_similarity(sent1, sent2):\n",
    "    # Convert all words to lowercase\n",
    "    sent1 = [w.lower() for w in sent1]\n",
    "    sent2 = [w.lower() for w in sent2]\n",
    "\n",
    "    # Get all unique words from both sentences\n",
    "    all_words = list(set(sent1 + sent2))\n",
    "\n",
    "    # Initialize vectors for both sentences with zeros\n",
    "    vector1 = [0] * len(all_words)\n",
    "    vector2 = [0] * len(all_words)\n",
    "\n",
    "    # Build the vector for the first sentence\n",
    "    for w in sent1:\n",
    "        # Increment the count of the word in the vector\n",
    "        vector1[all_words.index(w)] += 1\n",
    "\n",
    "    # Build the vector for the second sentence\n",
    "    for w in sent2:\n",
    "        # Increment the count of the word in the vector\n",
    "        vector2[all_words.index(w)] += 1\n",
    "        return 1 - cosine_distance(vector1, vector2)"
   ]
  },
  {
   "cell_type": "markdown",
   "id": "d38b3f80-4e80-4ce0-9b44-b62ab3d28af4",
   "metadata": {},
   "source": [
    "<font size=\"3\"><b>CREATING THE SIMILARITY MATRIX</b></font>"
   ]
  },
  {
   "cell_type": "code",
   "execution_count": 122,
   "id": "96b23237-208b-424e-a85d-ec3943aa078d",
   "metadata": {},
   "outputs": [
    {
     "name": "stdout",
     "output_type": "stream",
     "text": [
      "Smilarity matrix \n",
      " [[0.         0.         0.5        0.         0.5        0.5\n",
      "  0.         0.         0.5        0.         0.         0.5\n",
      "  0.         0.5        0.         0.5        0.        ]\n",
      " [0.         0.         0.         0.         0.         0.\n",
      "  0.         0.         0.         0.4472136  0.         0.\n",
      "  0.         0.         0.         0.         0.        ]\n",
      " [0.         0.         0.         0.         0.         0.\n",
      "  0.         0.         0.         0.         0.         0.\n",
      "  0.         0.5        0.         0.         0.        ]\n",
      " [0.         0.         0.         0.         0.         0.\n",
      "  0.         0.         0.         0.         0.         0.\n",
      "  0.         0.         0.         0.         0.        ]\n",
      " [0.37796447 0.         0.         0.         0.         0.37796447\n",
      "  0.         0.         0.37796447 0.         0.         0.37796447\n",
      "  0.         0.         0.         0.37796447 0.        ]\n",
      " [0.5        0.         0.5        0.         0.5        0.\n",
      "  0.         0.         0.5        0.         0.         0.5\n",
      "  0.         0.5        0.         0.5        0.        ]\n",
      " [0.         0.         0.         0.         0.         0.\n",
      "  0.         0.         0.         0.         0.         0.\n",
      "  0.         0.         0.         0.         0.        ]\n",
      " [0.         0.         0.31622777 0.         0.         0.\n",
      "  0.         0.         0.         0.         0.         0.\n",
      "  0.         0.31622777 0.         0.         0.        ]\n",
      " [0.35355339 0.         0.         0.         0.35355339 0.35355339\n",
      "  0.         0.         0.         0.         0.         0.35355339\n",
      "  0.         0.         0.         0.35355339 0.        ]\n",
      " [0.         0.         0.         0.         0.         0.\n",
      "  0.         0.         0.         0.         0.         0.\n",
      "  0.         0.         0.26726124 0.         0.        ]\n",
      " [0.         0.         0.         0.         0.         0.\n",
      "  0.         0.         0.         0.         0.         0.\n",
      "  0.2773501  0.         0.         0.         0.        ]\n",
      " [0.57735027 0.         0.57735027 0.         0.57735027 0.57735027\n",
      "  0.         0.         0.57735027 0.         0.         0.\n",
      "  0.         0.57735027 0.         0.57735027 0.        ]\n",
      " [0.         0.         0.         0.         0.         0.\n",
      "  0.         0.         0.         0.4472136  0.4472136  0.\n",
      "  0.         0.         0.         0.         0.        ]\n",
      " [0.         0.         0.40824829 0.         0.         0.\n",
      "  0.         0.         0.         0.         0.         0.\n",
      "  0.         0.         0.         0.         0.        ]\n",
      " [0.         0.         0.         0.         0.         0.\n",
      "  0.         0.         0.         0.         0.         0.\n",
      "  0.         0.         0.         0.         0.        ]\n",
      " [0.28867513 0.         0.         0.         0.28867513 0.28867513\n",
      "  0.         0.         0.28867513 0.         0.         0.28867513\n",
      "  0.         0.         0.         0.         0.        ]\n",
      " [0.         0.         0.         0.         0.         0.\n",
      "  0.         0.         0.         0.         0.         0.\n",
      "  0.         0.         0.         0.         0.        ]]\n"
     ]
    }
   ],
   "source": [
    "similarity_matrix = np.zeros((len(sentences), len(sentences)))\n",
    " \n",
    "for idx1 in range(len(sentences)):\n",
    "        for idx2 in range(len(sentences)):\n",
    "             if idx1 == idx2: #ignore if both are same sentences\n",
    "                continue \n",
    "             similarity_matrix[idx1][idx2] = sentence_similarity(sentences[idx1], sentences[idx2])\n",
    "\n",
    "print(\"Smilarity matrix \\n\", similarity_matrix)"
   ]
  },
  {
   "cell_type": "markdown",
   "id": "3598cce4-14bb-450d-b451-90280c6a32eb",
   "metadata": {},
   "source": [
    "<font size=\"3\"><b>GET THE PAGERANK SCORES</b></font>"
   ]
  },
  {
   "cell_type": "code",
   "execution_count": 123,
   "id": "9c10fbf9-ba5d-4bf9-8f3c-ff54d6e2cac4",
   "metadata": {},
   "outputs": [
    {
     "name": "stdout",
     "output_type": "stream",
     "text": [
      "PageRank scores: {0: 0.08907996055745462, 1: 0.049895583399628525, 2: 0.07074601034623529, 3: 0.010380622837370245, 4: 0.06260562329203608, 5: 0.09222422489872976, 6: 0.010380622837370245, 7: 0.026903220283897585, 8: 0.05831675342595796, 9: 0.12075281066763677, 10: 0.04944844939503198, 11: 0.10606411143646131, 12: 0.09192858926564168, 13: 0.07074601034623529, 14: 0.03399532851773593, 15: 0.04615145565520675, 16: 0.010380622837370245}\n"
     ]
    }
   ],
   "source": [
    "import networkx as nx\n",
    "\n",
    "# Create a graph from the similarity matrix using NetworkX\n",
    "sentence_similarity_graph = nx.from_numpy_array(similarity_matrix)\n",
    "\n",
    "# Calculate the PageRank scores for each node (sentence) in the graph\n",
    "scores = nx.pagerank(sentence_similarity_graph)\n",
    "\n",
    "# Print the PageRank scores\n",
    "print(\"PageRank scores:\", scores)"
   ]
  },
  {
   "cell_type": "markdown",
   "id": "49cf4b90-80d1-4a6a-ab6d-edb78b87a3cb",
   "metadata": {},
   "source": [
    "<font size=\"3\"><b>SORT SENTENCES BY PAGERANK</b></font>"
   ]
  },
  {
   "cell_type": "code",
   "execution_count": 124,
   "id": "035fe001-d8ae-4e2e-821c-35d62e6ad248",
   "metadata": {},
   "outputs": [
    {
     "name": "stdout",
     "output_type": "stream",
     "text": [
      "Indexes of top ranked sentences in descending order:\n",
      " [(0.12075281066763677, ['You', 'may', 'say', \"I'm\", 'a', 'dreamer', 'but', \"I'm\", 'not', 'the', 'only', 'one']), (0.10606411143646131, ['Imagine', 'no', 'possessions']), (0.09222422489872976, ['Imagine', \"there's\", 'no', 'countries']), (0.09192858926564168, ['I', 'wonder', 'if', 'you', 'can']), (0.08907996055745462, ['Imagine', \"there's\", 'no', 'heaven']), (0.07074601034623529, ['No', 'need', 'for', 'greed', 'or', 'hunger']), (0.07074601034623529, ['No', 'hell', 'below', 'us']), (0.06260562329203608, ['Imagine', 'all', 'the', 'people', \"livin'\", 'for', 'today']), (0.05831675342595796, ['Imagine', 'all', 'the', 'people', \"livin'\", 'life', 'in', 'peace']), (0.049895583399628525, [\"It's\", 'easy', 'if', 'you', 'try']), (0.04944844939503198, ['I', 'hope', 'someday', \"you'll\", 'join', 'us', 'and', 'the', 'world', 'will', 'be', 'as', 'one']), (0.04615145565520675, ['Imagine', 'all', 'the', 'people', 'sharing', 'all', 'the', 'world']), (0.03399532851773593, ['A', 'brotherhood', 'of', 'man']), (0.026903220283897585, ['Nothing', 'to', 'kill', 'or', 'die', 'for', 'and', 'no', 'religion,', 'too']), (0.010380622837370245, ['It', \"isn't\", 'hard', 'to', 'do']), (0.010380622837370245, ['Above', 'us,', 'only', 'sky']), (0.010380622837370245, ['\\n'])]\n"
     ]
    }
   ],
   "source": [
    "# Sort the sentences based on their PageRank scores in descending order\n",
    "ranked_sentence = sorted(((scores[i], s) for i, s in enumerate(sentences)), reverse=True)\n",
    "\n",
    "# Print the indexes of top-ranked sentences in the order of their importance\n",
    "print(\"Indexes of top ranked sentences in descending order:\\n\", ranked_sentence)"
   ]
  },
  {
   "cell_type": "markdown",
   "id": "7e969c3a-1018-4be9-b3fb-be30a02c92f2",
   "metadata": {},
   "source": [
    "<font size=\"3\"><b>PICK THE TOP \"N\" SENTENCES </b></font>"
   ]
  },
  {
   "cell_type": "code",
   "execution_count": 125,
   "id": "72d5c769-3a15-4075-ae92-e7a3e87f198e",
   "metadata": {},
   "outputs": [
    {
     "name": "stdin",
     "output_type": "stream",
     "text": [
      "How many sentences do you want in the summary?  3\n"
     ]
    }
   ],
   "source": [
    "# Step 5 - How many sentences to pick\n",
    "\n",
    "# Prompt the user to input the number of sentences they want in the summary\n",
    "n = int(input(\"How many sentences do you want in the summary? \"))\n",
    "\n",
    "# Initialize an empty list to store the summarized sentences\n",
    "summarize_text = []\n",
    "\n",
    "# Iterate through the top n ranked sentences and join them into a single string\n",
    "for i in range(n):\n",
    "    # Append the joined sentence to the summarize_text list\n",
    "    summarize_text.append(\" \".join(ranked_sentence[i][1]))"
   ]
  },
  {
   "cell_type": "markdown",
   "id": "b0cbaa82-2ec7-4b2e-a5b3-2c5207eaeac3",
   "metadata": {},
   "source": [
    "<font size=\"3\"><b>PRINTING THE SUMMARY</b></font>"
   ]
  },
  {
   "cell_type": "code",
   "execution_count": 126,
   "id": "248a2d6c-f6dd-4df4-8771-5400074e3a3b",
   "metadata": {},
   "outputs": [
    {
     "name": "stdout",
     "output_type": "stream",
     "text": [
      "Summarized Text:\n",
      " You may say I'm a dreamer but I'm not the only one. Imagine no possessions. Imagine there's no countries\n"
     ]
    }
   ],
   "source": [
    "# Step 6 - Output the summarized text\n",
    "\n",
    "# Print the summarized text by joining the sentences with a period and a space\n",
    "print(\"Summarized Text:\\n\", \". \".join(summarize_text))"
   ]
  },
  {
   "cell_type": "markdown",
   "id": "f5c55b61-402f-4aee-a683-5a0f2db722bc",
   "metadata": {},
   "source": [
    "<font size=\"3\"><b><CENTER>TEXT5 SUMMARIZATION</CENTER></b></font>"
   ]
  },
  {
   "cell_type": "markdown",
   "id": "9fbc6c2d-2b48-483a-97e4-cf620fa26b6d",
   "metadata": {},
   "source": [
    "<font size=\"3\"><b>LOADING DATA SET </b></font>"
   ]
  },
  {
   "cell_type": "code",
   "execution_count": 127,
   "id": "0a9971ff-1a86-4767-87bc-7a0bbc04308a",
   "metadata": {},
   "outputs": [
    {
     "name": "stdout",
     "output_type": "stream",
     "text": [
      "In an attempt to build an AI-ready workforce, Microsoft announced Intelligent Cloud Hub which has been launched to empower the next generation of students with AI-ready skills. Envisioned as a three-year collaborative program, Intelligent Cloud Hub will support around 100 institutions with AI infrastructure, course content and curriculum, developer support, development tools and give students access to cloud and AI services. As part of the program, the Redmond giant which wants to expand its reach and is planning to build a strong developer ecosystem in India with the program will set up the core AI infrastructure and IoT Hub for the selected campuses. The company will provide AI development tools and Azure AI services such as Microsoft Cognitive Services, Bot Services and Azure Machine Learning.According to Manish Prakash, Country General Manager-PS, Health and Education, Microsoft India, said, \"With AI being the defining technology of our time, it is transIn an attempt to build an AI-ready workforce, Microsoft announced Intelligent Cloud Hub which has been launched to empower the next generation of students with AI-ready skills. Envisioned as a three-year collaborative program, Intelligent Cloud Hub will support around 100 institutions with AI infrastructure, course content and curriculum, developer support, development tools and give students access to cloud and AI services. As part of the program, the Redmond giant which wants to expand its reach and is planning to build a strong developer ecosystem in India with the program will set up the core AI infrastructure and IoT Hub for the selected campuses. The company will provide AI development tools and Azure AI services such as Microsoft Cognitive Services, Bot Services and Azure Machine Learning.According to Manish Prakash, Country General Manager-PS, Health and Education, Microsoft India, said, \"With AI being the defining technology of our time, it is transforming lives and industry and the jobs of tomorrow will require a different skillset. This will require more collaborations and training and working with AI. Thatâ€™s why it has become more critical than ever for educational institutions to integrate new cloud and AI technologies. The program is an attempt to ramp up the institutional set-up and build capabilities among the educators to educate the workforce of tomorrow.\" The program aims to build up the cognitive skills and in-depth understanding of developing intelligent cloud connected solutions for applications across industry. Earlier in April this year, the company announced Microsoft Professional Program In AI as a learning track open to the public. The program was developed to provide job ready skills to programmers who wanted to hone their skills in AI and data science with a series of online courses which featured hands-on labs and expert instructors as well. This program also included developer-focused AI school that provided a bunch of assets to help build AI skills.\n"
     ]
    }
   ],
   "source": [
    "with open('Text5.txt', 'r') as file:\n",
    "    # Read the entire contents of the file\n",
    "    contents = file.read()\n",
    "\n",
    "# Print the contents of the file\n",
    "print(contents)"
   ]
  },
  {
   "cell_type": "markdown",
   "id": "788c088d-21e9-44c6-9096-2d9f9adbaa7d",
   "metadata": {},
   "source": [
    "<font size=\"3\"><b>OPEN FILE AND SPLIT INTO SENTENCES</b></font>"
   ]
  },
  {
   "cell_type": "code",
   "execution_count": 128,
   "id": "4c5a3958-5624-4f74-a4d7-8362f397b5a5",
   "metadata": {},
   "outputs": [
    {
     "name": "stdout",
     "output_type": "stream",
     "text": [
      "In an attempt to build an AI-ready workforce, Microsoft announced Intelligent Cloud Hub which has been launched to empower the next generation of students with AI-ready skills\n",
      "Envisioned as a three-year collaborative program, Intelligent Cloud Hub will support around 100 institutions with AI infrastructure, course content and curriculum, developer support, development tools and give students access to cloud and AI services\n",
      "As part of the program, the Redmond giant which wants to expand its reach and is planning to build a strong developer ecosystem in India with the program will set up the core AI infrastructure and IoT Hub for the selected campuses\n",
      "The company will provide AI development tools and Azure AI services such as Microsoft Cognitive Services, Bot Services and Azure Machine Learning.According to Manish Prakash, Country General Manager-PS, Health and Education, Microsoft India, said, \"With AI being the defining technology of our time, it is transIn an attempt to build an AI-ready workforce, Microsoft announced Intelligent Cloud Hub which has been launched to empower the next generation of students with AI-ready skills\n",
      "Envisioned as a three-year collaborative program, Intelligent Cloud Hub will support around 100 institutions with AI infrastructure, course content and curriculum, developer support, development tools and give students access to cloud and AI services\n",
      "As part of the program, the Redmond giant which wants to expand its reach and is planning to build a strong developer ecosystem in India with the program will set up the core AI infrastructure and IoT Hub for the selected campuses\n",
      "The company will provide AI development tools and Azure AI services such as Microsoft Cognitive Services, Bot Services and Azure Machine Learning.According to Manish Prakash, Country General Manager-PS, Health and Education, Microsoft India, said, \"With AI being the defining technology of our time, it is transforming lives and industry and the jobs of tomorrow will require a different skillset\n",
      "This will require more collaborations and training and working with AI\n",
      "Thatâ€™s why it has become more critical than ever for educational institutions to integrate new cloud and AI technologies\n",
      "The program is an attempt to ramp up the institutional set-up and build capabilities among the educators to educate the workforce of tomorrow.\" The program aims to build up the cognitive skills and in-depth understanding of developing intelligent cloud connected solutions for applications across industry\n",
      "Earlier in April this year, the company announced Microsoft Professional Program In AI as a learning track open to the public\n",
      "The program was developed to provide job ready skills to programmers who wanted to hone their skills in AI and data science with a series of online courses which featured hands-on labs and expert instructors as well\n",
      "This program also included developer-focused AI school that provided a bunch of assets to help build AI skills.\n"
     ]
    }
   ],
   "source": [
    "# Open the file \"Text1.txt\" in read mode\n",
    "file = open(\"Text5.txt\", \"r\")\n",
    "\n",
    "# Read all lines of the file into a list\n",
    "filedata = file.readlines()\n",
    "\n",
    "# Split the first paragraph into sentences based on the period followed by a space\n",
    "article = filedata[0].split(\". \")  # Assuming each sentence ends with \". \".\n",
    "\n",
    "# Initialize an empty list to store individual sentences\n",
    "sentences = []\n",
    "\n",
    "# Iterate through each sentence in the article\n",
    "for sentence in article:\n",
    "    # Print each sentence\n",
    "    print(sentence)\n",
    "    # Replace non-alphabetic characters with spaces and split the sentence into words\n",
    "    sentences.append(sentence.replace(\"[^a-zA-Z]\", \" \").split(\" \"))"
   ]
  },
  {
   "cell_type": "markdown",
   "id": "b2ececaf-51cf-4a1b-a9f4-1dd7add545ae",
   "metadata": {},
   "source": [
    "<font size=\"3\"><b>OUR DATA: A LIST OF SENTENCES</b></font>"
   ]
  },
  {
   "cell_type": "code",
   "execution_count": 129,
   "id": "f04a4bd0-3810-46b3-b78d-0e4d7754cb0f",
   "metadata": {},
   "outputs": [
    {
     "name": "stdout",
     "output_type": "stream",
     "text": [
      "Sentences are  [['In', 'an', 'attempt', 'to', 'build', 'an', 'AI-ready', 'workforce,', 'Microsoft', 'announced', 'Intelligent', 'Cloud', 'Hub', 'which', 'has', 'been', 'launched', 'to', 'empower', 'the', 'next', 'generation', 'of', 'students', 'with', 'AI-ready', 'skills'], ['Envisioned', 'as', 'a', 'three-year', 'collaborative', 'program,', 'Intelligent', 'Cloud', 'Hub', 'will', 'support', 'around', '100', 'institutions', 'with', 'AI', 'infrastructure,', 'course', 'content', 'and', 'curriculum,', 'developer', 'support,', 'development', 'tools', 'and', 'give', 'students', 'access', 'to', 'cloud', 'and', 'AI', 'services'], ['As', 'part', 'of', 'the', 'program,', 'the', 'Redmond', 'giant', 'which', 'wants', 'to', 'expand', 'its', 'reach', 'and', 'is', 'planning', 'to', 'build', 'a', 'strong', 'developer', 'ecosystem', 'in', 'India', 'with', 'the', 'program', 'will', 'set', 'up', 'the', 'core', 'AI', 'infrastructure', 'and', 'IoT', 'Hub', 'for', 'the', 'selected', 'campuses'], ['The', 'company', 'will', 'provide', 'AI', 'development', 'tools', 'and', 'Azure', 'AI', 'services', 'such', 'as', 'Microsoft', 'Cognitive', 'Services,', 'Bot', 'Services', 'and', 'Azure', 'Machine', 'Learning.According', 'to', 'Manish', 'Prakash,', 'Country', 'General', 'Manager-PS,', 'Health', 'and', 'Education,', 'Microsoft', 'India,', 'said,', '\"With', 'AI', 'being', 'the', 'defining', 'technology', 'of', 'our', 'time,', 'it', 'is', 'transIn', 'an', 'attempt', 'to', 'build', 'an', 'AI-ready', 'workforce,', 'Microsoft', 'announced', 'Intelligent', 'Cloud', 'Hub', 'which', 'has', 'been', 'launched', 'to', 'empower', 'the', 'next', 'generation', 'of', 'students', 'with', 'AI-ready', 'skills'], ['Envisioned', 'as', 'a', 'three-year', 'collaborative', 'program,', 'Intelligent', 'Cloud', 'Hub', 'will', 'support', 'around', '100', 'institutions', 'with', 'AI', 'infrastructure,', 'course', 'content', 'and', 'curriculum,', 'developer', 'support,', 'development', 'tools', 'and', 'give', 'students', 'access', 'to', 'cloud', 'and', 'AI', 'services'], ['As', 'part', 'of', 'the', 'program,', 'the', 'Redmond', 'giant', 'which', 'wants', 'to', 'expand', 'its', 'reach', 'and', 'is', 'planning', 'to', 'build', 'a', 'strong', 'developer', 'ecosystem', 'in', 'India', 'with', 'the', 'program', 'will', 'set', 'up', 'the', 'core', 'AI', 'infrastructure', 'and', 'IoT', 'Hub', 'for', 'the', 'selected', 'campuses'], ['The', 'company', 'will', 'provide', 'AI', 'development', 'tools', 'and', 'Azure', 'AI', 'services', 'such', 'as', 'Microsoft', 'Cognitive', 'Services,', 'Bot', 'Services', 'and', 'Azure', 'Machine', 'Learning.According', 'to', 'Manish', 'Prakash,', 'Country', 'General', 'Manager-PS,', 'Health', 'and', 'Education,', 'Microsoft', 'India,', 'said,', '\"With', 'AI', 'being', 'the', 'defining', 'technology', 'of', 'our', 'time,', 'it', 'is', 'transforming', 'lives', 'and', 'industry', 'and', 'the', 'jobs', 'of', 'tomorrow', 'will', 'require', 'a', 'different', 'skillset'], ['This', 'will', 'require', 'more', 'collaborations', 'and', 'training', 'and', 'working', 'with', 'AI'], ['Thatâ€™s', 'why', 'it', 'has', 'become', 'more', 'critical', 'than', 'ever', 'for', 'educational', 'institutions', 'to', 'integrate', 'new', 'cloud', 'and', 'AI', 'technologies'], ['The', 'program', 'is', 'an', 'attempt', 'to', 'ramp', 'up', 'the', 'institutional', 'set-up', 'and', 'build', 'capabilities', 'among', 'the', 'educators', 'to', 'educate', 'the', 'workforce', 'of', 'tomorrow.\"', 'The', 'program', 'aims', 'to', 'build', 'up', 'the', 'cognitive', 'skills', 'and', 'in-depth', 'understanding', 'of', 'developing', 'intelligent', 'cloud', 'connected', 'solutions', 'for', 'applications', 'across', 'industry'], ['Earlier', 'in', 'April', 'this', 'year,', 'the', 'company', 'announced', 'Microsoft', 'Professional', 'Program', 'In', 'AI', 'as', 'a', 'learning', 'track', 'open', 'to', 'the', 'public'], ['The', 'program', 'was', 'developed', 'to', 'provide', 'job', 'ready', 'skills', 'to', 'programmers', 'who', 'wanted', 'to', 'hone', 'their', 'skills', 'in', 'AI', 'and', 'data', 'science', 'with', 'a', 'series', 'of', 'online', 'courses', 'which', 'featured', 'hands-on', 'labs', 'and', 'expert', 'instructors', 'as', 'well'], ['This', 'program', 'also', 'included', 'developer-focused', 'AI', 'school', 'that', 'provided', 'a', 'bunch', 'of', 'assets', 'to', 'help', 'build', 'AI', 'skills.']]\n"
     ]
    }
   ],
   "source": [
    "print(\"Sentences are \", sentences)"
   ]
  },
  {
   "cell_type": "markdown",
   "id": "fa43b34f-bb32-4dd3-914c-1fec3b41a867",
   "metadata": {},
   "source": [
    "<font size=\"3\"><b>FUNCTION TO CALCULATE SIMILARITY</b></font>"
   ]
  },
  {
   "cell_type": "code",
   "execution_count": 130,
   "id": "27098178-6c6f-4771-85c2-d62d793970d8",
   "metadata": {},
   "outputs": [],
   "source": [
    "def sentence_similarity(sent1, sent2):\n",
    "    # Convert all words to lowercase\n",
    "    sent1 = [w.lower() for w in sent1]\n",
    "    sent2 = [w.lower() for w in sent2]\n",
    "\n",
    "    # Get all unique words from both sentences\n",
    "    all_words = list(set(sent1 + sent2))\n",
    "\n",
    "    # Initialize vectors for both sentences with zeros\n",
    "    vector1 = [0] * len(all_words)\n",
    "    vector2 = [0] * len(all_words)\n",
    "\n",
    "    # Build the vector for the first sentence\n",
    "    for w in sent1:\n",
    "        # Increment the count of the word in the vector\n",
    "        vector1[all_words.index(w)] += 1\n",
    "\n",
    "    # Build the vector for the second sentence\n",
    "    for w in sent2:\n",
    "        # Increment the count of the word in the vector\n",
    "        vector2[all_words.index(w)] += 1\n",
    "        return 1 - cosine_distance(vector1, vector2)"
   ]
  },
  {
   "cell_type": "markdown",
   "id": "bf86937a-abd6-4c32-a744-922af910a3ea",
   "metadata": {},
   "source": [
    "<font size=\"3\"><b>CREATING THE SIMILARITY MATRIX</b></font>"
   ]
  },
  {
   "cell_type": "code",
   "execution_count": 131,
   "id": "8ea25ea3-36c9-4c25-bd49-9cffce2cd2cc",
   "metadata": {},
   "outputs": [
    {
     "name": "stdout",
     "output_type": "stream",
     "text": [
      "Smilarity matrix \n",
      " [[0.         0.         0.         0.17407766 0.         0.\n",
      "  0.17407766 0.         0.         0.17407766 0.         0.17407766\n",
      "  0.        ]\n",
      " [0.         0.         0.15075567 0.         0.15075567 0.15075567\n",
      "  0.         0.         0.         0.         0.         0.\n",
      "  0.        ]\n",
      " [0.12309149 0.         0.         0.61545745 0.         0.12309149\n",
      "  0.61545745 0.         0.         0.61545745 0.         0.61545745\n",
      "  0.        ]\n",
      " [0.         0.         0.09449112 0.         0.         0.09449112\n",
      "  0.28347335 0.         0.         0.28347335 0.         0.28347335\n",
      "  0.        ]\n",
      " [0.         0.15075567 0.15075567 0.         0.         0.15075567\n",
      "  0.         0.         0.         0.         0.         0.\n",
      "  0.        ]\n",
      " [0.12309149 0.         0.12309149 0.61545745 0.         0.\n",
      "  0.61545745 0.         0.         0.61545745 0.         0.61545745\n",
      "  0.        ]\n",
      " [0.         0.         0.09950372 0.29851116 0.         0.09950372\n",
      "  0.         0.         0.         0.29851116 0.         0.29851116\n",
      "  0.        ]\n",
      " [0.         0.         0.         0.         0.         0.\n",
      "  0.         0.         0.         0.         0.         0.\n",
      "  0.2773501 ]\n",
      " [0.         0.         0.         0.         0.         0.\n",
      "  0.         0.         0.         0.         0.         0.\n",
      "  0.        ]\n",
      " [0.         0.         0.         0.6289709  0.         0.\n",
      "  0.6289709  0.         0.         0.         0.         0.6289709\n",
      "  0.        ]\n",
      " [0.4        0.         0.2        0.4        0.         0.2\n",
      "  0.4        0.2        0.         0.4        0.         0.4\n",
      "  0.2       ]\n",
      " [0.14586499 0.         0.14586499 0.14586499 0.         0.14586499\n",
      "  0.14586499 0.         0.         0.14586499 0.         0.\n",
      "  0.        ]\n",
      " [0.         0.         0.         0.         0.         0.\n",
      "  0.         0.2236068  0.         0.         0.         0.\n",
      "  0.        ]]\n"
     ]
    }
   ],
   "source": [
    "similarity_matrix = np.zeros((len(sentences), len(sentences)))\n",
    " \n",
    "for idx1 in range(len(sentences)):\n",
    "        for idx2 in range(len(sentences)):\n",
    "             if idx1 == idx2: #ignore if both are same sentences\n",
    "                continue \n",
    "             similarity_matrix[idx1][idx2] = sentence_similarity(sentences[idx1], sentences[idx2])\n",
    "\n",
    "print(\"Smilarity matrix \\n\", similarity_matrix)"
   ]
  },
  {
   "cell_type": "markdown",
   "id": "ed55f45d-1386-407c-89dd-462122b9f611",
   "metadata": {},
   "source": [
    "<font size=\"3\"><b>GET THE PAGERANK SCORES</b></font>"
   ]
  },
  {
   "cell_type": "code",
   "execution_count": 132,
   "id": "10a8eb31-a2dd-4199-b7d5-af5aa02c8001",
   "metadata": {},
   "outputs": [
    {
     "name": "stdout",
     "output_type": "stream",
     "text": [
      "PageRank scores: {0: 0.06871321672922064, 1: 0.03588631402612124, 2: 0.09134735481953071, 3: 0.11262097614838441, 4: 0.03588631402612124, 5: 0.11280755468266596, 6: 0.09031534785507, 7: 0.038412867051168746, 8: 0.012345679012345684, 9: 0.15056721896482106, 10: 0.14544972460442235, 11: 0.06723456502895941, 12: 0.038412867051168746}\n"
     ]
    }
   ],
   "source": [
    "import networkx as nx\n",
    "\n",
    "# Create a graph from the similarity matrix using NetworkX\n",
    "sentence_similarity_graph = nx.from_numpy_array(similarity_matrix)\n",
    "\n",
    "# Calculate the PageRank scores for each node (sentence) in the graph\n",
    "scores = nx.pagerank(sentence_similarity_graph)\n",
    "\n",
    "# Print the PageRank scores\n",
    "print(\"PageRank scores:\", scores)"
   ]
  },
  {
   "cell_type": "markdown",
   "id": "fa4e22f1-1e58-4c05-a3b1-fc915c702787",
   "metadata": {},
   "source": [
    "<font size=\"3\"><b>SORT SENTENCES BY PAGERANK</b></font>"
   ]
  },
  {
   "cell_type": "code",
   "execution_count": 133,
   "id": "ecc0cf6a-32c3-46b9-ab00-3351533171ac",
   "metadata": {},
   "outputs": [
    {
     "name": "stdout",
     "output_type": "stream",
     "text": [
      "Indexes of top ranked sentences in descending order:\n",
      " [(0.15056721896482106, ['The', 'program', 'is', 'an', 'attempt', 'to', 'ramp', 'up', 'the', 'institutional', 'set-up', 'and', 'build', 'capabilities', 'among', 'the', 'educators', 'to', 'educate', 'the', 'workforce', 'of', 'tomorrow.\"', 'The', 'program', 'aims', 'to', 'build', 'up', 'the', 'cognitive', 'skills', 'and', 'in-depth', 'understanding', 'of', 'developing', 'intelligent', 'cloud', 'connected', 'solutions', 'for', 'applications', 'across', 'industry']), (0.14544972460442235, ['Earlier', 'in', 'April', 'this', 'year,', 'the', 'company', 'announced', 'Microsoft', 'Professional', 'Program', 'In', 'AI', 'as', 'a', 'learning', 'track', 'open', 'to', 'the', 'public']), (0.11280755468266596, ['As', 'part', 'of', 'the', 'program,', 'the', 'Redmond', 'giant', 'which', 'wants', 'to', 'expand', 'its', 'reach', 'and', 'is', 'planning', 'to', 'build', 'a', 'strong', 'developer', 'ecosystem', 'in', 'India', 'with', 'the', 'program', 'will', 'set', 'up', 'the', 'core', 'AI', 'infrastructure', 'and', 'IoT', 'Hub', 'for', 'the', 'selected', 'campuses']), (0.11262097614838441, ['The', 'company', 'will', 'provide', 'AI', 'development', 'tools', 'and', 'Azure', 'AI', 'services', 'such', 'as', 'Microsoft', 'Cognitive', 'Services,', 'Bot', 'Services', 'and', 'Azure', 'Machine', 'Learning.According', 'to', 'Manish', 'Prakash,', 'Country', 'General', 'Manager-PS,', 'Health', 'and', 'Education,', 'Microsoft', 'India,', 'said,', '\"With', 'AI', 'being', 'the', 'defining', 'technology', 'of', 'our', 'time,', 'it', 'is', 'transIn', 'an', 'attempt', 'to', 'build', 'an', 'AI-ready', 'workforce,', 'Microsoft', 'announced', 'Intelligent', 'Cloud', 'Hub', 'which', 'has', 'been', 'launched', 'to', 'empower', 'the', 'next', 'generation', 'of', 'students', 'with', 'AI-ready', 'skills']), (0.09134735481953071, ['As', 'part', 'of', 'the', 'program,', 'the', 'Redmond', 'giant', 'which', 'wants', 'to', 'expand', 'its', 'reach', 'and', 'is', 'planning', 'to', 'build', 'a', 'strong', 'developer', 'ecosystem', 'in', 'India', 'with', 'the', 'program', 'will', 'set', 'up', 'the', 'core', 'AI', 'infrastructure', 'and', 'IoT', 'Hub', 'for', 'the', 'selected', 'campuses']), (0.09031534785507, ['The', 'company', 'will', 'provide', 'AI', 'development', 'tools', 'and', 'Azure', 'AI', 'services', 'such', 'as', 'Microsoft', 'Cognitive', 'Services,', 'Bot', 'Services', 'and', 'Azure', 'Machine', 'Learning.According', 'to', 'Manish', 'Prakash,', 'Country', 'General', 'Manager-PS,', 'Health', 'and', 'Education,', 'Microsoft', 'India,', 'said,', '\"With', 'AI', 'being', 'the', 'defining', 'technology', 'of', 'our', 'time,', 'it', 'is', 'transforming', 'lives', 'and', 'industry', 'and', 'the', 'jobs', 'of', 'tomorrow', 'will', 'require', 'a', 'different', 'skillset']), (0.06871321672922064, ['In', 'an', 'attempt', 'to', 'build', 'an', 'AI-ready', 'workforce,', 'Microsoft', 'announced', 'Intelligent', 'Cloud', 'Hub', 'which', 'has', 'been', 'launched', 'to', 'empower', 'the', 'next', 'generation', 'of', 'students', 'with', 'AI-ready', 'skills']), (0.06723456502895941, ['The', 'program', 'was', 'developed', 'to', 'provide', 'job', 'ready', 'skills', 'to', 'programmers', 'who', 'wanted', 'to', 'hone', 'their', 'skills', 'in', 'AI', 'and', 'data', 'science', 'with', 'a', 'series', 'of', 'online', 'courses', 'which', 'featured', 'hands-on', 'labs', 'and', 'expert', 'instructors', 'as', 'well']), (0.038412867051168746, ['This', 'will', 'require', 'more', 'collaborations', 'and', 'training', 'and', 'working', 'with', 'AI']), (0.038412867051168746, ['This', 'program', 'also', 'included', 'developer-focused', 'AI', 'school', 'that', 'provided', 'a', 'bunch', 'of', 'assets', 'to', 'help', 'build', 'AI', 'skills.']), (0.03588631402612124, ['Envisioned', 'as', 'a', 'three-year', 'collaborative', 'program,', 'Intelligent', 'Cloud', 'Hub', 'will', 'support', 'around', '100', 'institutions', 'with', 'AI', 'infrastructure,', 'course', 'content', 'and', 'curriculum,', 'developer', 'support,', 'development', 'tools', 'and', 'give', 'students', 'access', 'to', 'cloud', 'and', 'AI', 'services']), (0.03588631402612124, ['Envisioned', 'as', 'a', 'three-year', 'collaborative', 'program,', 'Intelligent', 'Cloud', 'Hub', 'will', 'support', 'around', '100', 'institutions', 'with', 'AI', 'infrastructure,', 'course', 'content', 'and', 'curriculum,', 'developer', 'support,', 'development', 'tools', 'and', 'give', 'students', 'access', 'to', 'cloud', 'and', 'AI', 'services']), (0.012345679012345684, ['Thatâ€™s', 'why', 'it', 'has', 'become', 'more', 'critical', 'than', 'ever', 'for', 'educational', 'institutions', 'to', 'integrate', 'new', 'cloud', 'and', 'AI', 'technologies'])]\n"
     ]
    }
   ],
   "source": [
    "# Sort the sentences based on their PageRank scores in descending order\n",
    "ranked_sentence = sorted(((scores[i], s) for i, s in enumerate(sentences)), reverse=True)\n",
    "\n",
    "# Print the indexes of top-ranked sentences in the order of their importance\n",
    "print(\"Indexes of top ranked sentences in descending order:\\n\", ranked_sentence)"
   ]
  },
  {
   "cell_type": "markdown",
   "id": "39d80121-d120-4f55-8b1c-0895d2990019",
   "metadata": {},
   "source": [
    "<font size=\"3\"><b>PICK THE TOP \"N\" SENTENCES </b></font>"
   ]
  },
  {
   "cell_type": "code",
   "execution_count": 134,
   "id": "b18f4769-1061-414b-9d05-83c4d5fe0e2b",
   "metadata": {},
   "outputs": [
    {
     "name": "stdin",
     "output_type": "stream",
     "text": [
      "How many sentences do you want in the summary?  3\n"
     ]
    }
   ],
   "source": [
    "# Step 5 - How many sentences to pick\n",
    "\n",
    "# Prompt the user to input the number of sentences they want in the summary\n",
    "n = int(input(\"How many sentences do you want in the summary? \"))\n",
    "\n",
    "# Initialize an empty list to store the summarized sentences\n",
    "summarize_text = []\n",
    "\n",
    "# Iterate through the top n ranked sentences and join them into a single string\n",
    "for i in range(n):\n",
    "    # Append the joined sentence to the summarize_text list\n",
    "    summarize_text.append(\" \".join(ranked_sentence[i][1]))"
   ]
  },
  {
   "cell_type": "markdown",
   "id": "c39bbfd0-1273-4ac6-863a-5b4f8c3d795e",
   "metadata": {},
   "source": [
    "<font size=\"3\"><b>PRINTING THE SUMMARY</b></font>"
   ]
  },
  {
   "cell_type": "code",
   "execution_count": 135,
   "id": "27c042bc-4553-4215-90da-07723825e9f8",
   "metadata": {},
   "outputs": [
    {
     "name": "stdout",
     "output_type": "stream",
     "text": [
      "Summarized Text:\n",
      " The program is an attempt to ramp up the institutional set-up and build capabilities among the educators to educate the workforce of tomorrow.\" The program aims to build up the cognitive skills and in-depth understanding of developing intelligent cloud connected solutions for applications across industry. Earlier in April this year, the company announced Microsoft Professional Program In AI as a learning track open to the public. As part of the program, the Redmond giant which wants to expand its reach and is planning to build a strong developer ecosystem in India with the program will set up the core AI infrastructure and IoT Hub for the selected campuses\n"
     ]
    }
   ],
   "source": [
    "# Step 6 - Output the summarized text\n",
    "\n",
    "# Print the summarized text by joining the sentences with a period and a space\n",
    "print(\"Summarized Text:\\n\", \". \".join(summarize_text))"
   ]
  }
 ],
 "metadata": {
  "kernelspec": {
   "display_name": "Python 3 (ipykernel)",
   "language": "python",
   "name": "python3"
  },
  "language_info": {
   "codemirror_mode": {
    "name": "ipython",
    "version": 3
   },
   "file_extension": ".py",
   "mimetype": "text/x-python",
   "name": "python",
   "nbconvert_exporter": "python",
   "pygments_lexer": "ipython3",
   "version": "3.12.1"
  }
 },
 "nbformat": 4,
 "nbformat_minor": 5
}
