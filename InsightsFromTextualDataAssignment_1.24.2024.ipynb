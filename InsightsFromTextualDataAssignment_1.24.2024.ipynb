{
 "cells": [
  {
   "cell_type": "markdown",
   "id": "6235ba2e-b36c-461b-8e21-9d7d1aa78192",
   "metadata": {},
   "source": [
    "<font size=\"5\"><b><center>INSIGHTS FROM TEXTUAL DATA</center></b></font>\n",
    "<font size=\"2\"><b><center>ASSIGNMENT-2</center></b></font>"
   ]
  },
  {
   "cell_type": "markdown",
   "id": "0cd1c1e0-e8f0-4aef-8b4d-596db7e96f49",
   "metadata": {},
   "source": [
    "<font size=\"3\"><b>CUSTOMER SUPPORT ON TWITTER DATASET OVERVIEW</b></font>\n",
    "\n",
    "The dataset provided contains information about Twitter conversations between users and companies, primarily focusing on customer support interactions. Below is a breakdown of the different columns in the dataset:\n",
    "\n",
    "## Columns:\n",
    "\n",
    "1. **tweet_id**: A unique, anonymized identifier for each tweet in the dataset. It is referenced by other tweets, particularly response tweets.\n",
    "\n",
    "2. **author_id**: An anonymized user ID uniquely identifying the users who authored the tweets. For companies providing customer support, their user IDs are likely included here.\n",
    "\n",
    "3. **inbound**: A binary indicator specifying whether the tweet is inbound to a company providing customer support on Twitter.\n",
    "\n",
    "4. **created_at**: Date and time when each tweet was sent, providing temporal context to the dataset.\n",
    "\n",
    "5. **text**: The content of the tweet, including user inquiries, complaints, or feedback.\n",
    "\n",
    "6. **response_tweet_id**: IDs of tweets that are responses to the tweet in the current row, facilitating the tracking of conversational flow.\n",
    "\n",
    "7. **in_response_to_tweet_id**: ID of the tweet to which the current tweet is responding, helping in reconstructing conversation threads and understanding context.\n",
    "\n",
    "This dataset offers valuable insights into customer-company interactions on Twitter, aiding in the analysis of user queries, company responses, and overall dynamics of these interactions."
   ]
  },
  {
   "cell_type": "markdown",
   "id": "cc76dd24-fdef-44dd-9812-f2e8f2471078",
   "metadata": {},
   "source": [
    "<font size=\"3\"><b>LOADING DATA SET</b></font>"
   ]
  },
  {
   "cell_type": "code",
   "execution_count": 142,
   "id": "e7614a98-6c88-4cf4-9851-73cb26b55348",
   "metadata": {},
   "outputs": [
    {
     "name": "stdout",
     "output_type": "stream",
     "text": [
      "Requirement already satisfied: pandas in c:\\users\\aleky\\appdata\\local\\programs\\python\\python312\\lib\\site-packages (2.2.0)\n",
      "Requirement already satisfied: numpy<2,>=1.26.0 in c:\\users\\aleky\\appdata\\local\\programs\\python\\python312\\lib\\site-packages (from pandas) (1.26.3)\n",
      "Requirement already satisfied: python-dateutil>=2.8.2 in c:\\users\\aleky\\appdata\\local\\programs\\python\\python312\\lib\\site-packages (from pandas) (2.8.2)\n",
      "Requirement already satisfied: pytz>=2020.1 in c:\\users\\aleky\\appdata\\local\\programs\\python\\python312\\lib\\site-packages (from pandas) (2023.3.post1)\n",
      "Requirement already satisfied: tzdata>=2022.7 in c:\\users\\aleky\\appdata\\local\\programs\\python\\python312\\lib\\site-packages (from pandas) (2023.4)\n",
      "Requirement already satisfied: six>=1.5 in c:\\users\\aleky\\appdata\\local\\programs\\python\\python312\\lib\\site-packages (from python-dateutil>=2.8.2->pandas) (1.16.0)\n"
     ]
    },
    {
     "data": {
      "text/html": [
       "<div>\n",
       "<style scoped>\n",
       "    .dataframe tbody tr th:only-of-type {\n",
       "        vertical-align: middle;\n",
       "    }\n",
       "\n",
       "    .dataframe tbody tr th {\n",
       "        vertical-align: top;\n",
       "    }\n",
       "\n",
       "    .dataframe thead th {\n",
       "        text-align: right;\n",
       "    }\n",
       "</style>\n",
       "<table border=\"1\" class=\"dataframe\">\n",
       "  <thead>\n",
       "    <tr style=\"text-align: right;\">\n",
       "      <th></th>\n",
       "      <th>tweet_id</th>\n",
       "      <th>author_id</th>\n",
       "      <th>inbound</th>\n",
       "      <th>created_at</th>\n",
       "      <th>text</th>\n",
       "      <th>response_tweet_id</th>\n",
       "      <th>in_response_to_tweet_id</th>\n",
       "    </tr>\n",
       "  </thead>\n",
       "  <tbody>\n",
       "    <tr>\n",
       "      <th>0</th>\n",
       "      <td>119237</td>\n",
       "      <td>105834</td>\n",
       "      <td>True</td>\n",
       "      <td>Wed Oct 11 06:55:44 +0000 2017</td>\n",
       "      <td>@AppleSupport causing the reply to be disregar...</td>\n",
       "      <td>119236</td>\n",
       "      <td>NaN</td>\n",
       "    </tr>\n",
       "    <tr>\n",
       "      <th>1</th>\n",
       "      <td>119238</td>\n",
       "      <td>ChaseSupport</td>\n",
       "      <td>False</td>\n",
       "      <td>Wed Oct 11 13:25:49 +0000 2017</td>\n",
       "      <td>@105835 Your business means a lot to us. Pleas...</td>\n",
       "      <td>NaN</td>\n",
       "      <td>119239.0</td>\n",
       "    </tr>\n",
       "    <tr>\n",
       "      <th>2</th>\n",
       "      <td>119239</td>\n",
       "      <td>105835</td>\n",
       "      <td>True</td>\n",
       "      <td>Wed Oct 11 13:00:09 +0000 2017</td>\n",
       "      <td>@76328 I really hope you all change but I'm su...</td>\n",
       "      <td>119238</td>\n",
       "      <td>NaN</td>\n",
       "    </tr>\n",
       "    <tr>\n",
       "      <th>3</th>\n",
       "      <td>119240</td>\n",
       "      <td>VirginTrains</td>\n",
       "      <td>False</td>\n",
       "      <td>Tue Oct 10 15:16:08 +0000 2017</td>\n",
       "      <td>@105836 LiveChat is online at the moment - htt...</td>\n",
       "      <td>119241</td>\n",
       "      <td>119242.0</td>\n",
       "    </tr>\n",
       "    <tr>\n",
       "      <th>4</th>\n",
       "      <td>119241</td>\n",
       "      <td>105836</td>\n",
       "      <td>True</td>\n",
       "      <td>Tue Oct 10 15:17:21 +0000 2017</td>\n",
       "      <td>@VirginTrains see attached error message. I've...</td>\n",
       "      <td>119243</td>\n",
       "      <td>119240.0</td>\n",
       "    </tr>\n",
       "  </tbody>\n",
       "</table>\n",
       "</div>"
      ],
      "text/plain": [
       "   tweet_id     author_id  inbound                      created_at  \\\n",
       "0    119237        105834     True  Wed Oct 11 06:55:44 +0000 2017   \n",
       "1    119238  ChaseSupport    False  Wed Oct 11 13:25:49 +0000 2017   \n",
       "2    119239        105835     True  Wed Oct 11 13:00:09 +0000 2017   \n",
       "3    119240  VirginTrains    False  Tue Oct 10 15:16:08 +0000 2017   \n",
       "4    119241        105836     True  Tue Oct 10 15:17:21 +0000 2017   \n",
       "\n",
       "                                                text response_tweet_id  \\\n",
       "0  @AppleSupport causing the reply to be disregar...            119236   \n",
       "1  @105835 Your business means a lot to us. Pleas...               NaN   \n",
       "2  @76328 I really hope you all change but I'm su...            119238   \n",
       "3  @105836 LiveChat is online at the moment - htt...            119241   \n",
       "4  @VirginTrains see attached error message. I've...            119243   \n",
       "\n",
       "   in_response_to_tweet_id  \n",
       "0                      NaN  \n",
       "1                 119239.0  \n",
       "2                      NaN  \n",
       "3                 119242.0  \n",
       "4                 119240.0  "
      ]
     },
     "execution_count": 142,
     "metadata": {},
     "output_type": "execute_result"
    }
   ],
   "source": [
    "# Loading data set using pandas.\n",
    "!pip install pandas\n",
    "\n",
    "import pandas as pd\n",
    "\n",
    "file= \"C:/Users/aleky/Desktop/TextBasedAnalysis/Customer Support on Twitter.csv\"\n",
    "df = pd.read_csv(file)\n",
    "df.head()"
   ]
  },
  {
   "cell_type": "markdown",
   "id": "4d0c3dec-a9cc-4121-b1e7-5b8c7603432a",
   "metadata": {},
   "source": [
    "<font size=\"3\"><b>PRINTING A DATA FRAME</b></font>"
   ]
  },
  {
   "cell_type": "code",
   "execution_count": 143,
   "id": "cd3949e0-0387-4a8d-9741-01d10bba244d",
   "metadata": {},
   "outputs": [
    {
     "data": {
      "text/html": [
       "<div>\n",
       "<style scoped>\n",
       "    .dataframe tbody tr th:only-of-type {\n",
       "        vertical-align: middle;\n",
       "    }\n",
       "\n",
       "    .dataframe tbody tr th {\n",
       "        vertical-align: top;\n",
       "    }\n",
       "\n",
       "    .dataframe thead th {\n",
       "        text-align: right;\n",
       "    }\n",
       "</style>\n",
       "<table border=\"1\" class=\"dataframe\">\n",
       "  <thead>\n",
       "    <tr style=\"text-align: right;\">\n",
       "      <th></th>\n",
       "      <th>tweet_id</th>\n",
       "      <th>author_id</th>\n",
       "      <th>inbound</th>\n",
       "      <th>created_at</th>\n",
       "      <th>text</th>\n",
       "      <th>response_tweet_id</th>\n",
       "      <th>in_response_to_tweet_id</th>\n",
       "    </tr>\n",
       "  </thead>\n",
       "  <tbody>\n",
       "    <tr>\n",
       "      <th>0</th>\n",
       "      <td>119237</td>\n",
       "      <td>105834</td>\n",
       "      <td>True</td>\n",
       "      <td>Wed Oct 11 06:55:44 +0000 2017</td>\n",
       "      <td>@AppleSupport causing the reply to be disregar...</td>\n",
       "      <td>119236</td>\n",
       "      <td>NaN</td>\n",
       "    </tr>\n",
       "    <tr>\n",
       "      <th>1</th>\n",
       "      <td>119238</td>\n",
       "      <td>ChaseSupport</td>\n",
       "      <td>False</td>\n",
       "      <td>Wed Oct 11 13:25:49 +0000 2017</td>\n",
       "      <td>@105835 Your business means a lot to us. Pleas...</td>\n",
       "      <td>NaN</td>\n",
       "      <td>119239.0</td>\n",
       "    </tr>\n",
       "    <tr>\n",
       "      <th>2</th>\n",
       "      <td>119239</td>\n",
       "      <td>105835</td>\n",
       "      <td>True</td>\n",
       "      <td>Wed Oct 11 13:00:09 +0000 2017</td>\n",
       "      <td>@76328 I really hope you all change but I'm su...</td>\n",
       "      <td>119238</td>\n",
       "      <td>NaN</td>\n",
       "    </tr>\n",
       "    <tr>\n",
       "      <th>3</th>\n",
       "      <td>119240</td>\n",
       "      <td>VirginTrains</td>\n",
       "      <td>False</td>\n",
       "      <td>Tue Oct 10 15:16:08 +0000 2017</td>\n",
       "      <td>@105836 LiveChat is online at the moment - htt...</td>\n",
       "      <td>119241</td>\n",
       "      <td>119242.0</td>\n",
       "    </tr>\n",
       "    <tr>\n",
       "      <th>4</th>\n",
       "      <td>119241</td>\n",
       "      <td>105836</td>\n",
       "      <td>True</td>\n",
       "      <td>Tue Oct 10 15:17:21 +0000 2017</td>\n",
       "      <td>@VirginTrains see attached error message. I've...</td>\n",
       "      <td>119243</td>\n",
       "      <td>119240.0</td>\n",
       "    </tr>\n",
       "    <tr>\n",
       "      <th>...</th>\n",
       "      <td>...</td>\n",
       "      <td>...</td>\n",
       "      <td>...</td>\n",
       "      <td>...</td>\n",
       "      <td>...</td>\n",
       "      <td>...</td>\n",
       "      <td>...</td>\n",
       "    </tr>\n",
       "    <tr>\n",
       "      <th>88</th>\n",
       "      <td>119330</td>\n",
       "      <td>105859</td>\n",
       "      <td>True</td>\n",
       "      <td>Wed Oct 11 13:50:42 +0000 2017</td>\n",
       "      <td>@105860 I wish Amazon had an option of where I...</td>\n",
       "      <td>119329</td>\n",
       "      <td>119331.0</td>\n",
       "    </tr>\n",
       "    <tr>\n",
       "      <th>89</th>\n",
       "      <td>119331</td>\n",
       "      <td>105860</td>\n",
       "      <td>True</td>\n",
       "      <td>Wed Oct 11 13:47:14 +0000 2017</td>\n",
       "      <td>They reschedule my shit for tomorrow https://t...</td>\n",
       "      <td>119330</td>\n",
       "      <td>NaN</td>\n",
       "    </tr>\n",
       "    <tr>\n",
       "      <th>90</th>\n",
       "      <td>119332</td>\n",
       "      <td>Tesco</td>\n",
       "      <td>False</td>\n",
       "      <td>Wed Oct 11 13:34:06 +0000 2017</td>\n",
       "      <td>@105861 Hey Sara, sorry to hear of the issues ...</td>\n",
       "      <td>119333</td>\n",
       "      <td>119334.0</td>\n",
       "    </tr>\n",
       "    <tr>\n",
       "      <th>91</th>\n",
       "      <td>119333</td>\n",
       "      <td>105861</td>\n",
       "      <td>True</td>\n",
       "      <td>Wed Oct 11 14:05:18 +0000 2017</td>\n",
       "      <td>@Tesco bit of both - finding the layout cumber...</td>\n",
       "      <td>119,335,119,336</td>\n",
       "      <td>119332.0</td>\n",
       "    </tr>\n",
       "    <tr>\n",
       "      <th>92</th>\n",
       "      <td>119335</td>\n",
       "      <td>Tesco</td>\n",
       "      <td>False</td>\n",
       "      <td>Wed Oct 11 15:38:07 +0000 2017</td>\n",
       "      <td>@105861 If that doesn't help please DM your fu...</td>\n",
       "      <td>NaN</td>\n",
       "      <td>119333.0</td>\n",
       "    </tr>\n",
       "  </tbody>\n",
       "</table>\n",
       "<p>93 rows × 7 columns</p>\n",
       "</div>"
      ],
      "text/plain": [
       "    tweet_id     author_id  inbound                      created_at  \\\n",
       "0     119237        105834     True  Wed Oct 11 06:55:44 +0000 2017   \n",
       "1     119238  ChaseSupport    False  Wed Oct 11 13:25:49 +0000 2017   \n",
       "2     119239        105835     True  Wed Oct 11 13:00:09 +0000 2017   \n",
       "3     119240  VirginTrains    False  Tue Oct 10 15:16:08 +0000 2017   \n",
       "4     119241        105836     True  Tue Oct 10 15:17:21 +0000 2017   \n",
       "..       ...           ...      ...                             ...   \n",
       "88    119330        105859     True  Wed Oct 11 13:50:42 +0000 2017   \n",
       "89    119331        105860     True  Wed Oct 11 13:47:14 +0000 2017   \n",
       "90    119332         Tesco    False  Wed Oct 11 13:34:06 +0000 2017   \n",
       "91    119333        105861     True  Wed Oct 11 14:05:18 +0000 2017   \n",
       "92    119335         Tesco    False  Wed Oct 11 15:38:07 +0000 2017   \n",
       "\n",
       "                                                 text response_tweet_id  \\\n",
       "0   @AppleSupport causing the reply to be disregar...            119236   \n",
       "1   @105835 Your business means a lot to us. Pleas...               NaN   \n",
       "2   @76328 I really hope you all change but I'm su...            119238   \n",
       "3   @105836 LiveChat is online at the moment - htt...            119241   \n",
       "4   @VirginTrains see attached error message. I've...            119243   \n",
       "..                                                ...               ...   \n",
       "88  @105860 I wish Amazon had an option of where I...            119329   \n",
       "89  They reschedule my shit for tomorrow https://t...            119330   \n",
       "90  @105861 Hey Sara, sorry to hear of the issues ...            119333   \n",
       "91  @Tesco bit of both - finding the layout cumber...   119,335,119,336   \n",
       "92  @105861 If that doesn't help please DM your fu...               NaN   \n",
       "\n",
       "    in_response_to_tweet_id  \n",
       "0                       NaN  \n",
       "1                  119239.0  \n",
       "2                       NaN  \n",
       "3                  119242.0  \n",
       "4                  119240.0  \n",
       "..                      ...  \n",
       "88                 119331.0  \n",
       "89                      NaN  \n",
       "90                 119334.0  \n",
       "91                 119332.0  \n",
       "92                 119333.0  \n",
       "\n",
       "[93 rows x 7 columns]"
      ]
     },
     "execution_count": 143,
     "metadata": {},
     "output_type": "execute_result"
    }
   ],
   "source": [
    "#Display the few rows of the DataFrame\n",
    "df"
   ]
  },
  {
   "cell_type": "markdown",
   "id": "75752127-5ef3-455d-8cec-a9dd5ac59c71",
   "metadata": {},
   "source": [
    "<font size=\"3\"><b>ACCESSING A DATA FRAME</b></font>"
   ]
  },
  {
   "cell_type": "code",
   "execution_count": 144,
   "id": "ac30334b-eebe-4c34-b038-b5a99789a794",
   "metadata": {},
   "outputs": [
    {
     "data": {
      "text/plain": [
       "Index(['tweet_id', 'author_id', 'inbound', 'created_at', 'text',\n",
       "       'response_tweet_id', 'in_response_to_tweet_id'],\n",
       "      dtype='object')"
      ]
     },
     "execution_count": 144,
     "metadata": {},
     "output_type": "execute_result"
    }
   ],
   "source": [
    "# df.columns return columns of data frame\n",
    "df.columns"
   ]
  },
  {
   "cell_type": "markdown",
   "id": "da366b43-b6b3-4650-9811-728f49c85801",
   "metadata": {},
   "source": [
    "<font size=\"3\"><b>PRINTING DATA TYPES OF COLUMNS</b></font>"
   ]
  },
  {
   "cell_type": "code",
   "execution_count": 145,
   "id": "dc55c0b2-79de-43e6-8e2e-a32f8b3b46b3",
   "metadata": {},
   "outputs": [
    {
     "data": {
      "text/plain": [
       "tweet_id                     int64\n",
       "author_id                   object\n",
       "inbound                       bool\n",
       "created_at                  object\n",
       "text                        object\n",
       "response_tweet_id           object\n",
       "in_response_to_tweet_id    float64\n",
       "dtype: object"
      ]
     },
     "execution_count": 145,
     "metadata": {},
     "output_type": "execute_result"
    }
   ],
   "source": [
    "# df.dtypes returns data types of the data frame\n",
    "df.dtypes"
   ]
  },
  {
   "cell_type": "markdown",
   "id": "0bf79000-fab7-4e9b-8b0f-08a942af899d",
   "metadata": {},
   "source": [
    "<font size=\"3\"><b>PRINTING INFORMATION OF DATA</b></font>"
   ]
  },
  {
   "cell_type": "code",
   "execution_count": 146,
   "id": "cff8bb1e-ce0d-4646-be11-710d52f07ea4",
   "metadata": {},
   "outputs": [
    {
     "name": "stdout",
     "output_type": "stream",
     "text": [
      "<class 'pandas.core.frame.DataFrame'>\n",
      "RangeIndex: 93 entries, 0 to 92\n",
      "Data columns (total 7 columns):\n",
      " #   Column                   Non-Null Count  Dtype  \n",
      "---  ------                   --------------  -----  \n",
      " 0   tweet_id                 93 non-null     int64  \n",
      " 1   author_id                93 non-null     object \n",
      " 2   inbound                  93 non-null     bool   \n",
      " 3   created_at               93 non-null     object \n",
      " 4   text                     93 non-null     object \n",
      " 5   response_tweet_id        65 non-null     object \n",
      " 6   in_response_to_tweet_id  68 non-null     float64\n",
      "dtypes: bool(1), float64(1), int64(1), object(4)\n",
      "memory usage: 4.6+ KB\n"
     ]
    }
   ],
   "source": [
    "#df.info returns concise summary of a DataFrame\n",
    "df.info()"
   ]
  },
  {
   "cell_type": "markdown",
   "id": "410ba8e2-4b69-4cf5-aff9-e12c9a0411dc",
   "metadata": {},
   "source": [
    "<font size=\"3\"><b>PRINTING STATISTICAL INFORMATION OF DATA</b></font>"
   ]
  },
  {
   "cell_type": "code",
   "execution_count": 147,
   "id": "9f7c0114-7f49-4dd1-9334-b59b233c1bf5",
   "metadata": {},
   "outputs": [
    {
     "data": {
      "text/html": [
       "<div>\n",
       "<style scoped>\n",
       "    .dataframe tbody tr th:only-of-type {\n",
       "        vertical-align: middle;\n",
       "    }\n",
       "\n",
       "    .dataframe tbody tr th {\n",
       "        vertical-align: top;\n",
       "    }\n",
       "\n",
       "    .dataframe thead th {\n",
       "        text-align: right;\n",
       "    }\n",
       "</style>\n",
       "<table border=\"1\" class=\"dataframe\">\n",
       "  <thead>\n",
       "    <tr style=\"text-align: right;\">\n",
       "      <th></th>\n",
       "      <th>tweet_id</th>\n",
       "      <th>in_response_to_tweet_id</th>\n",
       "    </tr>\n",
       "  </thead>\n",
       "  <tbody>\n",
       "    <tr>\n",
       "      <th>count</th>\n",
       "      <td>93.000000</td>\n",
       "      <td>68.000000</td>\n",
       "    </tr>\n",
       "    <tr>\n",
       "      <th>mean</th>\n",
       "      <td>119285.451613</td>\n",
       "      <td>119285.676471</td>\n",
       "    </tr>\n",
       "    <tr>\n",
       "      <th>std</th>\n",
       "      <td>28.314045</td>\n",
       "      <td>28.910795</td>\n",
       "    </tr>\n",
       "    <tr>\n",
       "      <th>min</th>\n",
       "      <td>119237.000000</td>\n",
       "      <td>119239.000000</td>\n",
       "    </tr>\n",
       "    <tr>\n",
       "      <th>25%</th>\n",
       "      <td>119262.000000</td>\n",
       "      <td>119259.750000</td>\n",
       "    </tr>\n",
       "    <tr>\n",
       "      <th>50%</th>\n",
       "      <td>119285.000000</td>\n",
       "      <td>119284.500000</td>\n",
       "    </tr>\n",
       "    <tr>\n",
       "      <th>75%</th>\n",
       "      <td>119309.000000</td>\n",
       "      <td>119311.500000</td>\n",
       "    </tr>\n",
       "    <tr>\n",
       "      <th>max</th>\n",
       "      <td>119335.000000</td>\n",
       "      <td>119334.000000</td>\n",
       "    </tr>\n",
       "  </tbody>\n",
       "</table>\n",
       "</div>"
      ],
      "text/plain": [
       "            tweet_id  in_response_to_tweet_id\n",
       "count      93.000000                68.000000\n",
       "mean   119285.451613            119285.676471\n",
       "std        28.314045                28.910795\n",
       "min    119237.000000            119239.000000\n",
       "25%    119262.000000            119259.750000\n",
       "50%    119285.000000            119284.500000\n",
       "75%    119309.000000            119311.500000\n",
       "max    119335.000000            119334.000000"
      ]
     },
     "execution_count": 147,
     "metadata": {},
     "output_type": "execute_result"
    }
   ],
   "source": [
    "#The df.describe() method in pandas is used to generate descriptive statistics of the central tendency, dispersion, and shape of a DataFrame's distribution, excluding NaN values\n",
    "df.describe()"
   ]
  },
  {
   "cell_type": "markdown",
   "id": "704433ab-b761-49c6-9454-f6bd48651f2d",
   "metadata": {},
   "source": [
    "<font size=\"3\"><b>ADDING A NEW COLUMN TO THE DATAFRAME</b></font>"
   ]
  },
  {
   "cell_type": "code",
   "execution_count": 148,
   "id": "44af42d8-40ef-46ba-aba9-6e9c4fe539dd",
   "metadata": {},
   "outputs": [
    {
     "data": {
      "text/html": [
       "<div>\n",
       "<style scoped>\n",
       "    .dataframe tbody tr th:only-of-type {\n",
       "        vertical-align: middle;\n",
       "    }\n",
       "\n",
       "    .dataframe tbody tr th {\n",
       "        vertical-align: top;\n",
       "    }\n",
       "\n",
       "    .dataframe thead th {\n",
       "        text-align: right;\n",
       "    }\n",
       "</style>\n",
       "<table border=\"1\" class=\"dataframe\">\n",
       "  <thead>\n",
       "    <tr style=\"text-align: right;\">\n",
       "      <th></th>\n",
       "      <th>tweet_id</th>\n",
       "      <th>in_response_to_tweet_id</th>\n",
       "      <th>length</th>\n",
       "    </tr>\n",
       "  </thead>\n",
       "  <tbody>\n",
       "    <tr>\n",
       "      <th>count</th>\n",
       "      <td>93.000000</td>\n",
       "      <td>68.000000</td>\n",
       "      <td>93.000000</td>\n",
       "    </tr>\n",
       "    <tr>\n",
       "      <th>mean</th>\n",
       "      <td>119285.451613</td>\n",
       "      <td>119285.676471</td>\n",
       "      <td>118.559140</td>\n",
       "    </tr>\n",
       "    <tr>\n",
       "      <th>std</th>\n",
       "      <td>28.314045</td>\n",
       "      <td>28.910795</td>\n",
       "      <td>33.668932</td>\n",
       "    </tr>\n",
       "    <tr>\n",
       "      <th>min</th>\n",
       "      <td>119237.000000</td>\n",
       "      <td>119239.000000</td>\n",
       "      <td>32.000000</td>\n",
       "    </tr>\n",
       "    <tr>\n",
       "      <th>25%</th>\n",
       "      <td>119262.000000</td>\n",
       "      <td>119259.750000</td>\n",
       "      <td>93.000000</td>\n",
       "    </tr>\n",
       "    <tr>\n",
       "      <th>50%</th>\n",
       "      <td>119285.000000</td>\n",
       "      <td>119284.500000</td>\n",
       "      <td>132.000000</td>\n",
       "    </tr>\n",
       "    <tr>\n",
       "      <th>75%</th>\n",
       "      <td>119309.000000</td>\n",
       "      <td>119311.500000</td>\n",
       "      <td>146.000000</td>\n",
       "    </tr>\n",
       "    <tr>\n",
       "      <th>max</th>\n",
       "      <td>119335.000000</td>\n",
       "      <td>119334.000000</td>\n",
       "      <td>170.000000</td>\n",
       "    </tr>\n",
       "  </tbody>\n",
       "</table>\n",
       "</div>"
      ],
      "text/plain": [
       "            tweet_id  in_response_to_tweet_id      length\n",
       "count      93.000000                68.000000   93.000000\n",
       "mean   119285.451613            119285.676471  118.559140\n",
       "std        28.314045                28.910795   33.668932\n",
       "min    119237.000000            119239.000000   32.000000\n",
       "25%    119262.000000            119259.750000   93.000000\n",
       "50%    119285.000000            119284.500000  132.000000\n",
       "75%    119309.000000            119311.500000  146.000000\n",
       "max    119335.000000            119334.000000  170.000000"
      ]
     },
     "execution_count": 148,
     "metadata": {},
     "output_type": "execute_result"
    }
   ],
   "source": [
    "#Let’s add a new column with the length of the “text” column\n",
    "#df['text']: Selects the 'text' column from the DataFrame.\n",
    "#.str.len(): Applies the len() function to each element in the 'text' column, returning the length of each string.\n",
    "#df['length'] = ...: Creates a new column named 'length' in the DataFrame and assigns the calculated lengths to this column\n",
    "\n",
    "df['length'] = df['text'].str.len()\n",
    "df.describe()"
   ]
  },
  {
   "cell_type": "markdown",
   "id": "801a363e-7a09-44ac-999e-8b8ce08bcda1",
   "metadata": {},
   "source": [
    "<font size=\"3\"><b>PRINTING INFORMATION OF DATAFRAME</b></font>"
   ]
  },
  {
   "cell_type": "code",
   "execution_count": 149,
   "id": "41cbbca0-d4d1-4764-886d-d6714a6a02d4",
   "metadata": {},
   "outputs": [
    {
     "data": {
      "text/html": [
       "<div>\n",
       "<style scoped>\n",
       "    .dataframe tbody tr th:only-of-type {\n",
       "        vertical-align: middle;\n",
       "    }\n",
       "\n",
       "    .dataframe tbody tr th {\n",
       "        vertical-align: top;\n",
       "    }\n",
       "\n",
       "    .dataframe thead th {\n",
       "        text-align: right;\n",
       "    }\n",
       "</style>\n",
       "<table border=\"1\" class=\"dataframe\">\n",
       "  <thead>\n",
       "    <tr style=\"text-align: right;\">\n",
       "      <th></th>\n",
       "      <th>author_id</th>\n",
       "      <th>created_at</th>\n",
       "      <th>text</th>\n",
       "      <th>response_tweet_id</th>\n",
       "    </tr>\n",
       "  </thead>\n",
       "  <tbody>\n",
       "    <tr>\n",
       "      <th>count</th>\n",
       "      <td>93</td>\n",
       "      <td>93</td>\n",
       "      <td>93</td>\n",
       "      <td>65</td>\n",
       "    </tr>\n",
       "    <tr>\n",
       "      <th>unique</th>\n",
       "      <td>42</td>\n",
       "      <td>93</td>\n",
       "      <td>93</td>\n",
       "      <td>65</td>\n",
       "    </tr>\n",
       "    <tr>\n",
       "      <th>top</th>\n",
       "      <td>AppleSupport</td>\n",
       "      <td>Wed Oct 11 06:55:44 +0000 2017</td>\n",
       "      <td>@AppleSupport causing the reply to be disregar...</td>\n",
       "      <td>119236</td>\n",
       "    </tr>\n",
       "    <tr>\n",
       "      <th>freq</th>\n",
       "      <td>13</td>\n",
       "      <td>1</td>\n",
       "      <td>1</td>\n",
       "      <td>1</td>\n",
       "    </tr>\n",
       "  </tbody>\n",
       "</table>\n",
       "</div>"
      ],
      "text/plain": [
       "           author_id                      created_at  \\\n",
       "count             93                              93   \n",
       "unique            42                              93   \n",
       "top     AppleSupport  Wed Oct 11 06:55:44 +0000 2017   \n",
       "freq              13                               1   \n",
       "\n",
       "                                                     text response_tweet_id  \n",
       "count                                                  93                65  \n",
       "unique                                                 93                65  \n",
       "top     @AppleSupport causing the reply to be disregar...            119236  \n",
       "freq                                                    1                 1  "
      ]
     },
     "execution_count": 149,
     "metadata": {},
     "output_type": "execute_result"
    }
   ],
   "source": [
    "#The df.describe(include='O') output will show statistics for each object (string) column in your DataFrame.\n",
    "df.describe(include='O')"
   ]
  },
  {
   "cell_type": "markdown",
   "id": "55b1e1eb-2947-4511-9843-06f4d65d0b86",
   "metadata": {},
   "source": [
    "<font size=\"3\"><b>FINDING A MISSING VALUES OF DATAFRAME</b></font>"
   ]
  },
  {
   "cell_type": "code",
   "execution_count": 150,
   "id": "d0c46cf1-173b-4779-ba51-13c537c427da",
   "metadata": {},
   "outputs": [
    {
     "data": {
      "text/plain": [
       "tweet_id                    0\n",
       "author_id                   0\n",
       "inbound                     0\n",
       "created_at                  0\n",
       "text                        0\n",
       "response_tweet_id          28\n",
       "in_response_to_tweet_id    25\n",
       "length                      0\n",
       "dtype: int64"
      ]
     },
     "execution_count": 150,
     "metadata": {},
     "output_type": "execute_result"
    }
   ],
   "source": [
    "#df.isna().sum() output will show the count of missing values for each column in your DataFrame.\n",
    "df.isna().sum()"
   ]
  },
  {
   "cell_type": "markdown",
   "id": "fdc3fe66-f2ce-4e31-9fbc-f112d9c256a2",
   "metadata": {},
   "source": [
    "<font size=\"3\"><b>REPLACING MISSING DATA</b></font>"
   ]
  },
  {
   "cell_type": "code",
   "execution_count": 151,
   "id": "2ebc0aeb-5918-4f06-9baa-f9ec98c66b80",
   "metadata": {},
   "outputs": [
    {
     "data": {
      "text/plain": [
       "tweet_id                   0\n",
       "author_id                  0\n",
       "inbound                    0\n",
       "created_at                 0\n",
       "text                       0\n",
       "response_tweet_id          0\n",
       "in_response_to_tweet_id    0\n",
       "length                     0\n",
       "dtype: int64"
      ]
     },
     "execution_count": 151,
     "metadata": {},
     "output_type": "execute_result"
    }
   ],
   "source": [
    "#df['speaker'].fillna('unknown', inplace=True): Fills missing values in the 'speaker' column with the value 'unknown'.\n",
    "#df['position'].fillna('unknown', inplace=True): Fills missing values in the 'position' column with the value 'unknown'.\n",
    "#df.isna().sum(): Checks and displays the sum of missing values for each column in the DataFrame after the fillna operations.\n",
    "\n",
    "df['response_tweet_id'] = df['response_tweet_id'].fillna('unknown')\n",
    "df['in_response_to_tweet_id'] = df['in_response_to_tweet_id'].fillna('unknown')\n",
    "df.isna().sum()"
   ]
  },
  {
   "cell_type": "markdown",
   "id": "0258b91a-24b3-4fda-8b41-2b7355468d46",
   "metadata": {},
   "source": [
    "<font size=\"3\"><b>CONVERTING UPPERCASE AND LOWERCASE</b></font>"
   ]
  },
  {
   "cell_type": "code",
   "execution_count": 152,
   "id": "22729a16-b82a-4342-b034-17e4a2bc163b",
   "metadata": {},
   "outputs": [
    {
     "name": "stdout",
     "output_type": "stream",
     "text": [
      "    tweet_id     author_id  inbound                      created_at  \\\n",
      "0     119237        105834     True  Wed Oct 11 06:55:44 +0000 2017   \n",
      "1     119238  CHASESUPPORT    False  Wed Oct 11 13:25:49 +0000 2017   \n",
      "2     119239        105835     True  Wed Oct 11 13:00:09 +0000 2017   \n",
      "3     119240  VIRGINTRAINS    False  Tue Oct 10 15:16:08 +0000 2017   \n",
      "4     119241        105836     True  Tue Oct 10 15:17:21 +0000 2017   \n",
      "..       ...           ...      ...                             ...   \n",
      "88    119330        105859     True  Wed Oct 11 13:50:42 +0000 2017   \n",
      "89    119331        105860     True  Wed Oct 11 13:47:14 +0000 2017   \n",
      "90    119332         TESCO    False  Wed Oct 11 13:34:06 +0000 2017   \n",
      "91    119333        105861     True  Wed Oct 11 14:05:18 +0000 2017   \n",
      "92    119335         TESCO    False  Wed Oct 11 15:38:07 +0000 2017   \n",
      "\n",
      "                                                 text response_tweet_id  \\\n",
      "0   @APPLESUPPORT CAUSING THE REPLY TO BE DISREGAR...            119236   \n",
      "1   @105835 YOUR BUSINESS MEANS A LOT TO US. PLEAS...           UNKNOWN   \n",
      "2   @76328 I REALLY HOPE YOU ALL CHANGE BUT I'M SU...            119238   \n",
      "3   @105836 LIVECHAT IS ONLINE AT THE MOMENT - HTT...            119241   \n",
      "4   @VIRGINTRAINS SEE ATTACHED ERROR MESSAGE. I'VE...            119243   \n",
      "..                                                ...               ...   \n",
      "88  @105860 I WISH AMAZON HAD AN OPTION OF WHERE I...            119329   \n",
      "89  THEY RESCHEDULE MY SHIT FOR TOMORROW HTTPS://T...            119330   \n",
      "90  @105861 HEY SARA, SORRY TO HEAR OF THE ISSUES ...            119333   \n",
      "91  @TESCO BIT OF BOTH - FINDING THE LAYOUT CUMBER...   119,335,119,336   \n",
      "92  @105861 IF THAT DOESN'T HELP PLEASE DM YOUR FU...           UNKNOWN   \n",
      "\n",
      "   in_response_to_tweet_id  length  \n",
      "0                  unknown     109  \n",
      "1                 119239.0     141  \n",
      "2                  unknown      86  \n",
      "3                 119242.0     147  \n",
      "4                 119240.0     127  \n",
      "..                     ...     ...  \n",
      "88                119331.0     124  \n",
      "89                 unknown      60  \n",
      "90                119334.0     147  \n",
      "91                119332.0     170  \n",
      "92                119333.0     142  \n",
      "\n",
      "[93 rows x 8 columns]\n"
     ]
    }
   ],
   "source": [
    "#df['author_id '] = df['author_id '].str.upper(): Converts the values in the 'author_id' column to uppercase.\n",
    "#df['response_tweet_id'] = df['response_tweet_id'].str.upper(): Converts the values in the 'response_tweet_id' column to uppercase.\n",
    "#df['text'] = df['text'].str.upper(): Converts the values in the 'text' column to uppercase.\n",
    "\n",
    "\n",
    "df['author_id'] = df['author_id'].str.upper()\n",
    "df['response_tweet_id'] = df['response_tweet_id'].str.upper()\n",
    "df['text'] = df['text'].str.upper()\n",
    "print (df)"
   ]
  },
  {
   "cell_type": "markdown",
   "id": "a04d2ab4-4d84-4ac4-b90f-afde4a7a10b0",
   "metadata": {},
   "source": [
    "<font size=\"3\"><b>PRINTING A DATA WITH AUTHOR ID NAMED VIRGINTRAINS </b></font>"
   ]
  },
  {
   "cell_type": "code",
   "execution_count": 153,
   "id": "983bbdbf-7bf2-4aef-8817-7009233c03d3",
   "metadata": {},
   "outputs": [
    {
     "name": "stdout",
     "output_type": "stream",
     "text": [
      "    tweet_id     author_id  inbound                      created_at  \\\n",
      "0     119237        105834     True  Wed Oct 11 06:55:44 +0000 2017   \n",
      "1     119238  CHASESUPPORT    False  Wed Oct 11 13:25:49 +0000 2017   \n",
      "2     119239        105835     True  Wed Oct 11 13:00:09 +0000 2017   \n",
      "3     119240  VIRGINTRAINS    False  Tue Oct 10 15:16:08 +0000 2017   \n",
      "4     119241        105836     True  Tue Oct 10 15:17:21 +0000 2017   \n",
      "..       ...           ...      ...                             ...   \n",
      "88    119330        105859     True  Wed Oct 11 13:50:42 +0000 2017   \n",
      "89    119331        105860     True  Wed Oct 11 13:47:14 +0000 2017   \n",
      "90    119332         TESCO    False  Wed Oct 11 13:34:06 +0000 2017   \n",
      "91    119333        105861     True  Wed Oct 11 14:05:18 +0000 2017   \n",
      "92    119335         TESCO    False  Wed Oct 11 15:38:07 +0000 2017   \n",
      "\n",
      "                                                 text response_tweet_id  \\\n",
      "0   @APPLESUPPORT CAUSING THE REPLY TO BE DISREGAR...            119236   \n",
      "1   @105835 YOUR BUSINESS MEANS A LOT TO US. PLEAS...           UNKNOWN   \n",
      "2   @76328 I REALLY HOPE YOU ALL CHANGE BUT I'M SU...            119238   \n",
      "3   @105836 LIVECHAT IS ONLINE AT THE MOMENT - HTT...            119241   \n",
      "4   @VIRGINTRAINS SEE ATTACHED ERROR MESSAGE. I'VE...            119243   \n",
      "..                                                ...               ...   \n",
      "88  @105860 I WISH AMAZON HAD AN OPTION OF WHERE I...            119329   \n",
      "89  THEY RESCHEDULE MY SHIT FOR TOMORROW HTTPS://T...            119330   \n",
      "90  @105861 HEY SARA, SORRY TO HEAR OF THE ISSUES ...            119333   \n",
      "91  @TESCO BIT OF BOTH - FINDING THE LAYOUT CUMBER...   119,335,119,336   \n",
      "92  @105861 IF THAT DOESN'T HELP PLEASE DM YOUR FU...           UNKNOWN   \n",
      "\n",
      "   in_response_to_tweet_id  length  \n",
      "0                  unknown     109  \n",
      "1                 119239.0     141  \n",
      "2                  unknown      86  \n",
      "3                 119242.0     147  \n",
      "4                 119240.0     127  \n",
      "..                     ...     ...  \n",
      "88                119331.0     124  \n",
      "89                 unknown      60  \n",
      "90                119334.0     147  \n",
      "91                119332.0     170  \n",
      "92                119333.0     142  \n",
      "\n",
      "[93 rows x 8 columns]\n"
     ]
    }
   ],
   "source": [
    "#df[df['author_id'].str.contains('VIRGINTRAINS')]: Returns a boolean Series indicating whether each element in the 'author_id' column contains the substring 'VIRGINTRAINS'.\n",
    "#df[df['speaker'].str.contains('BUSH')]: Uses boolean indexing to select only the rows where the condition is True.\n",
    "\n",
    "df[df['author_id'].str.contains('VIRGINTRAINS')]\n",
    "print (df)"
   ]
  },
  {
   "cell_type": "markdown",
   "id": "be00fca6-084b-4b9e-b70f-a4e1afbe661f",
   "metadata": {},
   "source": [
    "<font size=\"3\"><b>PLOTTING CHARTS</b></font>"
   ]
  },
  {
   "cell_type": "code",
   "execution_count": 154,
   "id": "1ea96404-2919-4006-9dfd-3d4a9b6732db",
   "metadata": {},
   "outputs": [
    {
     "name": "stdout",
     "output_type": "stream",
     "text": [
      "Requirement already satisfied: matplotlib in c:\\users\\aleky\\appdata\\local\\programs\\python\\python312\\lib\\site-packages (3.8.2)\n",
      "Requirement already satisfied: contourpy>=1.0.1 in c:\\users\\aleky\\appdata\\local\\programs\\python\\python312\\lib\\site-packages (from matplotlib) (1.2.0)\n",
      "Requirement already satisfied: cycler>=0.10 in c:\\users\\aleky\\appdata\\local\\programs\\python\\python312\\lib\\site-packages (from matplotlib) (0.12.1)\n",
      "Requirement already satisfied: fonttools>=4.22.0 in c:\\users\\aleky\\appdata\\local\\programs\\python\\python312\\lib\\site-packages (from matplotlib) (4.47.2)\n",
      "Requirement already satisfied: kiwisolver>=1.3.1 in c:\\users\\aleky\\appdata\\local\\programs\\python\\python312\\lib\\site-packages (from matplotlib) (1.4.5)\n",
      "Requirement already satisfied: numpy<2,>=1.21 in c:\\users\\aleky\\appdata\\local\\programs\\python\\python312\\lib\\site-packages (from matplotlib) (1.26.3)\n",
      "Requirement already satisfied: packaging>=20.0 in c:\\users\\aleky\\appdata\\local\\programs\\python\\python312\\lib\\site-packages (from matplotlib) (23.2)\n",
      "Requirement already satisfied: pillow>=8 in c:\\users\\aleky\\appdata\\local\\programs\\python\\python312\\lib\\site-packages (from matplotlib) (10.2.0)\n",
      "Requirement already satisfied: pyparsing>=2.3.1 in c:\\users\\aleky\\appdata\\local\\programs\\python\\python312\\lib\\site-packages (from matplotlib) (3.1.1)\n",
      "Requirement already satisfied: python-dateutil>=2.7 in c:\\users\\aleky\\appdata\\local\\programs\\python\\python312\\lib\\site-packages (from matplotlib) (2.8.2)\n",
      "Requirement already satisfied: six>=1.5 in c:\\users\\aleky\\appdata\\local\\programs\\python\\python312\\lib\\site-packages (from python-dateutil>=2.7->matplotlib) (1.16.0)\n"
     ]
    },
    {
     "data": {
      "text/plain": [
       "Text(0.5, 1.0, 'Line Plot of Length Column')"
      ]
     },
     "execution_count": 154,
     "metadata": {},
     "output_type": "execute_result"
    },
    {
     "data": {
      "image/png": "[encoded data removed]",
      "text/plain": [
       "<Figure size 640x480 with 1 Axes>"
      ]
     },
     "metadata": {},
     "output_type": "display_data"
    }
   ],
   "source": [
    "#df['length'].plot(): This creates a line plot for the 'length' column. The x-axis will likely represent the index of the DataFrame, and the y-axis will represent the values in the 'length' column.\n",
    "#df['length'].plot(kind='box', vert=False): This creates a horizontal box plot for the 'length' column. Box plots provide a visual summary of the distribution of data, including the median, quartiles, and potential outliers.\n",
    "\n",
    "!pip install matplotlib\n",
    "\n",
    "import matplotlib.pyplot as plt\n",
    "df['length'].plot()\n",
    "plt.xlabel('Range of length') \n",
    "plt.ylabel('Length')\n",
    "plt.title('Line Plot of Length Column') "
   ]
  },
  {
   "cell_type": "markdown",
   "id": "85ad15ca-9559-44aa-9926-4ffdb29e4b57",
   "metadata": {},
   "source": [
    "<font size=\"3\"><b>BOX PLOT</b></font>"
   ]
  },
  {
   "cell_type": "code",
   "execution_count": 155,
   "id": "861bff21-1278-4d46-83a0-41932fee6432",
   "metadata": {},
   "outputs": [
    {
     "data": {
      "text/plain": [
       "Text(0.5, 1.0, 'Box Plot of Length Column')"
      ]
     },
     "execution_count": 155,
     "metadata": {},
     "output_type": "execute_result"
    },
    {
     "data": {
      "image/png": "[encoded data removed]",
      "text/plain": [
       "<Figure size 640x480 with 1 Axes>"
      ]
     },
     "metadata": {},
     "output_type": "display_data"
    }
   ],
   "source": [
    "df['length'].plot(kind='box', vert=False)\n",
    "plt.xlabel('Range of length')\n",
    "plt.ylabel('Length') \n",
    "plt.title('Box Plot of Length Column') "
   ]
  },
  {
   "cell_type": "markdown",
   "id": "5c874142-100f-4321-8a74-3fcbfde8338c",
   "metadata": {},
   "source": [
    "<font size=\"3\"><b>HISTOGRAM</b></font>"
   ]
  },
  {
   "cell_type": "code",
   "execution_count": 156,
   "id": "a6650581-266e-4a59-9cec-c40df6d50ec0",
   "metadata": {},
   "outputs": [
    {
     "data": {
      "text/plain": [
       "Text(0.5, 1.0, 'Histogram of Length Column')"
      ]
     },
     "execution_count": 156,
     "metadata": {},
     "output_type": "execute_result"
    },
    {
     "data": {
      "image/png": "[encoded data removed]",
      "text/plain": [
       "<Figure size 640x480 with 1 Axes>"
      ]
     },
     "metadata": {},
     "output_type": "display_data"
    }
   ],
   "source": [
    "#df['length'].plot(kind='hist', bins=30): This creates a histogram for the 'length' column with 30 bins. The x-axis represents the range of 'length' values, and the y-axis represents the frequency or count of values within each bin.\n",
    "\n",
    "df['length'].plot(kind='hist', bins=30)\n",
    "plt.xlabel('Range of length')  \n",
    "plt.ylabel('Length')  \n",
    "plt.title('Histogram of Length Column') "
   ]
  },
  {
   "cell_type": "markdown",
   "id": "75d1d0ad-901c-47af-b2e4-3ae7cf396580",
   "metadata": {},
   "source": [
    "<font size=\"3\"><b>BOX PLOT</b></font>"
   ]
  },
  {
   "cell_type": "code",
   "execution_count": 157,
   "id": "3a33d2ea-342a-490a-8ff1-2c332bb78633",
   "metadata": {},
   "outputs": [
    {
     "data": {
      "image/png": "[encoded data removed]",
      "text/plain": [
       "<Figure size 640x480 with 1 Axes>"
      ]
     },
     "metadata": {},
     "output_type": "display_data"
    }
   ],
   "source": [
    "import matplotlib.pyplot as plt\n",
    "\n",
    "# Create a box plot for the 'length' column\n",
    "df['length'].plot(kind='box')\n",
    "\n",
    "# Set labels for the axes\n",
    "plt.xlabel('Range of length')  \n",
    "plt.ylabel('Length')\n",
    "plt.title('Box Plot of Tweet Length ')\n",
    "\n",
    "# Show the plot\n",
    "plt.show()\n"
   ]
  },
  {
   "cell_type": "markdown",
   "id": "3372a153-8ba1-4039-85d9-e5055fddc26d",
   "metadata": {},
   "source": [
    "<font size=\"3\"><b>REGEX TO PULL OUT WORDS</b></font>"
   ]
  },
  {
   "cell_type": "code",
   "execution_count": 158,
   "id": "484dc9dd-8cd8-4cc5-a3db-0bb3fa2d9b46",
   "metadata": {},
   "outputs": [
    {
     "name": "stdout",
     "output_type": "stream",
     "text": [
      "Requirement already satisfied: regex in c:\\users\\aleky\\appdata\\local\\programs\\python\\python312\\lib\\site-packages (2023.12.25)\n",
      "                                                text  \\\n",
      "0  @AppleSupport causing the reply to be disregar...   \n",
      "1  @105835 Your business means a lot to us. Pleas...   \n",
      "2  @76328 I really hope you all change but I'm su...   \n",
      "3  @105836 LiveChat is online at the moment - htt...   \n",
      "4  @VirginTrains see attached error message. I've...   \n",
      "\n",
      "                                      tokenized_text  \n",
      "0  [AppleSupport, causing, the, reply, to, be, di...  \n",
      "1  [Your, business, means, a, lot, to, us, Please...  \n",
      "2  [I, really, hope, you, all, change, but, I, m,...  \n",
      "3  [LiveChat, is, online, at, the, moment, https,...  \n",
      "4  [VirginTrains, see, attached, error, message, ...  \n"
     ]
    }
   ],
   "source": [
    "!pip install regex\n",
    "import regex as re\n",
    "import pandas as pd\n",
    "\n",
    "def tokenize(text):\n",
    "    return re.findall(r'[\\w-]*[a-zA-Z][\\w-]*', text)\n",
    "\n",
    "file_path = \"C:/Users/aleky/Desktop/TextBasedAnalysis/Customer Support on Twitter.csv\"\n",
    "\n",
    "df = pd.read_csv(file_path)\n",
    "\n",
    "df['tokenized_text'] = df['text'].apply(lambda x: tokenize(str(x)))\n",
    "\n",
    "# Display the DataFrame with the tokenized text\n",
    "print(df[['text', 'tokenized_text']].head())"
   ]
  },
  {
   "cell_type": "markdown",
   "id": "a6bd3b6d-1103-4000-9879-6acf74952381",
   "metadata": {},
   "source": [
    "<font size=\"3\"><b>FUNCTION TO TOKENIZE</b></font>"
   ]
  },
  {
   "cell_type": "code",
   "execution_count": 159,
   "id": "140343e7-9809-4e0c-ac07-d38ed066e235",
   "metadata": {},
   "outputs": [
    {
     "name": "stdout",
     "output_type": "stream",
     "text": [
      "                                                text  \\\n",
      "0  @AppleSupport causing the reply to be disregar...   \n",
      "1  @105835 Your business means a lot to us. Pleas...   \n",
      "2  @76328 I really hope you all change but I'm su...   \n",
      "3  @105836 LiveChat is online at the moment - htt...   \n",
      "4  @VirginTrains see attached error message. I've...   \n",
      "\n",
      "                                      tokenized_text  \n",
      "0  [AppleSupport, causing, the, reply, to, be, di...  \n",
      "1  [Your, business, means, a, lot, to, us, Please...  \n",
      "2  [I, really, hope, you, all, change, but, I, m,...  \n",
      "3  [LiveChat, is, online, at, the, moment, https,...  \n",
      "4  [VirginTrains, see, attached, error, message, ...  \n"
     ]
    }
   ],
   "source": [
    "import regex as re\n",
    "import pandas as pd\n",
    "\n",
    "def tokenize(text):\n",
    "    return re.findall(r'[\\w-]*[a-z|A-Z][\\w-]*', text)\n",
    "\n",
    "# file path\n",
    "file_path = \"C:/Users/aleky/Desktop/TextBasedAnalysis/Customer Support on Twitter.csv\"\n",
    "\n",
    "# Read the CSV file into a DataFrame\n",
    "df = pd.read_csv(file_path)\n",
    "df['tokenized_text'] = df['text'].apply(lambda x: tokenize(str(x)))\n",
    "\n",
    "# Display the DataFrame with the tokenized text\n",
    "print(df[['text', 'tokenized_text']].head())\n"
   ]
  },
  {
   "cell_type": "markdown",
   "id": "aad39ca6-5fff-495d-a21a-0bd25473f05b",
   "metadata": {},
   "source": [
    "<font size=\"3\"><b>STOPWORDS FROM DATASET</b></font>"
   ]
  },
  {
   "cell_type": "code",
   "execution_count": 160,
   "id": "8de0697e-1032-4810-8229-73290763ebb6",
   "metadata": {},
   "outputs": [
    {
     "name": "stdout",
     "output_type": "stream",
     "text": [
      "Requirement already satisfied: nltk in c:\\users\\aleky\\appdata\\local\\programs\\python\\python312\\lib\\site-packages (3.8.1)\n",
      "Requirement already satisfied: click in c:\\users\\aleky\\appdata\\local\\programs\\python\\python312\\lib\\site-packages (from nltk) (8.1.7)\n",
      "Requirement already satisfied: joblib in c:\\users\\aleky\\appdata\\local\\programs\\python\\python312\\lib\\site-packages (from nltk) (1.3.2)\n",
      "Requirement already satisfied: regex>=2021.8.3 in c:\\users\\aleky\\appdata\\local\\programs\\python\\python312\\lib\\site-packages (from nltk) (2023.12.25)\n",
      "Requirement already satisfied: tqdm in c:\\users\\aleky\\appdata\\local\\programs\\python\\python312\\lib\\site-packages (from nltk) (4.66.1)\n",
      "Requirement already satisfied: colorama in c:\\users\\aleky\\appdata\\local\\programs\\python\\python312\\lib\\site-packages (from click->nltk) (0.4.6)\n",
      "{'should', 'isn', 'why', 'all', 'them', 'or', 'now', \"weren't\", 'has', \"doesn't\", 'my', 'most', 'not', 'ma', 'for', 'is', 'doing', 'this', 'once', 'they', 'after', 'a', 'in', 'i', 'your', 'its', 'have', 'whom', 'on', 'at', 'very', 'under', \"didn't\", 'his', 'we', \"you'd\", 'can', 'nor', 'more', \"you've\", 'themselves', 'd', 'were', 'm', 'theirs', 'those', 'had', 'didn', 'hers', 's', \"you'll\", \"should've\", \"couldn't\", 'own', 'both', 'weren', 'himself', \"mightn't\", \"wouldn't\", 'y', 'than', 'because', 'until', 'with', 'be', 'over', 'when', 'some', 'how', 'against', 'above', \"shan't\", 'me', \"haven't\", \"hasn't\", 'do', 'just', 'these', 't', 'ourselves', 'wasn', 'through', 'shouldn', \"aren't\", 'up', 'o', 'mightn', 'into', 'again', 'so', 'any', 'ain', \"needn't\", 'during', 'to', 'what', \"that'll\", 'won', 'which', 'being', 'don', 'here', 'hasn', \"shouldn't\", 'below', 'and', 'but', 'itself', 'if', 'down', \"you're\", 'wouldn', \"mustn't\", 'll', 'by', 'yours', 'out', 'each', 'shan', 'about', 'hadn', 'yourselves', 're', 'an', 'was', 'needn', 've', 'as', 'doesn', 'then', \"wasn't\", 'of', 'only', 'been', 'you', 'him', 'no', 'haven', 'aren', 'their', 'such', 'between', 'it', 'off', 'from', 'ours', \"she's\", \"don't\", 'that', 'our', 'few', \"isn't\", 'she', 'myself', 'am', 'he', 'does', \"hadn't\", 'herself', 'while', \"it's\", 'did', 'same', 'there', 'couldn', 'mustn', \"won't\", 'will', 'other', 'before', 'who', 'yourself', 'are', 'further', 'her', 'the', 'where', 'having', 'too'}\n",
      "   tweet_id     author_id  inbound                      created_at  \\\n",
      "0    119237        105834     True  Wed Oct 11 06:55:44 +0000 2017   \n",
      "1    119238  ChaseSupport    False  Wed Oct 11 13:25:49 +0000 2017   \n",
      "2    119239        105835     True  Wed Oct 11 13:00:09 +0000 2017   \n",
      "3    119240  VirginTrains    False  Tue Oct 10 15:16:08 +0000 2017   \n",
      "4    119241        105836     True  Tue Oct 10 15:17:21 +0000 2017   \n",
      "\n",
      "                                                text response_tweet_id  \\\n",
      "0  @AppleSupport causing the reply to be disregar...            119236   \n",
      "1  @105835 Your business means a lot to us. Pleas...               NaN   \n",
      "2  @76328 I really hope you all change but I'm su...            119238   \n",
      "3  @105836 LiveChat is online at the moment - htt...            119241   \n",
      "4  @VirginTrains see attached error message. I've...            119243   \n",
      "\n",
      "   in_response_to_tweet_id  \n",
      "0                      NaN  \n",
      "1                 119239.0  \n",
      "2                      NaN  \n",
      "3                 119242.0  \n",
      "4                 119240.0  \n"
     ]
    }
   ],
   "source": [
    "!pip install nltk\n",
    "\n",
    "\n",
    "import nltk\n",
    "import pandas as pd\n",
    "\n",
    "\n",
    "stopwords = set(nltk.corpus.stopwords.words('english'))\n",
    "print(stopwords)\n",
    "\n",
    "# Specify the file path\n",
    "file_path = \"C:/Users/aleky/Desktop/TextBasedAnalysis/Customer Support on Twitter.csv\"\n",
    "\n",
    "# Read the CSV file into a DataFrame\n",
    "df = pd.read_csv(file_path)\n",
    "\n",
    "# Display the DataFrame\n",
    "print(df.head())  \n"
   ]
  },
  {
   "cell_type": "markdown",
   "id": "391d8c5a-2c1d-4d06-a079-e6ea5535daf9",
   "metadata": {},
   "source": [
    "<font size=\"3\"><b>REMOVING STOPWORDS</b></font>"
   ]
  },
  {
   "cell_type": "code",
   "execution_count": 161,
   "id": "666a29b4-15be-4e9f-b6d3-119e1f7075e4",
   "metadata": {},
   "outputs": [
    {
     "name": "stdout",
     "output_type": "stream",
     "text": [
      "                                                 text  \\\n",
      "88  @105860 I wish Amazon had an option of where I...   \n",
      "89  They reschedule my shit for tomorrow https://t...   \n",
      "90  @105861 Hey Sara, sorry to hear of the issues ...   \n",
      "91  @Tesco bit of both - finding the layout cumber...   \n",
      "92  @105861 If that doesn't help please DM your fu...   \n",
      "\n",
      "                                          cleantokens  \n",
      "88  [@105860, wish, Amazon, option, get, shipped, ...  \n",
      "89  [reschedule, shit, tomorrow, https://t.co/RsvZ...  \n",
      "90  [@105861, Hey, Sara,, sorry, hear, issues, hav...  \n",
      "91  [@Tesco, bit, -, finding, layout, cumbersome, ...  \n",
      "92  [@105861, help, please, DM, full, name,, addre...  \n"
     ]
    }
   ],
   "source": [
    "#function to remove stop words\n",
    "import pandas as pd\n",
    "import nltk\n",
    "\n",
    "stopwords = set(nltk.corpus.stopwords.words('english'))\n",
    "\n",
    "# Define the remove_stop function\n",
    "def remove_stop(tokens):\n",
    "    return [t for t in tokens if t.lower() not in stopwords]\n",
    "\n",
    "# Read the CSV file into a DataFrame\n",
    "file_path = \"C:/Users/aleky/Desktop/TextBasedAnalysis/Customer Support on Twitter.csv\"\n",
    "df = pd.read_csv(file_path)\n",
    "df['cleantokens'] = df['text'].apply(lambda x: remove_stop(str(x).split()))\n",
    "\n",
    "# Display the DataFrame with the cleaned tokens\n",
    "print(df[['text', 'cleantokens']].tail())"
   ]
  },
  {
   "cell_type": "markdown",
   "id": "c020f9bd-6c4a-4489-b715-c9577848362e",
   "metadata": {},
   "source": [
    "<font size=\"3\"><b>CREATING THE PIPELINE</b></font>"
   ]
  },
  {
   "cell_type": "code",
   "execution_count": 162,
   "id": "3577e9c4-6bb6-472d-96b7-2dbc5f677ec3",
   "metadata": {},
   "outputs": [
    {
     "name": "stdout",
     "output_type": "stream",
     "text": [
      "                                                 text  \\\n",
      "88  @105860 I wish Amazon had an option of where I...   \n",
      "89  They reschedule my shit for tomorrow https://t...   \n",
      "90  @105861 Hey Sara, sorry to hear of the issues ...   \n",
      "91  @Tesco bit of both - finding the layout cumber...   \n",
      "92  @105861 If that doesn't help please DM your fu...   \n",
      "\n",
      "                                       processed_text  \n",
      "88  [105860, wish, amazon, option, get, shipped, u...  \n",
      "89  [reschedule, shit, tomorrow, https, co, rsvzct...  \n",
      "90  [105861, hey, sara, sorry, hear, issues, ask, ...  \n",
      "91  [tesco, bit, finding, layout, cumbersome, remo...  \n",
      "92  [105861, help, please, dm, full, name, address...  \n"
     ]
    }
   ],
   "source": [
    "import pandas as pd\n",
    "import nltk\n",
    "\n",
    "stopwords = set(nltk.corpus.stopwords.words('english'))\n",
    "\n",
    "# Define the tokenize function (replace with your actual tokenize implementation)\n",
    "def tokenize(text):\n",
    "    return re.findall(r'\\b\\w+\\b', text)\n",
    "\n",
    "# Define the remove_stop function\n",
    "def remove_stop(tokens):\n",
    "    return [t for t in tokens if t.lower() not in stopwords]\n",
    "\n",
    "# Define the text preparation pipeline\n",
    "pipeline = [str.lower, tokenize, remove_stop]\n",
    "\n",
    "# Define the prepare function\n",
    "def prepare(text, pipeline):\n",
    "    tokens = text\n",
    "    for fun in pipeline:\n",
    "        tokens = fun(tokens)\n",
    "    return tokens\n",
    "\n",
    "file_path = \"C:/Users/aleky/Desktop/TextBasedAnalysis/Customer Support on Twitter.csv\"\n",
    "\n",
    "# Read the CSV file into a DataFrame\n",
    "df = pd.read_csv(file_path)\n",
    "\n",
    "df['processed_text'] = df['text'].apply(lambda x: prepare(str(x), pipeline))\n",
    "\n",
    "# Display the DataFrame with the processed text\n",
    "print(df[['text', 'processed_text']].tail())\n"
   ]
  },
  {
   "cell_type": "markdown",
   "id": "ba529b2d-c156-4438-ba03-450b2576ef64",
   "metadata": {},
   "source": [
    "<font size=\"3\"><b>RUN THE PIPELINE</b></font>"
   ]
  },
  {
   "cell_type": "code",
   "execution_count": 163,
   "id": "662fdce2-9f5c-4fa2-8f2a-8acd8bcc0350",
   "metadata": {},
   "outputs": [
    {
     "name": "stdout",
     "output_type": "stream",
     "text": [
      "                                                text  \\\n",
      "0  @AppleSupport causing the reply to be disregar...   \n",
      "1  @105835 Your business means a lot to us. Pleas...   \n",
      "2  @76328 I really hope you all change but I'm su...   \n",
      "3  @105836 LiveChat is online at the moment - htt...   \n",
      "4  @VirginTrains see attached error message. I've...   \n",
      "\n",
      "                                              tokens  \n",
      "0  [applesupport, causing, reply, disregarded, ta...  \n",
      "1  [105835, business, means, lot, us, please, dm,...  \n",
      "2                [76328, really, hope, change, sure]  \n",
      "3  [105836, livechat, online, moment, https, co, ...  \n",
      "4  [virgintrains, see, attached, error, message, ...  \n"
     ]
    }
   ],
   "source": [
    "import pandas as pd\n",
    "import regex as re\n",
    "\n",
    "# Define the pipeline\n",
    "pipeline = [str.lower, tokenize, remove_stop]\n",
    "\n",
    "# Define the tokenize function\n",
    "def tokenize(text):\n",
    "    return re.findall(r'[\\w-]*[a-z|A-Z][\\w-]*', text)\n",
    "\n",
    "# Define the remove_stop function\n",
    "def remove_stop(tokens):\n",
    "    return [t for t in tokens if t.lower() not in stopwords]\n",
    "\n",
    "# Define the prepare function\n",
    "def prepare(text, pipeline):\n",
    "    tokens = text\n",
    "    for fun in pipeline:\n",
    "        tokens = fun(tokens)\n",
    "    return tokens\n",
    "\n",
    "# Specify the file path\n",
    "file_path = \"C:/Users/aleky/Desktop/TextBasedAnalysis/Customer Support on Twitter.csv\"\n",
    "\n",
    "# Read the CSV file into a DataFrame\n",
    "df = pd.read_csv(file_path)\n",
    "\n",
    "df['tokens'] = df['text'].apply(lambda x: prepare(str(x), pipeline=pipeline))\n",
    "\n",
    "# Display the DataFrame with the processed tokens\n",
    "print(df[['text', 'tokens']].head())"
   ]
  },
  {
   "cell_type": "markdown",
   "id": "f926e86c-e0d2-4bc8-9da2-a85cf71da5a6",
   "metadata": {},
   "source": [
    "<font size=\"3\"><b>COUNTING THE TOKENS</b></font>"
   ]
  },
  {
   "cell_type": "code",
   "execution_count": 164,
   "id": "bc3e6a06-3ec7-4b04-9d51-f700cd98f176",
   "metadata": {},
   "outputs": [
    {
     "data": {
      "text/html": [
       "<div>\n",
       "<style scoped>\n",
       "    .dataframe tbody tr th:only-of-type {\n",
       "        vertical-align: middle;\n",
       "    }\n",
       "\n",
       "    .dataframe tbody tr th {\n",
       "        vertical-align: top;\n",
       "    }\n",
       "\n",
       "    .dataframe thead th {\n",
       "        text-align: right;\n",
       "    }\n",
       "</style>\n",
       "<table border=\"1\" class=\"dataframe\">\n",
       "  <thead>\n",
       "    <tr style=\"text-align: right;\">\n",
       "      <th></th>\n",
       "      <th>tweet_id</th>\n",
       "      <th>author_id</th>\n",
       "      <th>inbound</th>\n",
       "      <th>created_at</th>\n",
       "      <th>text</th>\n",
       "      <th>response_tweet_id</th>\n",
       "      <th>in_response_to_tweet_id</th>\n",
       "      <th>tokens</th>\n",
       "      <th>num_tokens</th>\n",
       "    </tr>\n",
       "  </thead>\n",
       "  <tbody>\n",
       "    <tr>\n",
       "      <th>88</th>\n",
       "      <td>119330</td>\n",
       "      <td>105859</td>\n",
       "      <td>True</td>\n",
       "      <td>Wed Oct 11 13:50:42 +0000 2017</td>\n",
       "      <td>@105860 I wish Amazon had an option of where I...</td>\n",
       "      <td>119329</td>\n",
       "      <td>119331.0</td>\n",
       "      <td>[105860, wish, amazon, option, get, shipped, u...</td>\n",
       "      <td>11</td>\n",
       "    </tr>\n",
       "    <tr>\n",
       "      <th>89</th>\n",
       "      <td>119331</td>\n",
       "      <td>105860</td>\n",
       "      <td>True</td>\n",
       "      <td>Wed Oct 11 13:47:14 +0000 2017</td>\n",
       "      <td>They reschedule my shit for tomorrow https://t...</td>\n",
       "      <td>119330</td>\n",
       "      <td>NaN</td>\n",
       "      <td>[reschedule, shit, tomorrow, https, co, rsvzct...</td>\n",
       "      <td>6</td>\n",
       "    </tr>\n",
       "    <tr>\n",
       "      <th>90</th>\n",
       "      <td>119332</td>\n",
       "      <td>Tesco</td>\n",
       "      <td>False</td>\n",
       "      <td>Wed Oct 11 13:34:06 +0000 2017</td>\n",
       "      <td>@105861 Hey Sara, sorry to hear of the issues ...</td>\n",
       "      <td>119333</td>\n",
       "      <td>119334.0</td>\n",
       "      <td>[105861, hey, sara, sorry, hear, issues, ask, ...</td>\n",
       "      <td>13</td>\n",
       "    </tr>\n",
       "    <tr>\n",
       "      <th>91</th>\n",
       "      <td>119333</td>\n",
       "      <td>105861</td>\n",
       "      <td>True</td>\n",
       "      <td>Wed Oct 11 14:05:18 +0000 2017</td>\n",
       "      <td>@Tesco bit of both - finding the layout cumber...</td>\n",
       "      <td>119,335,119,336</td>\n",
       "      <td>119332.0</td>\n",
       "      <td>[tesco, bit, finding, layout, cumbersome, remo...</td>\n",
       "      <td>18</td>\n",
       "    </tr>\n",
       "    <tr>\n",
       "      <th>92</th>\n",
       "      <td>119335</td>\n",
       "      <td>Tesco</td>\n",
       "      <td>False</td>\n",
       "      <td>Wed Oct 11 15:38:07 +0000 2017</td>\n",
       "      <td>@105861 If that doesn't help please DM your fu...</td>\n",
       "      <td>NaN</td>\n",
       "      <td>119333.0</td>\n",
       "      <td>[105861, help, please, dm, full, name, address...</td>\n",
       "      <td>16</td>\n",
       "    </tr>\n",
       "  </tbody>\n",
       "</table>\n",
       "</div>"
      ],
      "text/plain": [
       "    tweet_id author_id  inbound                      created_at  \\\n",
       "88    119330    105859     True  Wed Oct 11 13:50:42 +0000 2017   \n",
       "89    119331    105860     True  Wed Oct 11 13:47:14 +0000 2017   \n",
       "90    119332     Tesco    False  Wed Oct 11 13:34:06 +0000 2017   \n",
       "91    119333    105861     True  Wed Oct 11 14:05:18 +0000 2017   \n",
       "92    119335     Tesco    False  Wed Oct 11 15:38:07 +0000 2017   \n",
       "\n",
       "                                                 text response_tweet_id  \\\n",
       "88  @105860 I wish Amazon had an option of where I...            119329   \n",
       "89  They reschedule my shit for tomorrow https://t...            119330   \n",
       "90  @105861 Hey Sara, sorry to hear of the issues ...            119333   \n",
       "91  @Tesco bit of both - finding the layout cumber...   119,335,119,336   \n",
       "92  @105861 If that doesn't help please DM your fu...               NaN   \n",
       "\n",
       "    in_response_to_tweet_id  \\\n",
       "88                 119331.0   \n",
       "89                      NaN   \n",
       "90                 119334.0   \n",
       "91                 119332.0   \n",
       "92                 119333.0   \n",
       "\n",
       "                                               tokens  num_tokens  \n",
       "88  [105860, wish, amazon, option, get, shipped, u...          11  \n",
       "89  [reschedule, shit, tomorrow, https, co, rsvzct...           6  \n",
       "90  [105861, hey, sara, sorry, hear, issues, ask, ...          13  \n",
       "91  [tesco, bit, finding, layout, cumbersome, remo...          18  \n",
       "92  [105861, help, please, dm, full, name, address...          16  "
      ]
     },
     "execution_count": 164,
     "metadata": {},
     "output_type": "execute_result"
    }
   ],
   "source": [
    "#count the tokens\n",
    "df['num_tokens'] = df['tokens'].map(len)\n",
    "df.tail()"
   ]
  },
  {
   "cell_type": "markdown",
   "id": "73624af9-b4bd-4431-b46a-397bc24b8164",
   "metadata": {},
   "source": [
    "<font size=\"3\"><b>WORD FREQUENCY ANALYSIS</b></font>"
   ]
  },
  {
   "cell_type": "code",
   "execution_count": 165,
   "id": "1460336f-85e4-4a71-9a8d-6deb98e1e166",
   "metadata": {},
   "outputs": [
    {
     "name": "stdout",
     "output_type": "stream",
     "text": [
      "Counter({'my': 3, 'cats': 2, 'She': 1, 'likes': 1, 'and': 1, 'like': 1, 'sofa': 1})\n"
     ]
    }
   ],
   "source": [
    "#Word frequency Analysis\n",
    "\n",
    "from collections import Counter\n",
    "\n",
    "tokens = tokenize(\"She likes my cats and my cats like my sofa.\")\n",
    "\n",
    "testcount= Counter(tokens)\n",
    "print(testcount)"
   ]
  },
  {
   "cell_type": "markdown",
   "id": "b17a503b-6ac5-412a-a600-27cd91c72467",
   "metadata": {},
   "source": [
    "<font size=\"3\"><b>ADDING DATA TO COUNT</b></font>"
   ]
  },
  {
   "cell_type": "code",
   "execution_count": 166,
   "id": "5a303a5b-b114-43d4-95bd-c5157c6ec611",
   "metadata": {},
   "outputs": [
    {
     "name": "stdout",
     "output_type": "stream",
     "text": [
      "Counter({'my': 3, 'cats': 3, 'She': 2, 'likes': 2, 'and': 2, 'like': 1, 'sofa': 1, 'dogs': 1})\n"
     ]
    }
   ],
   "source": [
    "#Adding new data to the current count\n",
    "\n",
    "more_tokens = tokenize(\"She likes dogs and cats.\")\n",
    "testcount.update(more_tokens)\n",
    "print(testcount)"
   ]
  },
  {
   "cell_type": "markdown",
   "id": "65f861fb-9b53-4db5-b2fc-6a0938f97b39",
   "metadata": {},
   "source": [
    "<font size=\"3\"><b> LETS COUNT</b></font>"
   ]
  },
  {
   "cell_type": "code",
   "execution_count": 167,
   "id": "c7f30d47-fa96-47a8-94f0-d5a06eb5dea0",
   "metadata": {},
   "outputs": [
    {
     "name": "stdout",
     "output_type": "stream",
     "text": [
      "[('https', 28), ('co', 28), ('us', 25), ('dm', 19), ('help', 19)]\n"
     ]
    }
   ],
   "source": [
    "#Let’s count\n",
    "\n",
    "counter = Counter()\n",
    "df['tokens'].map(counter.update)\n",
    "print(counter.most_common(5))"
   ]
  },
  {
   "cell_type": "markdown",
   "id": "bcb3ef86-5996-4152-8e5a-2a920335b8de",
   "metadata": {},
   "source": [
    "<font size=\"3\"><b>FREQUENCY OF DATAFRAME</b></font>"
   ]
  },
  {
   "cell_type": "code",
   "execution_count": 168,
   "id": "caf337da-5ee3-4100-83a3-90fd97cc2325",
   "metadata": {},
   "outputs": [
    {
     "name": "stdout",
     "output_type": "stream",
     "text": [
      "              freq\n",
      "token             \n",
      "applesupport    11\n",
      "causing          1\n",
      "reply            4\n",
      "disregarded      1\n",
      "tapped           1\n",
      "...            ...\n",
      "9281okeebk       1\n",
      "including        1\n",
      "browser          1\n",
      "log              1\n",
      "lee              1\n",
      "\n",
      "[594 rows x 1 columns]\n"
     ]
    }
   ],
   "source": [
    "#Now, we put the word frequency in it’s own dataframe for analysis\n",
    "\n",
    "freq_df = pd.DataFrame.from_dict(counter, orient='index', columns=['freq'])\n",
    "freq_df = freq_df.query('freq >= 1')\n",
    "freq_df.index.name = 'token'\n",
    "print(freq_df)"
   ]
  },
  {
   "cell_type": "markdown",
   "id": "bfbe498d-e85c-4bcf-a805-e6b271120067",
   "metadata": {},
   "source": [
    "<font size=\"3\"><b>SORT AND DISPLAY</b></font>"
   ]
  },
  {
   "cell_type": "code",
   "execution_count": 169,
   "id": "421c5820-87c0-452d-9fcb-e5a2d13d822b",
   "metadata": {},
   "outputs": [
    {
     "data": {
      "text/html": [
       "<div>\n",
       "<style scoped>\n",
       "    .dataframe tbody tr th:only-of-type {\n",
       "        vertical-align: middle;\n",
       "    }\n",
       "\n",
       "    .dataframe tbody tr th {\n",
       "        vertical-align: top;\n",
       "    }\n",
       "\n",
       "    .dataframe thead th {\n",
       "        text-align: right;\n",
       "    }\n",
       "</style>\n",
       "<table border=\"1\" class=\"dataframe\">\n",
       "  <thead>\n",
       "    <tr style=\"text-align: right;\">\n",
       "      <th></th>\n",
       "      <th>freq</th>\n",
       "    </tr>\n",
       "    <tr>\n",
       "      <th>token</th>\n",
       "      <th></th>\n",
       "    </tr>\n",
       "  </thead>\n",
       "  <tbody>\n",
       "    <tr>\n",
       "      <th>https</th>\n",
       "      <td>28</td>\n",
       "    </tr>\n",
       "    <tr>\n",
       "      <th>co</th>\n",
       "      <td>28</td>\n",
       "    </tr>\n",
       "    <tr>\n",
       "      <th>us</th>\n",
       "      <td>25</td>\n",
       "    </tr>\n",
       "    <tr>\n",
       "      <th>help</th>\n",
       "      <td>19</td>\n",
       "    </tr>\n",
       "    <tr>\n",
       "      <th>dm</th>\n",
       "      <td>19</td>\n",
       "    </tr>\n",
       "    <tr>\n",
       "      <th>thanks</th>\n",
       "      <td>13</td>\n",
       "    </tr>\n",
       "    <tr>\n",
       "      <th>gdrqu22ypt</th>\n",
       "      <td>12</td>\n",
       "    </tr>\n",
       "    <tr>\n",
       "      <th>applesupport</th>\n",
       "      <td>11</td>\n",
       "    </tr>\n",
       "    <tr>\n",
       "      <th>please</th>\n",
       "      <td>11</td>\n",
       "    </tr>\n",
       "    <tr>\n",
       "      <th>2</th>\n",
       "      <td>9</td>\n",
       "    </tr>\n",
       "  </tbody>\n",
       "</table>\n",
       "</div>"
      ],
      "text/plain": [
       "              freq\n",
       "token             \n",
       "https           28\n",
       "co              28\n",
       "us              25\n",
       "help            19\n",
       "dm              19\n",
       "thanks          13\n",
       "gdrqu22ypt      12\n",
       "applesupport    11\n",
       "please          11\n",
       "2                9"
      ]
     },
     "execution_count": 169,
     "metadata": {},
     "output_type": "execute_result"
    }
   ],
   "source": [
    "#Lets sort and display\n",
    "\n",
    "freq_df = freq_df.sort_values('freq', ascending=False)\n",
    "freq_df.head(10)"
   ]
  },
  {
   "cell_type": "markdown",
   "id": "51045b0e-20f6-48d7-84c2-71b1c6543433",
   "metadata": {},
   "source": [
    "<font size=\"3\"><b>FINDING INFORMATION OF FREQUENCY</b></font>"
   ]
  },
  {
   "cell_type": "code",
   "execution_count": 170,
   "id": "170e394f-3017-43d9-b19d-7abb524b6b4e",
   "metadata": {},
   "outputs": [
    {
     "data": {
      "text/html": [
       "<div>\n",
       "<style scoped>\n",
       "    .dataframe tbody tr th:only-of-type {\n",
       "        vertical-align: middle;\n",
       "    }\n",
       "\n",
       "    .dataframe tbody tr th {\n",
       "        vertical-align: top;\n",
       "    }\n",
       "\n",
       "    .dataframe thead th {\n",
       "        text-align: right;\n",
       "    }\n",
       "</style>\n",
       "<table border=\"1\" class=\"dataframe\">\n",
       "  <thead>\n",
       "    <tr style=\"text-align: right;\">\n",
       "      <th></th>\n",
       "      <th>freq</th>\n",
       "    </tr>\n",
       "  </thead>\n",
       "  <tbody>\n",
       "    <tr>\n",
       "      <th>count</th>\n",
       "      <td>594.000000</td>\n",
       "    </tr>\n",
       "    <tr>\n",
       "      <th>mean</th>\n",
       "      <td>1.910774</td>\n",
       "    </tr>\n",
       "    <tr>\n",
       "      <th>std</th>\n",
       "      <td>2.591422</td>\n",
       "    </tr>\n",
       "    <tr>\n",
       "      <th>min</th>\n",
       "      <td>1.000000</td>\n",
       "    </tr>\n",
       "    <tr>\n",
       "      <th>25%</th>\n",
       "      <td>1.000000</td>\n",
       "    </tr>\n",
       "    <tr>\n",
       "      <th>50%</th>\n",
       "      <td>1.000000</td>\n",
       "    </tr>\n",
       "    <tr>\n",
       "      <th>75%</th>\n",
       "      <td>2.000000</td>\n",
       "    </tr>\n",
       "    <tr>\n",
       "      <th>max</th>\n",
       "      <td>28.000000</td>\n",
       "    </tr>\n",
       "  </tbody>\n",
       "</table>\n",
       "</div>"
      ],
      "text/plain": [
       "             freq\n",
       "count  594.000000\n",
       "mean     1.910774\n",
       "std      2.591422\n",
       "min      1.000000\n",
       "25%      1.000000\n",
       "50%      1.000000\n",
       "75%      2.000000\n",
       "max     28.000000"
      ]
     },
     "execution_count": 170,
     "metadata": {},
     "output_type": "execute_result"
    }
   ],
   "source": [
    "freq_df.describe()"
   ]
  },
  {
   "cell_type": "markdown",
   "id": "31ac0047-72e0-4df5-bae9-7ce071d7dc3b",
   "metadata": {},
   "source": [
    "<font size=\"3\"><b>BAR CHART</b></font>"
   ]
  },
  {
   "cell_type": "code",
   "execution_count": 171,
   "id": "06cb84fe-2437-4fbb-ad40-ab653053042f",
   "metadata": {},
   "outputs": [
    {
     "data": {
      "text/plain": [
       "[Text(0.5, 0, 'Frequency'), Text(0, 0.5, 'Token'), Text(0.5, 1.0, 'Top Words')]"
      ]
     },
     "execution_count": 171,
     "metadata": {},
     "output_type": "execute_result"
    },
    {
     "data": {
      "image/png": "[encoded data removed]",
      "text/plain": [
       "<Figure size 1200x800 with 1 Axes>"
      ]
     },
     "metadata": {},
     "output_type": "display_data"
    }
   ],
   "source": [
    "#Bar chart \n",
    "\n",
    "ax = freq_df.head(15).plot(kind='barh', width=0.95, figsize=(12,8),)\n",
    "ax.invert_yaxis()\n",
    "ax.set(xlabel='Frequency', ylabel='Token', title='Top Words')\n"
   ]
  },
  {
   "cell_type": "markdown",
   "id": "7d7620d1-705c-4a7c-b488-6a3657a45c00",
   "metadata": {},
   "source": [
    "<font size=\"3\"><b>WORD CLOUD</b></font>"
   ]
  },
  {
   "cell_type": "code",
   "execution_count": 172,
   "id": "12363320-9614-40e4-b57d-af07d4a4041d",
   "metadata": {},
   "outputs": [
    {
     "name": "stdout",
     "output_type": "stream",
     "text": [
      "Requirement already satisfied: wordcloud in c:\\users\\aleky\\appdata\\local\\programs\\python\\python312\\lib\\site-packages (1.9.3)\n",
      "Requirement already satisfied: numpy>=1.6.1 in c:\\users\\aleky\\appdata\\local\\programs\\python\\python312\\lib\\site-packages (from wordcloud) (1.26.3)\n",
      "Requirement already satisfied: pillow in c:\\users\\aleky\\appdata\\local\\programs\\python\\python312\\lib\\site-packages (from wordcloud) (10.2.0)\n",
      "Requirement already satisfied: matplotlib in c:\\users\\aleky\\appdata\\local\\programs\\python\\python312\\lib\\site-packages (from wordcloud) (3.8.2)\n",
      "Requirement already satisfied: contourpy>=1.0.1 in c:\\users\\aleky\\appdata\\local\\programs\\python\\python312\\lib\\site-packages (from matplotlib->wordcloud) (1.2.0)\n",
      "Requirement already satisfied: cycler>=0.10 in c:\\users\\aleky\\appdata\\local\\programs\\python\\python312\\lib\\site-packages (from matplotlib->wordcloud) (0.12.1)\n",
      "Requirement already satisfied: fonttools>=4.22.0 in c:\\users\\aleky\\appdata\\local\\programs\\python\\python312\\lib\\site-packages (from matplotlib->wordcloud) (4.47.2)\n",
      "Requirement already satisfied: kiwisolver>=1.3.1 in c:\\users\\aleky\\appdata\\local\\programs\\python\\python312\\lib\\site-packages (from matplotlib->wordcloud) (1.4.5)\n",
      "Requirement already satisfied: packaging>=20.0 in c:\\users\\aleky\\appdata\\local\\programs\\python\\python312\\lib\\site-packages (from matplotlib->wordcloud) (23.2)\n",
      "Requirement already satisfied: pyparsing>=2.3.1 in c:\\users\\aleky\\appdata\\local\\programs\\python\\python312\\lib\\site-packages (from matplotlib->wordcloud) (3.1.1)\n",
      "Requirement already satisfied: python-dateutil>=2.7 in c:\\users\\aleky\\appdata\\local\\programs\\python\\python312\\lib\\site-packages (from matplotlib->wordcloud) (2.8.2)\n",
      "Requirement already satisfied: six>=1.5 in c:\\users\\aleky\\appdata\\local\\programs\\python\\python312\\lib\\site-packages (from python-dateutil>=2.7->matplotlib->wordcloud) (1.16.0)\n"
     ]
    },
    {
     "data": {
      "text/plain": [
       "(-0.5, 399.5, 199.5, -0.5)"
      ]
     },
     "execution_count": 172,
     "metadata": {},
     "output_type": "execute_result"
    },
    {
     "data": {
      "image/png": "[encoded data removed]",
      "text/plain": [
       "<Figure size 700x700 with 1 Axes>"
      ]
     },
     "metadata": {},
     "output_type": "display_data"
    }
   ],
   "source": [
    "#Word cloud\n",
    "!pip install wordcloud\n",
    "\n",
    "from wordcloud import WordCloud\n",
    "from matplotlib import pyplot as plt\n",
    "\n",
    "text = df.query(\"tweet_id==119333 and author_id =='105861'\")['text'].values[0]\n",
    "\n",
    "plt.figure(figsize=(7, 7)) ###\n",
    "wc = WordCloud(max_words=100, stopwords=stopwords)\n",
    "wc.generate(text)\n",
    "plt.imshow(wc, interpolation='bilinear')\n",
    "plt.axis(\"off\")"
   ]
  }
 ],
 "metadata": {
  "kernelspec": {
   "display_name": "Python 3 (ipykernel)",
   "language": "python",
   "name": "python3"
  },
  "language_info": {
   "codemirror_mode": {
    "name": "ipython",
    "version": 3
   },
   "file_extension": ".py",
   "mimetype": "text/x-python",
   "name": "python",
   "nbconvert_exporter": "python",
   "pygments_lexer": "ipython3",
   "version": "3.12.1"
  }
 },
 "nbformat": 4,
 "nbformat_minor": 5
}
