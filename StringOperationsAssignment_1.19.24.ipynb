{
 "cells": [
  {
   "cell_type": "markdown",
   "id": "cd57150c-8bd3-402f-b0e4-7647bb51ffe7",
   "metadata": {},
   "source": [
    "<font size=\"5\"><b><center>STRING OPERATIONS</center></b></font>\n",
    "\n",
    "String operations encompass a variety of actions and transformations carried out on strings, which are sequences of characters. In Python, strings are immutable objects, implying that their contents cannot be altered once they are created. However, Python offers a comprehensive set of built-in functions and methods tailored for manipulating strings without modifying the original string. These operations enable tasks such as extracting substrings, modifying case, searching for patterns, splitting and joining strings, and many others, facilitating efficient string processing and manipulation in Python programming."
   ]
  },
  {
   "cell_type": "markdown",
   "id": "746c9638-a6c3-40ca-8a64-07e774c3cc57",
   "metadata": {},
   "source": [
    "<font size=\"3\"><b>Regular Expressions (Regex)</font></b>: The re.sub() function applies a regex pattern (substituting any digit with an empty string in this case) to each string in the 'text' column."
   ]
  },
  {
   "cell_type": "code",
   "execution_count": 34,
   "id": "ea75d0e6-a3e0-42dc-b689-91f365852705",
   "metadata": {},
   "outputs": [
    {
     "name": "stdout",
     "output_type": "stream",
     "text": [
      "Extracted digits: 12345678905555555555\n"
     ]
    }
   ],
   "source": [
    "import re\n",
    "\n",
    "# Sample string containing phone numbers\n",
    "text = \"Contact us at 123-456-7890 or (555) 555-5555 for assistance.\"\n",
    "\n",
    "# Define a regular expression pattern for matching digits\n",
    "pattern = r'\\d+'\n",
    "\n",
    "# Use the findall() function to extract digits from the text\n",
    "digits = re.findall(pattern, text)\n",
    "\n",
    "# Join the extracted digits into a single string\n",
    "result = ''.join(digits)\n",
    "\n",
    "# Print the result\n",
    "print(\"Extracted digits:\", result)"
   ]
  },
  {
   "cell_type": "markdown",
   "id": "1a83d68c-b0e0-44c8-a7c5-a95e8500568c",
   "metadata": {},
   "source": [
    "<font size=\"3\"><b>Formatting</font></b> Formatting: strings using placeholders or f-strings."
   ]
  },
  {
   "cell_type": "code",
   "execution_count": 35,
   "id": "b39f5251-23f8-4528-bf8a-72a5e8e495d8",
   "metadata": {},
   "outputs": [
    {
     "name": "stdout",
     "output_type": "stream",
     "text": [
      "My name is Alekya and I am 16 years old.\n",
      "My name is Alekya and I am 16 years old.\n"
     ]
    }
   ],
   "source": [
    "# Define a variable 'name' and assign the string \"Alekya\" to it\n",
    "name = \"Alekya\"\n",
    "\n",
    "# Define a variable 'age' and assign the integer 30 to it\n",
    "age = 16\n",
    "\n",
    "# Use the `.format()` method to create a formatted string.\n",
    "# The '{}' placeholders will be replaced by the values of 'name' and 'age'\n",
    "message = \"My name is {} and I am {} years old.\".format(name, age)\n",
    "\n",
    "# Use f-string (formatted string literal) to create a formatted string.\n",
    "# The expressions within curly braces will be replaced by the values of 'name' and 'age'\n",
    "f_message = f\"My name is {name} and I am {age} years old.\"\n",
    "\n",
    "# Output for 'message' variable using `.format()` method\n",
    "print(message)\n",
    "# Output for 'f_message' variable using f-string\n",
    "print(f_message)"
   ]
  },
  {
   "cell_type": "markdown",
   "id": "21baf33a-832e-4b85-b060-b063202b7c3f",
   "metadata": {},
   "source": [
    "<font size=\"3\"><b>Finding Substrings</font></b>: Searching for the occurrence of a substring within a string."
   ]
  },
  {
   "cell_type": "code",
   "execution_count": 36,
   "id": "fcd2477c-b720-4487-b6e8-f285213ac2cd",
   "metadata": {},
   "outputs": [
    {
     "name": "stdout",
     "output_type": "stream",
     "text": [
      "True\n"
     ]
    }
   ],
   "source": [
    "# Define a string variable 'my_string' containing the text \"Hello, world!\"\n",
    "my_string = \"Hello, world!\"\n",
    "\n",
    "# Check whether the substring \"world\" is present within the string 'my_string'\n",
    "# The 'in' keyword is used to perform the substring search\n",
    "# The result (True or False) is assigned to the variable 'found'\n",
    "found = \"world\" in my_string\n",
    "\n",
    "print(found)"
   ]
  },
  {
   "cell_type": "markdown",
   "id": "f94895c9-183f-4abd-b264-c9064aeab198",
   "metadata": {},
   "source": [
    "<font size=\"3\"><b>Joining</font></b>: Combining elements of a list into a single string."
   ]
  },
  {
   "cell_type": "code",
   "execution_count": 37,
   "id": "5f3f1d91-8cc2-458a-93bb-2784fa8b93ed",
   "metadata": {},
   "outputs": [
    {
     "name": "stdout",
     "output_type": "stream",
     "text": [
      "Hello world!\n"
     ]
    }
   ],
   "source": [
    "# Define a list containing two string elements: \"Hello\" and \"world!\"\n",
    "words = [\"Hello\", \"world!\"]\n",
    "\n",
    "# Use the join() method to concatenate all elements of the 'words' list into a single string\n",
    "# The elements will be separated by a space character (\" \")\n",
    "# The resulting string \"Hello world!\" is assigned to the variable 'joined'\n",
    "joined = \" \".join(words)\n",
    "\n",
    "print(joined)"
   ]
  },
  {
   "cell_type": "markdown",
   "id": "0157fdc4-2d10-4142-825a-aa1f24a893dc",
   "metadata": {},
   "source": [
    "<font size=\"3\"><b>Replacing</font></b>:Replacing occurrences of a substring with another substring."
   ]
  },
  {
   "cell_type": "code",
   "execution_count": 48,
   "id": "b633b7ec-f7f2-4531-9b81-9dd5419b7671",
   "metadata": {},
   "outputs": [
    {
     "name": "stdout",
     "output_type": "stream",
     "text": [
      "Hello, Python!\n"
     ]
    }
   ],
   "source": [
    "# Define a string variable 'my_string' containing the text \"Hello, world!\"\n",
    "my_string = \"Hello, world!\"\n",
    "\n",
    "# Use the replace() method to replace all occurrences of the substring \"world\" with \"Python\" in 'my_string'\n",
    "# The resulting string \"Hello, Python!\" is assigned to the variable 'replaced'\n",
    "replaced = my_string.replace(\"world\", \"Python\")\n",
    "\n",
    "print(replaced)"
   ]
  },
  {
   "cell_type": "markdown",
   "id": "4033ccc7-6230-4ef4-ba0b-80c489148054",
   "metadata": {},
   "source": [
    "<font size=\"3\"><b>Partition</font></b>: Splits the string into three parts based on the specified separator, returning a tuple containing the part before the separator, the separator itself, and the part after the separator."
   ]
  },
  {
   "cell_type": "code",
   "execution_count": 47,
   "id": "0d30fadd-02bb-4a63-8304-86c5f7f1ee7a",
   "metadata": {},
   "outputs": [
    {
     "name": "stdout",
     "output_type": "stream",
     "text": [
      "('hello', ' ', 'world')\n"
     ]
    }
   ],
   "source": [
    "# Define a string variable 'txt' containing the text \"hello world\"\n",
    "txt = \"hello world\"\n",
    "\n",
    "# Use the partition() method to split the string 'txt' into three parts based on the first occurrence of the separator \" \"\n",
    "# The resulting tuple ('hello', ' ', 'world') is assigned to the variable 'x'\n",
    "x = txt.partition(\" \")\n",
    "\n",
    "print(x)"
   ]
  },
  {
   "cell_type": "markdown",
   "id": "5f51d353-1bc8-4683-9aae-34a65c58e754",
   "metadata": {},
   "source": [
    "<font size=\"3\"><b>rpartition</font></b>: Similar to partition(), but splits the string from the right and returns the last occurrence of the separator."
   ]
  },
  {
   "cell_type": "code",
   "execution_count": null,
   "id": "135cf518-af67-4f22-bf77-ceb2f5f6f020",
   "metadata": {},
   "outputs": [],
   "source": [
    "# Define a string variable 'txt' containing the text \"hello world\"\n",
    "txt = \"hello world\"\n",
    "\n",
    "# Use the rpartition() method to split the string 'txt' into three parts based on the last occurrence of the separator \" \"\n",
    "# The resulting tuple ('hello', ' ', 'world') is assigned to the variable 'x'\n",
    "x = txt.rpartition(\" \")\n",
    "\n",
    "print(x)"
   ]
  },
  {
   "cell_type": "markdown",
   "id": "5b814dae-defe-4562-bb35-50ff5bc97dd9",
   "metadata": {},
   "source": [
    "<font size=\"3\"><b>rjust()</font></b>: Returns a right-justified version of the string by padding the original string with a specified character on the left."
   ]
  },
  {
   "cell_type": "code",
   "execution_count": 39,
   "id": "67b48326-f651-4393-9074-53bc3a9ef14a",
   "metadata": {},
   "outputs": [
    {
     "name": "stdout",
     "output_type": "stream",
     "text": [
      "*****hello\n"
     ]
    }
   ],
   "source": [
    "# Define a string variable 'txt' containing the text \"hello\"\n",
    "txt = \"hello\"\n",
    "\n",
    "# Use the rjust() method to right-justify the string 'txt' within a string of width 10, padding it with '*' characters on the left side\n",
    "# The resulting string \"*****hello\" is assigned to the variable 'x'\n",
    "x = txt.rjust(10, '*')\n",
    "\n",
    "print(x)"
   ]
  },
  {
   "cell_type": "markdown",
   "id": "de5663a3-eb42-47da-b846-4431afd58204",
   "metadata": {},
   "source": [
    "<font size=\"3\"><b>ljust</font></b>: Returns a left-justified version of the string by padding the original string with a specified character on the right."
   ]
  },
  {
   "cell_type": "code",
   "execution_count": 40,
   "id": "c9090b27-54cf-4b00-9462-3fc113a9b5b7",
   "metadata": {},
   "outputs": [
    {
     "name": "stdout",
     "output_type": "stream",
     "text": [
      "hello*****\n"
     ]
    }
   ],
   "source": [
    "# Define a string variable 'txt' containing the text \"hello\"\n",
    "txt = \"hello\"\n",
    "\n",
    "# Use the ljust() method to left-justify the string 'txt' within a string of width 10, padding it with '*' characters on the right side\n",
    "# The resulting string \"hello*****\" is assigned to the variable 'x'\n",
    "x = txt.ljust(10, '*')\n",
    "\n",
    "print(x)"
   ]
  },
  {
   "cell_type": "markdown",
   "id": "f21114be-3806-4643-afbd-f57a225b9bfc",
   "metadata": {},
   "source": [
    "<font size=\"3\"><b>istitle</font></b>: Returns True if the string is titlecased (every word starts with an uppercase character and all other characters are lowercase)."
   ]
  },
  {
   "cell_type": "code",
   "execution_count": 41,
   "id": "36002bba-1d88-4f52-a924-3825245d4678",
   "metadata": {},
   "outputs": [
    {
     "name": "stdout",
     "output_type": "stream",
     "text": [
      "True\n"
     ]
    }
   ],
   "source": [
    "# Define a string variable 'txt' containing the text \"Hello World\"\n",
    "txt = \"Hello World\"\n",
    "\n",
    "# Use the istitle() method to check if the string 'txt' follows title case capitalization\n",
    "# The result (True or False) indicating whether the string is in title case is assigned to the variable 'x'\n",
    "x = txt.istitle()\n",
    "\n",
    "print(x)"
   ]
  },
  {
   "cell_type": "markdown",
   "id": "3a396549-3327-478e-8c9e-de5256fddafb",
   "metadata": {},
   "source": [
    "<font size=\"3\"><b>maketrans() and translate()</font></b>: maketrans() creates a translation table, and translate() performs translation using the table."
   ]
  },
  {
   "cell_type": "code",
   "execution_count": 42,
   "id": "83226237-c85d-48f9-b9a1-2148b844b29c",
   "metadata": {},
   "outputs": [
    {
     "name": "stdout",
     "output_type": "stream",
     "text": [
      "h2ll4 w4rld\n"
     ]
    }
   ],
   "source": [
    "# Define a string 'intab' containing the characters to be replaced\n",
    "intab = \"aeiou\"\n",
    "\n",
    "# Define a string 'outtab' containing the characters that will replace the corresponding characters in 'intab'\n",
    "outtab = \"12345\"\n",
    "\n",
    "# Define a string 'txt' containing the input text to be translated\n",
    "txt = \"hello world\"\n",
    "\n",
    "# Create a translation table using the maketrans() method, mapping characters from 'intab' to 'outtab'\n",
    "translation_table = txt.maketrans(intab, outtab)\n",
    "\n",
    "# Use the translate() method to apply the translation table to the input text 'txt'\n",
    "# The result is the translated text, which is assigned to the variable 'x'\n",
    "x = txt.translate(translation_table)\n",
    "\n",
    "\n",
    "print(x)"
   ]
  },
  {
   "cell_type": "markdown",
   "id": "70811c80-312b-4bee-b106-7a70ef604070",
   "metadata": {},
   "source": [
    "<font size=\"3\"><b>swapcase()</font></b>: Returns a string where all uppercase characters are converted to lowercase and vice versa."
   ]
  },
  {
   "cell_type": "code",
   "execution_count": 43,
   "id": "ce0fc962-a196-4ec2-9849-3577a73d1535",
   "metadata": {},
   "outputs": [
    {
     "name": "stdout",
     "output_type": "stream",
     "text": [
      "hELLO, WORLD!\n"
     ]
    }
   ],
   "source": [
    "# Define a string variable 'txt' containing the text \"Hello, world!\"\n",
    "txt = \"Hello, world!\"\n",
    "\n",
    "# Use the swapcase() method to swap the case of each character in the string 'txt'\n",
    "# Uppercase characters are converted to lowercase and vice versa\n",
    "# The resulting string with swapped case characters is assigned to the variable 'x'\n",
    "x = txt.swapcase()\n",
    "\n",
    "print(x)"
   ]
  },
  {
   "cell_type": "markdown",
   "id": "6a585edb-63d3-4539-b56d-5aa4091c4b0a",
   "metadata": {},
   "source": [
    "<font size=\"3\"><b>encode()</font></b>: Returns the encoded version of the string."
   ]
  },
  {
   "cell_type": "code",
   "execution_count": 44,
   "id": "2941d310-33f8-4f2e-8a56-d8dc230afb88",
   "metadata": {},
   "outputs": [
    {
     "name": "stdout",
     "output_type": "stream",
     "text": [
      "b'hello'\n"
     ]
    }
   ],
   "source": [
    "# Define a string variable 'txt' containing the text \"hello\"\n",
    "txt = \"hello\"\n",
    "\n",
    "# Use the encode() method to encode the string 'txt' using the default encoding (UTF-8)\n",
    "# The encoded bytes representing the string are assigned to the variable 'x'\n",
    "x = txt.encode()\n",
    "\n",
    "print(x)"
   ]
  },
  {
   "cell_type": "markdown",
   "id": "485557b9-87fb-4a3f-ac9d-92a91979c672",
   "metadata": {},
   "source": [
    "<font size=\"3\"><b>zfill()</font></b>: Returns a copy of the string filled with '0' digits on the left, making the string a specified width."
   ]
  },
  {
   "cell_type": "code",
   "execution_count": 45,
   "id": "dad889fa-486e-490f-a531-996916370f40",
   "metadata": {},
   "outputs": [
    {
     "name": "stdout",
     "output_type": "stream",
     "text": [
      "00042\n"
     ]
    }
   ],
   "source": [
    "# Define a string variable 'txt' containing the text \"42\"\n",
    "txt = \"42\"\n",
    "\n",
    "# Use the zfill() method to pad the string 'txt' with leading zeros to make its length 5 characters\n",
    "# The resulting padded string is assigned to the variable 'x'\n",
    "x = txt.zfill(5)\n",
    "\n",
    "print(x)"
   ]
  },
  {
   "cell_type": "markdown",
   "id": "c5d4123d-35a9-4eca-a9ea-7445b234ebaf",
   "metadata": {},
   "source": [
    "<font size=\"3\"><b>expandtabs()</font></b>: Returns a copy of the string where tab characters '\\t' are replaced with spaces, with the tab stops at specified intervals (default is 8)."
   ]
  },
  {
   "cell_type": "code",
   "execution_count": 46,
   "id": "93ea0dd4-fdfd-4093-a0d6-df7a6e4cb3a1",
   "metadata": {},
   "outputs": [
    {
     "name": "stdout",
     "output_type": "stream",
     "text": [
      "Hello   world!\n"
     ]
    }
   ],
   "source": [
    "# Define a string variable 'txt' containing the text \"Hello\\tworld!\"\n",
    "txt = \"Hello\\tworld!\"\n",
    "\n",
    "# Use the expandtabs() method to replace each tab character ('\\t') in the string 'txt' with spaces,\n",
    "# such that the distance between tab stops is equal to 4 spaces\n",
    "# The resulting string with expanded tabs is assigned to the variable 'x'\n",
    "x = txt.expandtabs(4)\n",
    "\n",
    "print(x)"
   ]
  }
 ],
 "metadata": {
  "kernelspec": {
   "display_name": "Python 3 (ipykernel)",
   "language": "python",
   "name": "python3"
  },
  "language_info": {
   "codemirror_mode": {
    "name": "ipython",
    "version": 3
   },
   "file_extension": ".py",
   "mimetype": "text/x-python",
   "name": "python",
   "nbconvert_exporter": "python",
   "pygments_lexer": "ipython3",
   "version": "3.12.1"
  }
 },
 "nbformat": 4,
 "nbformat_minor": 5
}
